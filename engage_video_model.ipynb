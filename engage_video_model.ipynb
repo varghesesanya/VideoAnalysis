{
  "nbformat": 4,
  "nbformat_minor": 0,
  "metadata": {
    "colab": {
      "name": "MIMAMO.ipynb",
      "provenance": [],
      "collapsed_sections": [
        "xv5wToDjFzKZ",
        "0RACuzWMlvZm"
      ]
    },
    "kernelspec": {
      "name": "python3",
      "display_name": "Python 3"
    },
    "accelerator": "GPU"
  },
  "cells": [
    {
      "cell_type": "markdown",
      "metadata": {
        "id": "NVvBNIM3cyHm",
        "colab_type": "text"
      },
      "source": [
        "# Imports and Downloads"
      ]
    },
    {
      "cell_type": "code",
      "metadata": {
        "id": "vf5K8gcAWkPc",
        "colab_type": "code",
        "colab": {}
      },
      "source": [
        "import torch\n",
        "from PIL import Image, ImageOps\n",
        "import torch.utils.data as data\n",
        "import torchvision.transforms as transforms\n",
        "import six\n",
        "import glob\n",
        "import os\n",
        "from os.path import join as pjoin\n",
        "import pickle\n",
        "from functools import reduce\n",
        "import pandas as pd\n",
        "import numpy as np\n",
        "from tqdm import tqdm\n",
        "from torch.nn import functional as F"
      ],
      "execution_count": null,
      "outputs": []
    },
    {
      "cell_type": "code",
      "metadata": {
        "id": "XpWskLkbNBFy",
        "colab_type": "code",
        "colab": {
          "base_uri": "https://localhost:8080/",
          "height": 34
        },
        "outputId": "da881652-ccd8-40d7-8a86-b697b9ab4c3c"
      },
      "source": [
        "#%cd drive/My Drive/OpenFace\n",
        "#!chmod 755 OpenFace/build/bin/FeatureExtraction"
      ],
      "execution_count": null,
      "outputs": [
        {
          "output_type": "stream",
          "text": [
            "/content/drive/My Drive/OpenFace\n"
          ],
          "name": "stdout"
        }
      ]
    },
    {
      "cell_type": "code",
      "metadata": {
        "id": "FaNrQd00NZnA",
        "colab_type": "code",
        "colab": {
          "base_uri": "https://localhost:8080/",
          "height": 434
        },
        "outputId": "5bfdc5b3-fc50-4e03-bb94-e8031711ec95"
      },
      "source": [
        "# RESNET DOWNLOAD + PYTORCH BENCHMARK\n",
        "\n",
        "! git clone https://github.com/albanie/pytorch-benchmarks.git\n",
        "! mkdir pytorch-benchmarks/ferplus/\n",
        "# Resnet Model and Weights\n",
        "! wget -P pytorch-benchmarks/ferplus/ http://www.robots.ox.ac.uk/~albanie/models/pytorch-mcn/resnet50_ferplus_dag.py\n",
        "! wget -P pytorch-benchmarks/ferplus/ http://www.robots.ox.ac.uk/~albanie/models/pytorch-mcn/resnet50_ferplus_dag.pth "
      ],
      "execution_count": null,
      "outputs": [
        {
          "output_type": "stream",
          "text": [
            "fatal: destination path 'pytorch-benchmarks' already exists and is not an empty directory.\n",
            "mkdir: cannot create directory ‘pytorch-benchmarks/ferplus/’: File exists\n",
            "--2020-07-04 21:53:40--  http://www.robots.ox.ac.uk/~albanie/models/pytorch-mcn/resnet50_ferplus_dag.py\n",
            "Resolving www.robots.ox.ac.uk (www.robots.ox.ac.uk)... 129.67.94.2\n",
            "Connecting to www.robots.ox.ac.uk (www.robots.ox.ac.uk)|129.67.94.2|:80... connected.\n",
            "HTTP request sent, awaiting response... 200 OK\n",
            "Length: 52420 (51K) [text/x-python]\n",
            "Saving to: ‘pytorch-benchmarks/ferplus/resnet50_ferplus_dag.py.1’\n",
            "\n",
            "resnet50_ferplus_da 100%[===================>]  51.19K   324KB/s    in 0.2s    \n",
            "\n",
            "2020-07-04 21:53:41 (324 KB/s) - ‘pytorch-benchmarks/ferplus/resnet50_ferplus_dag.py.1’ saved [52420/52420]\n",
            "\n",
            "--2020-07-04 21:53:43--  http://www.robots.ox.ac.uk/~albanie/models/pytorch-mcn/resnet50_ferplus_dag.pth\n",
            "Resolving www.robots.ox.ac.uk (www.robots.ox.ac.uk)... 129.67.94.2\n",
            "Connecting to www.robots.ox.ac.uk (www.robots.ox.ac.uk)|129.67.94.2|:80... connected.\n",
            "HTTP request sent, awaiting response... 200 OK\n",
            "Length: 94349036 (90M)\n",
            "Saving to: ‘pytorch-benchmarks/ferplus/resnet50_ferplus_dag.pth.1’\n",
            "\n",
            "resnet50_ferplus_da 100%[===================>]  89.98M  28.0MB/s    in 3.2s    \n",
            "\n",
            "2020-07-04 21:53:46 (28.0 MB/s) - ‘pytorch-benchmarks/ferplus/resnet50_ferplus_dag.pth.1’ saved [94349036/94349036]\n",
            "\n"
          ],
          "name": "stdout"
        }
      ]
    },
    {
      "cell_type": "code",
      "metadata": {
        "id": "bMWYC7treTKA",
        "colab_type": "code",
        "colab": {
          "base_uri": "https://localhost:8080/",
          "height": 52
        },
        "outputId": "309b68cd-afab-4559-c031-32c342f13452"
      },
      "source": [
        "# ANNOTATION FILE\n",
        "%cp /content/drive/My\\ Drive/Chalearn\\ Data/train-annotation.zip /content \n",
        "!unzip \"/content/train-annotation.zip\"\n",
        "\n",
        "def load_annotation(pickle_file):\n",
        "    with open(pickle_file, 'rb') as f:\n",
        "        pickle_data = pickle.load(f, encoding='latin1')\n",
        "        df = pd.DataFrame(pickle_data)\n",
        "        df.reset_index(inplace=True)\n",
        "        del df['interview']\n",
        "        df.columns = [\"VideoName\",\"ValueExtraversion\",\"ValueNeuroticism\",\"ValueAgreeableness\",\"ValueConscientiousness\",\"ValueOpenness\"]\n",
        "    return df\n",
        "\n",
        "annotation_df = load_annotation(\"/content/annotation_training.pkl\")\n",
        "annotation_list = annotation_df.values.tolist()"
      ],
      "execution_count": null,
      "outputs": [
        {
          "output_type": "stream",
          "text": [
            "Archive:  /content/train-annotation.zip\n",
            "replace annotation_training.pkl? [y]es, [n]o, [A]ll, [N]one, [r]ename: n\n"
          ],
          "name": "stdout"
        }
      ]
    },
    {
      "cell_type": "code",
      "metadata": {
        "id": "GO0SkNAzBjlE",
        "colab_type": "code",
        "colab": {
          "base_uri": "https://localhost:8080/",
          "height": 52
        },
        "outputId": "d6c7d2e7-7748-4379-b440-3d6e11308f6c"
      },
      "source": [
        "%cp -av /content/drive/My\\ Drive/opface_output_dir /content/images_dir1"
      ],
      "execution_count": null,
      "outputs": [
        {
          "output_type": "stream",
          "text": [
            "'/content/drive/My Drive/opface_output_dir' -> '/content/images_dir1/opface_output_dir'\n",
            "cp: cannot create symbolic link '/content/images_dir1/opface_output_dir': Operation not supported\n"
          ],
          "name": "stdout"
        }
      ]
    },
    {
      "cell_type": "code",
      "metadata": {
        "id": "FJinniGQB1mK",
        "colab_type": "code",
        "colab": {
          "base_uri": "https://localhost:8080/",
          "height": 34
        },
        "outputId": "5d393f37-358c-45a0-e71e-b9022bea74d3"
      },
      "source": [
        "video_list = glob.glob('/content/images_dir1/*.mp4')\n",
        "print(len(video_list))"
      ],
      "execution_count": null,
      "outputs": [
        {
          "output_type": "stream",
          "text": [
            "981\n"
          ],
          "name": "stdout"
        }
      ]
    },
    {
      "cell_type": "markdown",
      "metadata": {
        "id": "syev8OIcu9K5",
        "colab_type": "text"
      },
      "source": [
        "# Data Extraction; OpenFace"
      ]
    },
    {
      "cell_type": "code",
      "metadata": {
        "id": "guUbxeguPCnO",
        "colab_type": "code",
        "colab": {}
      },
      "source": [
        "class Video_Processor(object):\n",
        "  def __init__(self, size=112, nomask=True, grey=False, quiet=True,tracked_vid=False, noface_save=False,OpenFace_exe = 'OpenFace/build/bin/FeatureExtraction'):\n",
        "\n",
        "    self.size = size\n",
        "    self.nomask = nomask\n",
        "    self.grey = grey\n",
        "    self.quiet = quiet\n",
        "    self.tracked_vid = tracked_vid\n",
        "    self.noface_save = noface_save\n",
        "    self.OpenFace_exe = OpenFace_exe \n",
        "    \n",
        "    print(\"Should be path to Open Face\",self.OpenFace_exe)\n",
        "  def process(self, input_video, output_dir=None):\n",
        "\n",
        "      opface_option = \" -f \"+ input_video + \" -out_dir \"+ output_dir +\" -simsize \"+ str(self.size)\n",
        "      opface_option += \" -2Dfp -3Dfp -pdmparams -pose -aus -gaze -simalign \"\n",
        "\n",
        "      if not self.noface_save:\n",
        "          opface_option +=\" -nobadaligned \"\n",
        "      if self.tracked_vid:\n",
        "          opface_option +=\" -tracked \"\n",
        "      if self.nomask:\n",
        "          opface_option+= \" -nomask\"\n",
        "      if self.grey:\n",
        "          opface_option += \" -g\"\n",
        "      if self.quiet:\n",
        "          opface_option += \" -q\"\n",
        "\n",
        "      # Execution\n",
        "      call = self.OpenFace_exe + opface_option\n",
        "      os.system(call)\n"
      ],
      "execution_count": null,
      "outputs": []
    },
    {
      "cell_type": "code",
      "metadata": {
        "id": "wM4W0aNWOWkJ",
        "colab_type": "code",
        "colab": {}
      },
      "source": [
        "# The First Called Class\n",
        "class Tester(object):\n",
        "  def __init__(self,\n",
        "              # Parameters for testing\n",
        "                batch_size,\n",
        "                workers = 0,\n",
        "                \n",
        "                # Parameters for Video_Processor // All Features for OpenFace\n",
        "                save_size=112, nomask=True, grey=False, quiet=True,\n",
        "                tracked_vid=False, noface_save=False,\n",
        "                OpenFace_exe = 'OpenFace/build/bin/FeatureExtraction',\n",
        "\n",
        "                # Parameters for Snippet_Sampler\n",
        "                num_phase=12, phase_size = 48, \n",
        "                length=64, stride=64,\n",
        "\n",
        "                # Parameters for Phase_Difference_Extractor\n",
        "                height=4, nbands=2, scale_factor=2, \n",
        "                extract_level = [1,2]\n",
        "                ):\n",
        "\n",
        "      # Calling Video Processor \n",
        "      self.video_processor = Video_Processor(save_size, nomask, grey, quiet,tracked_vid, noface_save, OpenFace_exe)\n",
        "      #self.resnet50_extractor =  Resnet50_Extractor(benchmark_dir, model_name, feature_layer)\n",
        "      #self.phase_difference_extractor = Phase_Difference_Extractor(height, nbands, scale_factor, extract_level, not quiet)\n",
        "\n",
        "  def test(self, input_video):\n",
        "  # Glob the path to Unzipped Videos  \n",
        "    video_name = str(input_video.split('/')[-1])\n",
        "    # Input video is processed using OpenFace # Change Path to your Open Face Directory\n",
        "    !mkdir opface_output_dir/$video_name \n",
        "    # Calling Function Process (Video_Processor)\n",
        "    opface_output_dir_path = 'opface_output_dir/'+video_name\n",
        "    print(input_video, opface_output_dir_path)\n",
        "    self.video_processor.process(input_video, opface_output_dir_path)\n",
        "\n",
        "\n",
        "       "
      ],
      "execution_count": null,
      "outputs": []
    },
    {
      "cell_type": "code",
      "metadata": {
        "id": "zKQlCyYhImmj",
        "colab_type": "code",
        "colab": {}
      },
      "source": [
        "# Saving all the files to Drive\n",
        "import glob\n",
        "import os\n",
        "#tester = Tester( batch_size=64, workers=8, quiet=True)\n",
        "#video_list = glob.glob('/content/drive/.shortcut-targets-by-id/114/Unzipped_Videos/*.mp4')\n",
        "#for video_path in video_list[11:500]:\n",
        "  #tester.test(video_path)"
      ],
      "execution_count": null,
      "outputs": []
    },
    {
      "cell_type": "markdown",
      "metadata": {
        "id": "KizscUiR2ij3",
        "colab_type": "text"
      },
      "source": [
        "# Pre- Processing + Extra Functions"
      ]
    },
    {
      "cell_type": "code",
      "metadata": {
        "id": "ZAoSiYvN053C",
        "colab_type": "code",
        "colab": {
          "base_uri": "https://localhost:8080/",
          "height": 123
        },
        "outputId": "7d56aa41-1c35-4d23-da80-5544223cd520"
      },
      "source": [
        "\"\"\"\n",
        " Return:\n",
        "        (transforms.Compose): Composition of preprocessing transform\n",
        "# Transform Settings for the Pretrained Resnet Model\n",
        "def compose_transforms(meta, resize=256, center_crop=True,\n",
        "                       override_meta_imsize=False):\n",
        "  \n",
        "    normalize = transforms.Normalize(mean=meta['mean'], std=meta['std'])\n",
        "    im_size = meta['imageSize']\n",
        "    assert im_size[0] == im_size[1], 'expected square image size'\n",
        "    \n",
        "    # Transform 1 : Apply Center Crop\n",
        "    if center_crop:\n",
        "        transform_list = [transforms.Resize(resize),\n",
        "                          transforms.CenterCrop(size=(im_size[0], im_size[1]))]\n",
        "\n",
        "    else:\n",
        "        if override_meta_imsize:\n",
        "            im_size = (resize, resize)\n",
        "        transform_list = [transforms.Resize(size=(im_size[0], im_size[1]))]\n",
        "    transform_list += [transforms.ToTensor()]\n",
        "\n",
        "\n",
        "\n",
        "    if meta['std'] == [1, 1, 1]:  # common amongst MCN models\n",
        "        transform_list += [lambda x: x * 255.0]\n",
        "    transform_list.append(normalize)\n",
        "\n",
        "    return transforms.Compose(transform_list)\n",
        "\"\"\"    "
      ],
      "execution_count": null,
      "outputs": [
        {
          "output_type": "execute_result",
          "data": {
            "application/vnd.google.colaboratory.intrinsic": {
              "type": "string"
            },
            "text/plain": [
              "\"\\n Return:\\n        (transforms.Compose): Composition of preprocessing transform\\n# Transform Settings for the Pretrained Resnet Model\\ndef compose_transforms(meta, resize=256, center_crop=True,\\n                       override_meta_imsize=False):\\n  \\n    normalize = transforms.Normalize(mean=meta['mean'], std=meta['std'])\\n    im_size = meta['imageSize']\\n    assert im_size[0] == im_size[1], 'expected square image size'\\n    \\n    # Transform 1 : Apply Center Crop\\n    if center_crop:\\n        transform_list = [transforms.Resize(resize),\\n                          transforms.CenterCrop(size=(im_size[0], im_size[1]))]\\n\\n    else:\\n        if override_meta_imsize:\\n            im_size = (resize, resize)\\n        transform_list = [transforms.Resize(size=(im_size[0], im_size[1]))]\\n    transform_list += [transforms.ToTensor()]\\n\\n\\n\\n    if meta['std'] == [1, 1, 1]:  # common amongst MCN models\\n        transform_list += [lambda x: x * 255.0]\\n    transform_list.append(normalize)\\n\\n    return transforms.Compose(transform_list)\\n\""
            ]
          },
          "metadata": {
            "tags": []
          },
          "execution_count": 74
        }
      ]
    },
    {
      "cell_type": "code",
      "metadata": {
        "id": "4chJ-_k207oB",
        "colab_type": "code",
        "colab": {}
      },
      "source": [
        "def load_model(model_name, MODEL_DIR):\n",
        "    \"\"\"\n",
        "    Return:\n",
        "        nn.Module: the loaded network\n",
        "    \"\"\"\n",
        "    model_def_path = pjoin(MODEL_DIR, model_name + '.py')\n",
        "    weights_path = pjoin(MODEL_DIR, model_name + '.pth')\n",
        "    mod = load_module_2or3(model_name, model_def_path)\n",
        "    func = getattr(mod, model_name)\n",
        "    net = func(weights_path=weights_path)\n",
        "    return net\n",
        "\n",
        "def load_module_2or3(model_name, model_def_path):\n",
        "    \"\"\"Load model definition module in a manner that is compatible with\n",
        "    both Python2 and Python3\n",
        "    Args:\n",
        "        model_name: The name of the model to be loaded\n",
        "        model_def_path: The filepath of the module containing the definition\n",
        "    Return:\n",
        "        The loaded python module.\"\"\"\n",
        "    if six.PY3:\n",
        "        import importlib.util\n",
        "        spec = importlib.util.spec_from_file_location(model_name, model_def_path)\n",
        "        mod = importlib.util.module_from_spec(spec)\n",
        "        spec.loader.exec_module(mod)\n",
        "    else:\n",
        "        import importlib\n",
        "        dirname = os.path.dirname(model_def_path)\n",
        "        sys.path.insert(0, dirname)\n",
        "        module_name = os.path.splitext(os.path.basename(model_def_path))[0]\n",
        "        mod = importlib.import_module(module_name)\n",
        "    return mod    "
      ],
      "execution_count": null,
      "outputs": []
    },
    {
      "cell_type": "markdown",
      "metadata": {
        "id": "hodZd0lYreGt",
        "colab_type": "text"
      },
      "source": [
        "# Resnet50 Feature Prep"
      ]
    },
    {
      "cell_type": "markdown",
      "metadata": {
        "id": "ZB_TAbPjGIaA",
        "colab_type": "text"
      },
      "source": [
        "## Video Recorder"
      ]
    },
    {
      "cell_type": "code",
      "metadata": {
        "id": "_OVhSRuVrM9S",
        "colab_type": "code",
        "colab": {}
      },
      "source": [
        "class VideoRecord(object):\n",
        "  def __init__(self, video, face_dir, annot_dir, label_name, test_mode = False):\n",
        "    '''        \n",
        "    A VideoRecord that records all information of this video (and frames)\n",
        "    '''\n",
        "    self.video = video\n",
        "    self.face_dir = face_dir\n",
        "    self.annot_dir = annot_dir\n",
        "    self.label_name = label_name \n",
        "    self.test_mode = test_mode\n",
        "    self.path_label = self.get_path_label()\n",
        "    print(\"path_label ka output\", self.path_label)\n",
        "\n",
        "  def get_path_label(self):\n",
        "    '''        \n",
        "    Return all the frames and labels of this video\n",
        "    '''\n",
        "    # splitting frames\n",
        "    face_dir = self.face_dir\n",
        "    video = face_dir.split('/')[-1] \n",
        "    to_add = video.split('.')\n",
        "    video = to_add[0] + \".\" + to_add[1]\n",
        "\n",
        "\n",
        "    frames = glob.glob(os.path.join(face_dir, video+\"_aligned\", '*.bmp'))\n",
        "    frames = sorted(frames, key  = lambda x: os.path.basename(x).split(\".\")[0].split(\"_\")[-1])\n",
        "#print([frames, np.array([[-100]*5]*len(frames))])\n",
        "\n",
        "#print(name)\n",
        "\n",
        "    frames_list=[]\n",
        "    labels_list=[]\n",
        "    # Find The Labels for the video; assign to every frame\n",
        "    for i in updated_annotation:\n",
        "      label = []\n",
        "      if (face_dir.split('/')[-1] == i[0]):\n",
        "        label.append(i[1])\n",
        "        label.append(i[2])\n",
        "        label.append(i[3])\n",
        "        label.append(i[4])\n",
        "        label.append(i[5])\n",
        "       \n",
        "        # Every Other Frame till 35 frames; skipping the first 50\n",
        "        # Try all Frames\n",
        "        for idx,frame in enumerate(frames[50:120]):\n",
        "          if idx%2 == 1:\n",
        "            frames_list.append(frame)\n",
        "            labels_list.append(label)  \n",
        "\n",
        "    print(frames_list)\n",
        "    print(labels_list)    \n",
        "    return frames_list, labels_list\n",
        "    "
      ],
      "execution_count": null,
      "outputs": []
    },
    {
      "cell_type": "markdown",
      "metadata": {
        "id": "dDqHBDx7GLAb",
        "colab_type": "text"
      },
      "source": [
        "## Image Sampler"
      ]
    },
    {
      "cell_type": "code",
      "metadata": {
        "id": "ISdmApTorWH_",
        "colab_type": "code",
        "colab": {}
      },
      "source": [
        "class Image_Sampler(data.Dataset):\n",
        "  def __init__(self, video_name, root_path, test_mode =False,  \n",
        "      annot_dir=None, label_name=None, transform= None, verbose=False,\n",
        "      size = 224):\n",
        "      \n",
        "      self.video_name = video_name\n",
        "      self.root_path = root_path\n",
        "\n",
        "      self.annot_dir = annot_dir      \n",
        "      self.label_name = label_name\n",
        "      self.test_mode = test_mode\n",
        "      self.transform = transform\n",
        "      print(\"Check if None or value\", self.transform)\n",
        "      self.size = size\n",
        "      self.verbose = verbose\n",
        "      self.parse_video()\n",
        "      #self.frame_ids = None\n",
        "      if self.transform is None:\n",
        "          print(\"I will Create transforms\")\n",
        "          self._create_transform()\n",
        "      assert self.transform is not None\n",
        "      \n",
        "  def parse_video(self):\n",
        "      self.video_record = VideoRecord(self.video_name, self.root_path, \n",
        "          self.annot_dir, self.label_name, self.test_mode)\n",
        "      frames, labels = self.video_record.path_label\n",
        "      print(\"frames labels\", frames, labels)\n",
        "\n",
        "      if self.verbose:\n",
        "          print(\"video {} has {} frames\".format(self.video_name, len(frames)))\n",
        "      self.frame_ids = np.arange(len(frames))\n",
        "      print(self.frame_ids)\n",
        "\n",
        "  def __len__(self):\n",
        "        return len(self.frame_ids)\n",
        "\n",
        "  def __getitem__(self, index):\n",
        "        f_id = self.frame_ids[index]\n",
        "        frames, labels = self.video_record.path_label\n",
        "        frame, label = frames[f_id], labels[f_id]\n",
        "        img = Image.open(frame)\n",
        "        img = self.transform(img)\n",
        "        return img, label, frame, self.video_record.video\n",
        "  def _create_transform(self):\n",
        "    if not self.test_mode:\n",
        "        img_size = self.size\n",
        "        resize = int(img_size * 1.2)\n",
        "        transform_list = [transforms.Resize(resize),\n",
        "                          transforms.RandomCrop(img_size),\n",
        "                          transforms.ColorJitter(brightness=0.3, contrast=0.3, saturation=0.3),\n",
        "                          transforms.RandomHorizontalFlip(),\n",
        "                          transforms.ToTensor(),\n",
        "                          transforms.Normalize(mean=[0.485, 0.456, 0.406],\n",
        "                                                std=[0.229, 0.224, 0.225]),\n",
        "                        ]\n",
        "    else:\n",
        "        img_size = self.size\n",
        "        transform_list = [transforms.Resize(img_size),\n",
        "                        transforms.ToTensor(),\n",
        "                        transforms.Normalize(mean=[0.485, 0.456, 0.406],\n",
        "                                              std=[0.229, 0.224, 0.225]),\n",
        "                        ]\n",
        "    self.transform = transforms.Compose(transform_list)"
      ],
      "execution_count": null,
      "outputs": []
    },
    {
      "cell_type": "markdown",
      "metadata": {
        "id": "in2--cjtx5EI",
        "colab_type": "text"
      },
      "source": [
        "# Resnet50 Extractor"
      ]
    },
    {
      "cell_type": "code",
      "metadata": {
        "id": "Sl1DzuSjUaL_",
        "colab_type": "code",
        "colab": {}
      },
      "source": [
        "DEV_BATCH_SIZE = 64 # originally 16\n",
        "DEV_NUM_WORKERS = 16 # originally 0\n",
        "\n",
        "class Resnet50_Extractor(object):\n",
        "  def __init__(self, benchmark_dir = 'pytorch-benchmarks',model_name= 'resnet50_ferplus_dag',\n",
        "                feature_layer = 'pool5_7x7_s1'):\n",
        "    \n",
        "      ''' \n",
        "          Resnet50_Extractor: A feature extractor to extract the final convolutional layer's feature vector (2048 dimensional)\n",
        "          and save those feature vectors to npy file in an \n",
        "          output directory.\n",
        "      '''\n",
        "\n",
        "      self.benchmark_dir = 'pytorch-benchmarks'\n",
        "      self.model_name = model_name\n",
        "      self.feature_layer = feature_layer\n",
        "\n",
        "      \n",
        "      # load resnet50 model\n",
        "      model_dir = os.path.abspath(os.path.join(self.benchmark_dir, 'ferplus'))\n",
        "      self.model = load_model(self.model_name, model_dir)\n",
        "      self.model = self.model.to(device)\n",
        "      #print(self.model)\n",
        "      \n",
        "      self.model.eval()\n",
        "      #print(\"Prints the model only different from Train more inclined towards testing platform\", self.model.eval())\n",
        "\n",
        "      # load Tansformation Function\n",
        "      meta = self.model.meta\n",
        "      #self.transform = compose_transforms(meta, center_crop=True)\n",
        "      self.transform = None\n",
        "      #print(meta)\n",
        "      #print(self.transform)\n",
        "\n",
        "\n",
        "  def run(self, input_dir, output_dir, batch_size=DEV_BATCH_SIZE):\n",
        "        '''        \n",
        "        output_dir: string\n",
        "            All extracted feature vectors will be stored in output directory.\n",
        "        '''\n",
        "        print(input_dir)\n",
        "        video_name = os.path.basename(input_dir)\n",
        "        print(video_name)\n",
        "\n",
        "        # Transform jo conpose_transform se aya\n",
        "        dataset = Image_Sampler(video_name, input_dir, test_mode = False, transform=self.transform)\n",
        "        \n",
        "        \n",
        "        data_loader = torch.utils.data.DataLoader(\n",
        "            dataset, \n",
        "            batch_size = batch_size, \n",
        "            shuffle=False, drop_last=False,\n",
        "            num_workers=DEV_NUM_WORKERS, pin_memory=False )\n",
        "        if not os.path.exists(output_dir):\n",
        "            os.makedirs(output_dir)\n",
        "        else:\n",
        "            if (len(os.listdir(output_dir)) != 0):\n",
        "                if ('.npy' in os.listdir(output_dir)[0]):\n",
        "                    print(\"output_dir {} already exists, feature extraction skipped.\".format(output_dir))\n",
        "                    return\n",
        "        with torch.no_grad():\n",
        "            for ims, target, img_path, video_name in tqdm(data_loader):\n",
        "                ims = ims.to(device)\n",
        "                output = self.get_vec(ims)\n",
        "                for feature, path, video_n in zip(output, img_path, video_name):\n",
        "                    des_path = os.path.join(output_dir, \"%05d.npy\"%self.get_frame_index(path))\n",
        "                    np.save(des_path, feature)\n",
        "        return\n",
        "\n",
        "  def get_vec( self,  image):\n",
        "        bs = image.size(0)\n",
        "        layer = self.model._modules.get(self.feature_layer)\n",
        "        my_embedding= torch.zeros([bs, 2048, 1, 1])\n",
        "        def copy_data(m, i, o):\n",
        "            my_embedding.copy_(o.data)\n",
        "        h = layer.register_forward_hook(copy_data)\n",
        "        h_x = self.model(image)\n",
        "        h.remove()\n",
        "        return F.relu(my_embedding.squeeze())\n",
        "        \n",
        "  def get_frame_index(self, frame_path):\n",
        "        frame_name = frame_path.split('/')[-1]\n",
        "        frame_num  = int(frame_name.split('.')[0].split('_')[-1])\n",
        "        return frame_num      "
      ],
      "execution_count": null,
      "outputs": []
    },
    {
      "cell_type": "markdown",
      "metadata": {
        "id": "5z7p1CtQ3uvJ",
        "colab_type": "text"
      },
      "source": [
        "# Snippet Sampler"
      ]
    },
    {
      "cell_type": "code",
      "metadata": {
        "id": "laY1EU4W4KFa",
        "colab_type": "code",
        "colab": {}
      },
      "source": [
        "class Snippet_Sampler(data.Dataset):\n",
        "    def __init__(self, video_name, root_path, feature_path,\n",
        "                 annot_dir=None, label_name=None, test_mode =True, \n",
        "                 num_phase=12, phase_size = 48, \n",
        "                 length=64, stride=64,\n",
        "                 verbose=False):\n",
        "        '''Snippet_Sampler: An image sampler to sample snippets (a snippet consists of one RGB image and N\n",
        "        greyscale images). The main inputs to it are two directories, one is the OpenFace processed faces directory,\n",
        "        another is the directory containing renset50 feature vectors. \n",
        "        Parameters:\n",
        "            video_name: string\n",
        "                The processed video name\n",
        "            root_path: string\n",
        "                The directory path where cropped and aligned faces are stored (optionally other feature files).\n",
        "            feature_path, string,\n",
        "                The directory containing all renset50 feature vectors. \n",
        "            test_mode: bool, default False\n",
        "                If True, it means the image sampler will only sample images, not annotations. Then annot_dir,\n",
        "                label_name will not be used. And the labels will be dummy outputs.\n",
        "                If Fae length of snippets returned.\n",
        "            stride: int, default 32\n",
        "                The stride taken when sampling sequence of snippets. If stride<length, it means \n",
        "                adjacent sequenlse, the image sampler will sample both images and annotations. Then annot_dir, label_name\n",
        "                need to be specified.\n",
        "            label_name: string, default None\n",
        "                If test_mode is False, the label_name needs to be one of {'arousal', 'valence', 'arousal_valence'}\n",
        "            num_phase: int, default 12\n",
        "                number of phase difference images, input to the phase net of the mimamo net.\n",
        "            phase_size: int, default 48\n",
        "                phase image size, default is 48x48\n",
        "            length: int, default 64\n",
        "                Thce will overlap with each other.\n",
        "        '''\n",
        "        self.video_name = video_name\n",
        "        self.root_path = root_path\n",
        "        self.feature_path = feature_path\n",
        "        self.annot_dir = annot_dir\n",
        "        \n",
        "        self.label_name = label_name\n",
        "        self.test_mode = test_mode\n",
        "        self.length = length \n",
        "        self.stride = stride \n",
        "        self.num_phase = num_phase\n",
        "        self.phase_size = phase_size\n",
        "        self.verbose = verbose\n",
        "        self.parse_video()\n",
        "\n",
        "    def parse_video(self):\n",
        "        \n",
        "        self.video_record = VideoRecord(self.video_name, self.feature_path, \n",
        "            self.annot_dir, self.label_name, self.test_mode)\n",
        "        frames, labels = self.video_record.path_label\n",
        "        self.seq_ranges = list()\n",
        "        start, end = 0, self.length\n",
        "        while end < len(frames) and (start<len(frames)):\n",
        "            self.seq_ranges.append([start, end]) \n",
        "            start +=self.stride\n",
        "            end = start+self.length\n",
        "\n",
        "        if self.seq_ranges[-1][1] < len(frames):\n",
        "            start = len(frames) - self.length\n",
        "            end = len(frames)\n",
        "            self.seq_ranges.append([start, end])  \n",
        "        if self.verbose:        \n",
        "            print(\"videos {}, number of seqs:{}\".format(self.video_name, len(self.seq_ranges)))\n",
        "\n",
        "    def __len__(self):\n",
        "        return len(self.seq_ranges)\n",
        "    def __getitem__(self, index):\n",
        "        \n",
        "        seq_ranges = self.seq_ranges[index]\n",
        "        start, end = seq_ranges\n",
        "        frames, labels = self.video_record.path_label\n",
        "        seq_frames, seq_labels = frames[start:end], labels[start:end]\n",
        "        # sample rgb images (features)\n",
        "        imgs = []\n",
        "        for f in seq_frames:\n",
        "            imgs.append(np.load(f))\n",
        "        # sample phase images \n",
        "        # figure ids\n",
        "        sample_f_ids = []\n",
        "        for f_id in range(start, end):\n",
        "            phase_ids = []\n",
        "            for i in range(self.num_phase+1):\n",
        "                step = i-self.num_phase//2\n",
        "                id_0 = max(0,f_id + step)\n",
        "                id_0 = min(id_0, len(frames)-1) \n",
        "                phase_ids.append(id_0)\n",
        "            sample_f_ids.append(phase_ids)\n",
        "        sample_frames = [[frames[id] for id in ids] for ids in sample_f_ids]\n",
        "        # load greyscale images\n",
        "        phase_images= []\n",
        "        for frames in sample_frames:\n",
        "            phase_img_list = []\n",
        "            for frame in frames:\n",
        "                f_index = int(os.path.basename(frame).split(\".\")[0])\n",
        "                img_frame = os.path.join(self.root_path, self.video_record.video+\"_aligned\", \n",
        "                    'frame_det_00_{:06d}.bmp'.format(f_index))\n",
        "                try:\n",
        "                   img = Image.open(img_frame).convert('L')\n",
        "                except:\n",
        "                    raise ValueError(\"incorrect face path\")    \n",
        "                phase_img_list.append(img)\n",
        "            phase_images.append(phase_img_list)\n",
        "        if not self.test_mode:\n",
        "            random_seed = np.random.randint(250)\n",
        "            phase_transform = torchvision.transforms.Compose(\n",
        "                                   [GroupRandomHorizontalFlip(seed=random_seed),\n",
        "                                   GroupRandomCrop(size=int(self.phase_size*0.85), seed=random_seed),\n",
        "                                   GroupScale(size=self.phase_size),\n",
        "                                   Stack(),\n",
        "                                   ToTorchFormatTensor()])\n",
        "        else:\n",
        "            phase_transform = torchvision.transforms.Compose([\n",
        "                                   GroupScale(size=self.phase_size),\n",
        "                                   Stack(),\n",
        "                                   ToTorchFormatTensor()]) \n",
        "        flat_phase_images = []\n",
        "        for sublist in phase_images:\n",
        "            flat_phase_images.extend(sublist)\n",
        "        flat_phase_images = phase_transform(flat_phase_images)\n",
        "        phase_images = flat_phase_images.view(len(phase_images), self.num_phase+1, self.phase_size, self.phase_size)\n",
        "        return phase_images, np.array(imgs), np.array(seq_labels), np.array([start, end]), self.video_record.video\n",
        "    \n",
        "\n",
        "## TRAIN\n",
        "\n",
        "# if __name__ == \"__main__\":\n",
        "\n",
        "#     from dataloader import Face_Dataset\n",
        "#     import os\n",
        "#     \n",
        "#     train_dataset = Face_Dataset(root_path, feature_path, annot_dir, video_names, label_name='arousal', test_mode=False, num_phase=12, length=64, stride=32)\n",
        "#     train_loader = torch.utils.data.DataLoader(\n",
        "#         train_dataset, \n",
        "#         batch_size = 2, \n",
        "#         num_workers=0, pin_memory=False )\n",
        "#     model = Two_Stream_RNN(mlp_hidden_units=[2048, 256, 256])\n",
        "#     model.cuda()\n",
        "#     model.train()\n",
        "#     for phase_f, rgb_f, labels, ranges, videos in train_loader:\n",
        "#         phase_0, phase_1 = phase_f\n",
        "#         phase_0 = phase_0.type('torch.FloatTensor').cuda()\n",
        "#         phase_1 = phase_1.type('torch.FloatTensor').cuda()\n",
        "#         rgb_f = rgb_f.type('torch.FloatTensor').cuda()\n",
        "#         labels = labels.type('torch.FloatTensor').cuda()\n",
        "#         out = model([phase_0,phase_1], rgb_f)"
      ],
      "execution_count": null,
      "outputs": []
    },
    {
      "cell_type": "markdown",
      "metadata": {
        "id": "9_4QSZrrqRAc",
        "colab_type": "text"
      },
      "source": [
        "# My 3 Models"
      ]
    },
    {
      "cell_type": "markdown",
      "metadata": {
        "id": "xv5wToDjFzKZ",
        "colab_type": "text"
      },
      "source": [
        "## Fully Connected Layers"
      ]
    },
    {
      "cell_type": "code",
      "metadata": {
        "id": "eXkuwA1DqTv1",
        "colab_type": "code",
        "colab": {
          "base_uri": "https://localhost:8080/",
          "height": 236
        },
        "outputId": "8f32eb39-7092-4f02-d909-7eb03a320152"
      },
      "source": [
        "class MLP(nn.Module):\n",
        "    def __init__(self, hidden_units, dropout=0.3):\n",
        "        super(MLP, self).__init__()\n",
        "        input_feature_dim = hidden_units[0]\n",
        "        num_layers = len(hidden_units)-1\n",
        "        assert num_layers>0\n",
        "        assert hidden_units[-1]==256\n",
        "        fc_list = []\n",
        "        for hidden_dim in hidden_units[1:]:\n",
        "            fc_list += [ nn.Dropout(dropout),\n",
        "                        nn.Linear(input_feature_dim, hidden_dim),\n",
        "                        nn.BatchNorm1d(hidden_dim),\n",
        "                        nn.ReLU(inplace=True)\n",
        "                        ]\n",
        "            input_feature_dim = hidden_dim\n",
        "        self.mlp = nn.Sequential(*fc_list)\n",
        "    def forward(self, input_tensor):\n",
        "        bs, num_frames, feature_dim = input_tensor.size()\n",
        "        input_tensor = input_tensor.view(bs*num_frames, feature_dim)\n",
        "        out = self.mlp(input_tensor)\n",
        "        return out.view(bs, num_frames, -1)"
      ],
      "execution_count": null,
      "outputs": [
        {
          "output_type": "error",
          "ename": "NameError",
          "evalue": "ignored",
          "traceback": [
            "\u001b[0;31m---------------------------------------------------------------------------\u001b[0m",
            "\u001b[0;31mNameError\u001b[0m                                 Traceback (most recent call last)",
            "\u001b[0;32m<ipython-input-15-2dc63103e302>\u001b[0m in \u001b[0;36m<module>\u001b[0;34m()\u001b[0m\n\u001b[0;32m----> 1\u001b[0;31m \u001b[0;32mclass\u001b[0m \u001b[0mMLP\u001b[0m\u001b[0;34m(\u001b[0m\u001b[0mnn\u001b[0m\u001b[0;34m.\u001b[0m\u001b[0mModule\u001b[0m\u001b[0;34m)\u001b[0m\u001b[0;34m:\u001b[0m\u001b[0;34m\u001b[0m\u001b[0;34m\u001b[0m\u001b[0m\n\u001b[0m\u001b[1;32m      2\u001b[0m     \u001b[0;32mdef\u001b[0m \u001b[0m__init__\u001b[0m\u001b[0;34m(\u001b[0m\u001b[0mself\u001b[0m\u001b[0;34m,\u001b[0m \u001b[0mhidden_units\u001b[0m\u001b[0;34m,\u001b[0m \u001b[0mdropout\u001b[0m\u001b[0;34m=\u001b[0m\u001b[0;36m0.3\u001b[0m\u001b[0;34m)\u001b[0m\u001b[0;34m:\u001b[0m\u001b[0;34m\u001b[0m\u001b[0;34m\u001b[0m\u001b[0m\n\u001b[1;32m      3\u001b[0m         \u001b[0msuper\u001b[0m\u001b[0;34m(\u001b[0m\u001b[0mMLP\u001b[0m\u001b[0;34m,\u001b[0m \u001b[0mself\u001b[0m\u001b[0;34m)\u001b[0m\u001b[0;34m.\u001b[0m\u001b[0m__init__\u001b[0m\u001b[0;34m(\u001b[0m\u001b[0;34m)\u001b[0m\u001b[0;34m\u001b[0m\u001b[0;34m\u001b[0m\u001b[0m\n\u001b[1;32m      4\u001b[0m         \u001b[0minput_feature_dim\u001b[0m \u001b[0;34m=\u001b[0m \u001b[0mhidden_units\u001b[0m\u001b[0;34m[\u001b[0m\u001b[0;36m0\u001b[0m\u001b[0;34m]\u001b[0m\u001b[0;34m\u001b[0m\u001b[0;34m\u001b[0m\u001b[0m\n\u001b[1;32m      5\u001b[0m         \u001b[0mnum_layers\u001b[0m \u001b[0;34m=\u001b[0m \u001b[0mlen\u001b[0m\u001b[0;34m(\u001b[0m\u001b[0mhidden_units\u001b[0m\u001b[0;34m)\u001b[0m\u001b[0;34m-\u001b[0m\u001b[0;36m1\u001b[0m\u001b[0;34m\u001b[0m\u001b[0;34m\u001b[0m\u001b[0m\n",
            "\u001b[0;31mNameError\u001b[0m: name 'nn' is not defined"
          ]
        }
      ]
    },
    {
      "cell_type": "markdown",
      "metadata": {
        "id": "C6hqgDGPGzXj",
        "colab_type": "text"
      },
      "source": [
        "## PhaseNet"
      ]
    },
    {
      "cell_type": "code",
      "metadata": {
        "id": "J4IwL2esqvxz",
        "colab_type": "code",
        "colab": {}
      },
      "source": [
        "class PhaseNet(nn.Module):\n",
        "    def __init__(self, input_size, num_channels, hidden_units=[256, 256, 1] , dropout=0.3, feature=False):\n",
        "        super(PhaseNet,self).__init__()\n",
        "        # input size : 2**i times 6 or 7\n",
        "        if input_size not in [48, 96, 112]:\n",
        "               raise ValueError(\"Incorrect input size\")\n",
        "        if input_size==48:\n",
        "            num_conv_layers = 3\n",
        "        else:\n",
        "            num_conv_layers = 4\n",
        "        if input_size==48 or input_size==96:\n",
        "            last_conv_width = 6\n",
        "        else:\n",
        "            last_conv_width = 7\n",
        "        self.conv_net = []\n",
        "        for i in range(num_conv_layers):\n",
        "            if i==0:\n",
        "                self.conv_net.append(self._make_conv_layer(num_channels, 2**(i+6), kernel_size=3, stride=2))\n",
        "            elif i==1:\n",
        "                self.conv_net.append(self._make_conv_layer(num_channels+2**(i-1+6), 2**(i+6), kernel_size=3, stride=2))\n",
        "            else:\n",
        "                self.conv_net.append(self._make_conv_layer(2**(i-1+6), 2**(i+6), kernel_size=3, stride=2))\n",
        "        last_conv_dim = 2**(i+6)\n",
        "        self.conv_net = nn.ModuleList(self.conv_net)\n",
        "        self.dropout = nn.Dropout2d(p=0.2)\n",
        "        self.avgpool = nn.AvgPool2d(kernel_size=[last_conv_width, last_conv_width])\n",
        "        fc_list =[]\n",
        "        fc_list += [nn.Linear(last_conv_dim, hidden_units[0]),\n",
        "                       nn.ReLU(inplace=True),\n",
        "                       nn.BatchNorm1d(hidden_units[1]),\n",
        "                       nn.Dropout(dropout)]\n",
        "        for i in range(0, len(hidden_units)-2):\n",
        "            fc_list += [nn.Linear(hidden_units[i], hidden_units[i+1]),\n",
        "                       nn.ReLU(inplace=True),\n",
        "                       nn.BatchNorm1d(hidden_units[i+1]),\n",
        "                       nn.Dropout(dropout)]\n",
        "        self.fc = nn.Sequential(*fc_list)\n",
        "        final_norm = nn.BatchNorm1d(1, eps=1e-6, momentum=0.1) \n",
        "        self.classifier = nn.Sequential(nn.Linear(hidden_units[-2], hidden_units[-1]),\n",
        "                                 final_norm )\n",
        "        self.feature = feature\n",
        "    def _make_conv_layer(self, in_c, out_c, kernel_size = 3, stride = 2):\n",
        "        ks = kernel_size \n",
        "        conv_layer = nn.Sequential(\n",
        "        nn.Conv2d(in_c, out_c, kernel_size=(ks, ks), padding=ks//2),\n",
        "        nn.BatchNorm2d(out_c, eps=1e-05, momentum=0.1, affine=True, track_running_stats=True),\n",
        "        nn.ReLU(inplace=True),\n",
        "        nn.Conv2d(out_c, out_c, kernel_size=(ks, ks), padding=ks//2,stride=stride),\n",
        "        nn.BatchNorm2d(out_c, eps=1e-05, momentum=0.1, affine=True, track_running_stats=True),\n",
        "        nn.ReLU(inplace=True),\n",
        "        )\n",
        "        return conv_layer\n",
        "    def forward(self, data_level0, data_level1):\n",
        "        bs, num_frames,  num_channel, W0, H0 = data_level0.size()\n",
        "        bs, num_frames, num_channel,  W1, H1 = data_level1.size()\n",
        "        trans_data_level0 = data_level0.view(bs*num_frames, num_channel, W0, H0 )\n",
        "        trans_data_level1 = data_level1.view(bs* num_frames, num_channel,  W1, H1)\n",
        "        conv1 = self.conv_net[0](trans_data_level0)\n",
        "        conv_out = torch.cat([conv1, trans_data_level1], dim=1) \n",
        "        for layer in self.conv_net[1:]:\n",
        "            conv_out = self.dropout(layer(conv_out))\n",
        "        avgpool = self.avgpool(conv_out)\n",
        "        avgpool = avgpool.view(bs*num_frames, -1)\n",
        "        out = self.fc(avgpool)\n",
        "        if self.feature:\n",
        "            return out\n",
        "        else:\n",
        "            out = self.classifier(out)\n",
        "            return out"
      ],
      "execution_count": null,
      "outputs": []
    },
    {
      "cell_type": "markdown",
      "metadata": {
        "id": "fIPl7LFeF4su",
        "colab_type": "text"
      },
      "source": [
        "## Two Stream RNN"
      ]
    },
    {
      "cell_type": "code",
      "metadata": {
        "id": "AZz3TwduqZB_",
        "colab_type": "code",
        "colab": {}
      },
      "source": [
        "class Two_Stream_RNN(nn.Module):\n",
        "    def __init__(self, mlp_hidden_units=[2048, 256, 256], dropout=0.5, label_name = 'arousal_valence', \n",
        "        num_phase=12):\n",
        "        super(Two_Stream_RNN, self).__init__()\n",
        "        '''    \n",
        "        Definition of the MIMAMO Net, consisting of a spatial stream and a temperal stream, followed\n",
        "         by a RNN.\n",
        "        Parameters: \n",
        "            mlp_hidden_units: list of int, default is [2048, 256, 256]\n",
        "                The MLP defined to transform the Resnet50 feature from 2048 dimensions to 256 dimensions\n",
        "            label_name: string, one of {'arousal', 'valence', 'arousal_valence'}\n",
        "                The label name decides the output layer dimensions\n",
        "            num_phase: int, default 12\n",
        "                number of phase difference images, input to the phase net.\n",
        "        '''\n",
        "        \n",
        "        self.mlp = MLP(mlp_hidden_units)\n",
        "        self.num_phase = num_phase\n",
        "        self.phasenet = PhaseNet(48, 2*num_phase, hidden_units =[256, 256, 1], dropout=0.3, feature=True)\n",
        "        self.transform = nn.Sequential(nn.Linear(512, 256),\n",
        "                                      nn.ReLU(inplace=True),\n",
        "                                      nn.BatchNorm1d(256),\n",
        "                                      nn.Dropout(dropout))\n",
        "        self.rnns = nn.GRU(256, 128, bidirectional=True, num_layers=2, dropout = 0.3)\n",
        "        self.classifier = nn.Sequential(nn.Dropout(dropout),\n",
        "                                        nn.Linear(256, len(label_name.split(\"_\"))),\n",
        "                                        nn.BatchNorm1d(len(label_name.split(\"_\"))))\n",
        "    def load_model_weights(self, model, model_path):\n",
        "        ckp = torch.load(model_path)\n",
        "        net_key = [key for key in ckp.keys() if (key !='epoch') and (key !='iter')][0]\n",
        "        state_dict = ckp[net_key]\n",
        "        model.load_state_dict(state_dict)\n",
        "        return model\n",
        "    def forward(self, phase_data, rgb_data):\n",
        "        bs, num_frames = rgb_data.size(0), rgb_data.size(1)\n",
        "        features_cnn = self.mlp(rgb_data)\n",
        "        features_spatial = features_cnn.view(bs, num_frames, -1)\n",
        "        phase_0, phase_1 = phase_data\n",
        "        features_temporal = self.phasenet(phase_0, phase_1)\n",
        "        features_temporal = features_temporal.view(bs, num_frames, -1)\n",
        "        features = torch.cat([features_spatial, features_temporal], dim=-1)\n",
        "        features = self.transform(features.view(bs*num_frames, -1))\n",
        "        features = features.view(bs, num_frames, -1)\n",
        "        outputs_rnns,  _ = self.rnns(features)\n",
        "        outputs_rnns = outputs_rnns.view(bs* num_frames, -1)\n",
        "        out = self.classifier(outputs_rnns)\n",
        "        out = out.view(bs, num_frames, -1)\n",
        "        return out"
      ],
      "execution_count": null,
      "outputs": []
    },
    {
      "cell_type": "markdown",
      "metadata": {
        "id": "tsMd0ozy4K01",
        "colab_type": "text"
      },
      "source": [
        "# Train "
      ]
    },
    {
      "cell_type": "code",
      "metadata": {
        "id": "c5wyUFLvNDgA",
        "colab_type": "code",
        "colab": {
          "base_uri": "https://localhost:8080/",
          "height": 123
        },
        "outputId": "ae4006a4-e5fc-4c2d-f353-9a9f59767cc5"
      },
      "source": [
        "class Trainer(object):\n",
        "  def __init__(self,\n",
        "                # Parameters for Resnet50_Extractor\n",
        "                  benchmark_dir = 'pytorch-benchmarks',model_name= 'resnet50_ferplus_dag',\n",
        "                  feature_layer = 'pool5_7x7_s1',\n",
        "                \n",
        "                  # Parameters for Snippet_Sampler\n",
        "                  num_phase=12, phase_size = 48, \n",
        "                  length=64, stride=64,):\n",
        "    \n",
        "    self.resnet50_extractor =  Resnet50_Extractor(benchmark_dir, model_name, feature_layer)\n",
        "    #self.phase_difference_extractor = Phase_Difference_Extractor(height, nbands, scale_factor, extract_level, not quiet)\n",
        "    #self.model = Two_Stream_RNN()\n",
        "  \n",
        "  def train(self, video_name):\n",
        "    #The Center Cropped Resized to 224 x 224 and aligned faces are fed to resnet50_extractor\n",
        "    %mkdir \"/content/resnet_features\"\n",
        "    feature_dir = os.path.join(os.path.dirname(\"/content/resnet_features\"), video_name+\"_pool5\")\n",
        "    self.resnet50_extractor.run(os.path.join(os.path.dirname(\"/content/images_dir1/\"),video_name), feature_dir)\n",
        "    \n",
        "    \n",
        "    # Sampling images\n",
        "    dataset = Snippet_Sampler(video_name, opface_output_dir, feature_dir,\n",
        "      annot_dir = None, label_name = 'valence_arousal',\n",
        "        test_mode = False, num_phase=self.num_phase, phase_size = self.phase_size, \n",
        "        length=self.length, stride=self.stride)\n",
        "'''    \n",
        "    data_loader = torch.utils.data.DataLoader(\n",
        "                    dataset,\n",
        "                    batch_size=self.batch_size,\n",
        "                    num_workers=self.workers, pin_memory=False)\n",
        "    results = self.test_on_dataloader(data_loader, self.model)\n",
        "    return results  \n",
        "\n",
        "\n",
        " def train_on_dataloader(self, dataloader, model, train_mean=None, train_std=None):\n",
        "        model.eval()\n",
        "        sample_names = []\n",
        "        sample_preds = []\n",
        "        sample_ranges = []\n",
        "        for i, data_batch in enumerate(dataloader):\n",
        "            phase_f, rgb_f, label, ranges, names = data_batch\n",
        "            with torch.no_grad():\n",
        "                phase_f = phase_f.type('torch.FloatTensor').to(device)\n",
        "                phase_0, phase_1 = self.phase_diff_output(phase_f, self.phase_difference_extractor)\n",
        "                rgb_f = Variable(rgb_f.type('torch.FloatTensor').to(device))\n",
        "                phase_0 = Variable(phase_0.type('torch.FloatTensor').to(device))\n",
        "                phase_1 = Variable(phase_1.type('torch.FloatTensor').to(device))\n",
        "            \n",
        "            output = model([phase_0,phase_1], rgb_f)\n",
        "            sample_names.append(names)\n",
        "            sample_ranges.append(ranges)\n",
        "            sample_preds.append(output.cpu().data.numpy())\n",
        "        sample_names = np.concatenate([arr for arr in sample_names], axis=0)\n",
        "        sample_preds = np.concatenate([arr for arr in sample_preds], axis=0)\n",
        "        n_sample, n_length, n_labels = sample_preds.shape\n",
        "        if train_mean is not None and train_std is not None:\n",
        "            # scale \n",
        "            trans_sample_preds = sample_preds.reshape(-1, n_labels)\n",
        "            trans_sample_preds = np.array([correct(trans_sample_preds[:, i], train_mean[i], train_std[i]) for i  in range(n_labels)])\n",
        "            sample_preds = trans_sample_preds.reshape(n_sample, n_length, n_labels)\n",
        "        sample_ranges = np.concatenate([arr for arr in sample_ranges], axis=0)\n",
        "        video_dict = {}\n",
        "        for video in sample_names:\n",
        "            mask = sample_names==video\n",
        "            video_ranges = sample_ranges[mask]\n",
        "            if video not in video_dict.keys():\n",
        "                max_len = max([ranges[-1] for ranges in video_ranges])\n",
        "                video_dict[video] = np.zeros((max_len, n_labels))\n",
        "            video_preds = sample_preds[mask]\n",
        "            # make sure the dataset returns full range of video frames\n",
        "            min_f, max_f = 0, 0\n",
        "            for rg, pred in zip(video_ranges, video_preds):\n",
        "                start, end = rg\n",
        "                video_dict[video][start:end, :] = pred\n",
        "          \n",
        "      min_f = min(min_f, start)\n",
        "                max_f = max(max_f, end)\n",
        "            assert (min_f==0) and (max_f == max_len)\n",
        "        for video in video_dict.keys():\n",
        "            video_dict[video] = pd.DataFrame(data=video_dict[video], columns=self.label_name)\n",
        "        return video_dict  \n",
        "'''        "
      ],
      "execution_count": null,
      "outputs": [
        {
          "output_type": "execute_result",
          "data": {
            "application/vnd.google.colaboratory.intrinsic": {
              "type": "string"
            },
            "text/plain": [
              "\"\\n def train_on_dataloader(self, dataloader, model, train_mean=None, train_std=None):\\n        model.eval()\\n        sample_names = []\\n        sample_preds = []\\n        sample_ranges = []\\n        for i, data_batch in enumerate(dataloader):\\n            phase_f, rgb_f, label, ranges, names = data_batch\\n            with torch.no_grad():\\n                phase_f = phase_f.type('torch.FloatTensor').to(device)\\n                phase_0, phase_1 = self.phase_diff_output(phase_f, self.phase_difference_extractor)\\n                rgb_f = Variable(rgb_f.type('torch.FloatTensor').to(device))\\n                phase_0 = Variable(phase_0.type('torch.FloatTensor').to(device))\\n                phase_1 = Variable(phase_1.type('torch.FloatTensor').to(device))\\n            \\n            output = model([phase_0,phase_1], rgb_f)\\n            sample_names.append(names)\\n            sample_ranges.append(ranges)\\n            sample_preds.append(output.cpu().data.numpy())\\n        sample_names = np.concatenate([arr for arr in sample_names], axis=0)\\n        sample_preds = np.concatenate([arr for arr in sample_preds], axis=0)\\n        n_sample, n_length, n_labels = sample_preds.shape\\n        if train_mean is not None and train_std is not None:\\n            # scale \\n            trans_sample_preds = sample_preds.reshape(-1, n_labels)\\n            trans_sample_preds = np.array([correct(trans_sample_preds[:, i], train_mean[i], train_std[i]) for i  in range(n_labels)])\\n            sample_preds = trans_sample_preds.reshape(n_sample, n_length, n_labels)\\n        sample_ranges = np.concatenate([arr for arr in sample_ranges], axis=0)\\n        video_dict = {}\\n        for video in sample_names:\\n            mask = sample_names==video\\n            video_ranges = sample_ranges[mask]\\n            if video not in video_dict.keys():\\n                max_len = max([ranges[-1] for ranges in video_ranges])\\n                video_dict[video] = np.zeros((max_len, n_labels))\\n            video_preds = sample_preds[mask]\\n            # make sure the dataset returns full range of video frames\\n            min_f, max_f = 0, 0\\n            for rg, pred in zip(video_ranges, video_preds):\\n                start, end = rg\\n                video_dict[video][start:end, :] = pred\\n          \\n      min_f = min(min_f, start)\\n                max_f = max(max_f, end)\\n            assert (min_f==0) and (max_f == max_len)\\n        for video in video_dict.keys():\\n            video_dict[video] = pd.DataFrame(data=video_dict[video], columns=self.label_name)\\n        return video_dict  \\n\""
            ]
          },
          "metadata": {
            "tags": []
          },
          "execution_count": 92
        }
      ]
    },
    {
      "cell_type": "code",
      "metadata": {
        "id": "cMCQKQyr-FbS",
        "colab_type": "code",
        "colab": {}
      },
      "source": [
        "def update_annotation():\n",
        "  count = 0\n",
        "  updated_annotation = []\n",
        "  for video in video_list:\n",
        "    for annot in annotation_list:\n",
        "      if (video.split('/')[-1] == annot[0]):\n",
        "        updated_annotation.append(annot)\n",
        "  return updated_annotation        "
      ],
      "execution_count": null,
      "outputs": []
    },
    {
      "cell_type": "code",
      "metadata": {
        "id": "1xBfpjS66YT4",
        "colab_type": "code",
        "colab": {
          "base_uri": "https://localhost:8080/",
          "height": 54
        },
        "outputId": "440bd24f-863d-4b84-a048-91bba1422d69"
      },
      "source": [
        "updated_annotation = update_annotation()\n",
        "print(updated_annotation)"
      ],
      "execution_count": null,
      "outputs": [
        {
          "output_type": "stream",
          "text": [
            "[['P63CUj9KnSw.001.mp4', 0.3271028037383178, 0.32291666666666663, 0.4395604395604395, 0.4466019417475728, 0.4], ['a97PXgrKSxo.003.mp4', 0.5233644859813085, 0.6354166666666666, 0.7582417582417583, 0.6699029126213591, 0.611111111111111], ['SxRNdq2nGN0.001.mp4', 0.38317757009345793, 0.53125, 0.4725274725274725, 0.42718446601941745, 0.5666666666666667], ['HL-K_PZXFR4.005.mp4', 0.7289719626168225, 0.6979166666666666, 0.7912087912087912, 0.8058252427184466, 0.5444444444444444], ['dLaqub4BEsA.002.mp4', 0.5607476635514019, 0.5520833333333334, 0.6813186813186812, 0.5242718446601942, 0.611111111111111], ['Vy-Lr_iM5qo.001.mp4', 0.47663551401869164, 0.3854166666666667, 0.4505494505494505, 0.4563106796116505, 0.5111111111111111], ['f39E4ct09Cc.005.mp4', 0.6168224299065421, 0.7083333333333334, 0.6153846153846153, 0.6796116504854369, 0.8222222222222221], ['Tg8a_iNEamM.005.mp4', 0.28037383177570097, 0.29166666666666663, 0.2747252747252747, 0.36893203883495146, 0.3666666666666667], ['X1EjfXX3NTk.003.mp4', 0.4392523364485981, 0.6458333333333333, 0.6153846153846153, 0.6116504854368932, 0.711111111111111], ['2-LDYe7OXZU.003.mp4', 0.4112149532710281, 0.3333333333333333, 0.5604395604395604, 0.5339805825242718, 0.34444444444444444], ['It0-yCwOc5k.000.mp4', 0.3457943925233645, 0.4166666666666667, 0.4505494505494505, 0.4951456310679611, 0.45555555555555555], ['pPtzEnf5afw.000.mp4', 0.47663551401869164, 0.45833333333333337, 0.6593406593406592, 0.5339805825242718, 0.6777777777777777], ['bSeTNdOtK7I.004.mp4', 0.7102803738317757, 0.6145833333333333, 0.6373626373626373, 0.6699029126213591, 0.6666666666666666], ['fmjILOLc3eg.001.mp4', 0.29906542056074764, 0.4479166666666667, 0.5934065934065933, 0.5242718446601942, 0.3777777777777778], ['0fMw9o1v2tY.001.mp4', 0.3457943925233645, 0.40625000000000006, 0.3846153846153846, 0.36893203883495146, 0.4777777777777778], ['0mym1CooiTE.000.mp4', 0.5233644859813085, 0.5208333333333334, 0.7252747252747254, 0.6796116504854369, 0.6], ['nCc8XfmSvf8.001.mp4', 0.5233644859813085, 0.5520833333333334, 0.5824175824175825, 0.5631067961165048, 0.6222222222222222], ['tEQEKN07KgQ.003.mp4', 0.2336448598130841, 0.3020833333333333, 0.4615384615384615, 0.35922330097087385, 0.3555555555555556], ['x6Tluj4dJTU.004.mp4', 0.2897196261682243, 0.32291666666666663, 0.4285714285714285, 0.2912621359223301, 0.5444444444444444], ['sduFj_uaZ-w.000.mp4', 0.5420560747663552, 0.4791666666666667, 0.5054945054945055, 0.5048543689320388, 0.4888888888888889], ['BSkTPW_Qsio.001.mp4', 0.6355140186915887, 0.7395833333333333, 0.7142857142857143, 0.6213592233009709, 0.7444444444444444], ['-8asrRvfJWA.003.mp4', 0.4485981308411215, 0.3645833333333333, 0.4725274725274725, 0.4466019417475728, 0.4777777777777778], ['OgPC4wnLJR0.001.mp4', 0.16822429906542055, 0.13541666666666663, 0.10989010989010992, 0.21359223300970873, 0.26666666666666666], ['WwGca41TJVU.003.mp4', 0.4392523364485981, 0.4375, 0.4945054945054945, 0.36893203883495146, 0.38888888888888895], ['6uqXoPJSoPg.005.mp4', 0.6728971962616823, 0.7083333333333334, 0.7252747252747254, 0.7669902912621359, 0.6555555555555556], ['fk_ggmC872E.003.mp4', 0.6074766355140188, 0.5625, 0.6263736263736264, 0.5048543689320388, 0.811111111111111], ['dLltwqkvsNg.001.mp4', 0.5607476635514019, 0.5520833333333334, 0.7032967032967032, 0.5339805825242718, 0.5666666666666667], ['T8ibN-b3h7Y.001.mp4', 0.6822429906542057, 0.6770833333333334, 0.5054945054945055, 0.5922330097087379, 0.6444444444444444], ['m4ZmRZCv6VA.005.mp4', 0.4392523364485981, 0.5104166666666666, 0.5274725274725275, 0.3786407766990291, 0.5], ['iAgu-wDe2MQ.002.mp4', 0.47663551401869164, 0.4375, 0.6263736263736264, 0.4174757281553398, 0.5777777777777777], ['II2KVV-uLNI.001.mp4', 0.6728971962616823, 0.5729166666666666, 0.846153846153846, 0.6213592233009709, 0.7888888888888888], ['VnUkBYQkJms.005.mp4', 0.5514018691588786, 0.53125, 0.4945054945054945, 0.6019417475728155, 0.6888888888888889], ['0tse0Fsy_rg.001.mp4', 0.3177570093457944, 0.4375, 0.32967032967032966, 0.2621359223300971, 0.3555555555555556], ['2TMl5EMrdVI.002.mp4', 0.36448598130841126, 0.37499999999999994, 0.5384615384615384, 0.3883495145631068, 0.4666666666666667], ['Lq4uvcHNiy8.003.mp4', 0.38317757009345793, 0.5, 0.32967032967032966, 0.4077669902912622, 0.32222222222222224], ['qoztP0w5-Vo.000.mp4', 0.4672897196261683, 0.6770833333333334, 0.5604395604395604, 0.5728155339805825, 0.7333333333333333], ['CpmR-91GxmY.000.mp4', 0.7757009345794394, 0.8958333333333334, 0.8901098901098901, 0.8252427184466018, 0.7444444444444444], ['V9OuGDPnqHI.000.mp4', 0.588785046728972, 0.6041666666666666, 0.7362637362637363, 0.5145631067961165, 0.7666666666666666], ['huIQlWsIEvY.005.mp4', 0.35514018691588783, 0.5625, 0.5714285714285714, 0.5922330097087379, 0.38888888888888895], ['DyZlhseSuec.004.mp4', 0.7009345794392524, 0.6770833333333334, 0.7802197802197802, 0.7281553398058251, 0.7555555555555554], ['RhSWpef2e6s.000.mp4', 0.6261682242990655, 0.5833333333333333, 0.6593406593406592, 0.6504854368932039, 0.611111111111111], ['R-vly7LKotQ.003.mp4', 0.18691588785046728, 0.32291666666666663, 0.3516483516483516, 0.3495145631067961, 0.41111111111111115], ['gCQT7zfS7sI.001.mp4', 0.2336448598130841, 0.4479166666666667, 0.4615384615384615, 0.5339805825242718, 0.41111111111111115], ['KTdbKiGFzJY.003.mp4', 0.19626168224299068, 0.42708333333333337, 0.30769230769230765, 0.42718446601941745, 0.41111111111111115], ['h9jIdLBaMEo.000.mp4', 0.7102803738317757, 0.7916666666666667, 0.6923076923076923, 0.7766990291262136, 0.8333333333333333], ['erJNMcO69Eo.005.mp4', 0.4672897196261683, 0.2708333333333333, 0.4725274725274725, 0.2912621359223301, 0.3666666666666667], ['9xJ0rFCU-OM.004.mp4', 0.39252336448598135, 0.3645833333333333, 0.4175824175824176, 0.5631067961165048, 0.4888888888888889], ['Jv2lyDcOmEM.003.mp4', 0.24299065420560748, 0.21874999999999997, 0.23076923076923075, 0.23300970873786406, 0.1777777777777778], ['3JAFkk42zPs.005.mp4', 0.24299065420560748, 0.25, 0.23076923076923075, 0.18446601941747573, 0.4666666666666667], ['elSd0IyX6ys.004.mp4', 0.4579439252336449, 0.4791666666666667, 0.5384615384615384, 0.5048543689320388, 0.5555555555555556], ['m4-vvEeWP8s.002.mp4', 0.6355140186915887, 0.7187499999999999, 0.6813186813186812, 0.7961165048543688, 0.7333333333333333], ['ua5c716lu5s.003.mp4', 0.38317757009345793, 0.40625000000000006, 0.5164835164835165, 0.4466019417475728, 0.4777777777777778], ['FkuwzJcoRVI.004.mp4', 0.26168224299065423, 0.3645833333333333, 0.3516483516483516, 0.47572815533980584, 0.4888888888888889], ['zEyRyTnIw5I.005.mp4', 0.3457943925233645, 0.37499999999999994, 0.4725274725274725, 0.5825242718446602, 0.3666666666666667], ['3LAaFUSGvsU.001.mp4', 0.3457943925233645, 0.4791666666666667, 0.4725274725274725, 0.6796116504854369, 0.5222222222222223], ['l1L61qbiV2U.001.mp4', 0.4018691588785047, 0.2708333333333333, 0.4065934065934066, 0.31067961165048547, 0.4888888888888889], ['-Gl98Jn45Fs.003.mp4', 0.5327102803738318, 0.6770833333333334, 0.5054945054945055, 0.5728155339805825, 0.6555555555555556], ['SBEad3L1Hdc.003.mp4', 0.24299065420560748, 0.15624999999999994, 0.4395604395604395, 0.33980582524271846, 0.26666666666666666], ['7Kn5VT9bB4I.001.mp4', 0.4485981308411215, 0.3854166666666667, 0.5824175824175825, 0.4563106796116505, 0.32222222222222224], ['iQvoDdxt06M.000.mp4', 0.4579439252336449, 0.5833333333333333, 0.7032967032967032, 0.7087378640776699, 0.6666666666666666], ['xerGtxpxW6Q.003.mp4', 0.6448598130841123, 0.6145833333333333, 0.4725274725274725, 0.42718446601941745, 0.711111111111111], ['aQVGVhcMBtE.004.mp4', 0.5700934579439253, 0.625, 0.6703296703296703, 0.5339805825242718, 0.7444444444444444], ['sOkGz6gEmGk.000.mp4', 0.6168224299065421, 0.625, 0.824175824175824, 0.6699029126213591, 0.711111111111111], ['l3IoZ_QmOQo.001.mp4', 0.6822429906542057, 0.8125000000000001, 0.7472527472527474, 0.6116504854368932, 0.811111111111111], ['qr1C43Ylavg.004.mp4', 0.4953271028037384, 0.5729166666666666, 0.7032967032967032, 0.7669902912621359, 0.6555555555555556], ['w_ExyXsnw2A.003.mp4', 0.4579439252336449, 0.4791666666666667, 0.5934065934065933, 0.4854368932038835, 0.5444444444444444], ['DXYRJ8PReoE.002.mp4', 0.5514018691588786, 0.6770833333333334, 0.5934065934065933, 0.5728155339805825, 0.6222222222222222], ['Egogv6acOd0.003.mp4', 0.28037383177570097, 0.37499999999999994, 0.32967032967032966, 0.27184466019417475, 0.3777777777777778], ['521sm7CTyfg.000.mp4', 0.2336448598130841, 0.17708333333333331, 0.32967032967032966, 0.33980582524271846, 0.28888888888888886], ['T1--98_78ns.003.mp4', 0.47663551401869164, 0.6145833333333333, 0.5604395604395604, 0.5048543689320388, 0.6444444444444444], ['X1EjfXX3NTk.000.mp4', 0.5046728971962617, 0.6458333333333333, 0.4615384615384615, 0.5728155339805825, 0.6], ['Wx_oe0SxD9w.002.mp4', 0.6448598130841123, 0.7500000000000001, 0.7692307692307692, 0.7961165048543688, 0.7], ['M20gRMBy-4I.000.mp4', 0.4672897196261683, 0.53125, 0.5494505494505494, 0.47572815533980584, 0.5444444444444444], ['OugdInDyt9s.003.mp4', 0.6261682242990655, 0.53125, 0.6593406593406592, 0.5825242718446602, 0.7], ['J8YpOUmN_aI.001.mp4', 0.5233644859813085, 0.5729166666666666, 0.5494505494505494, 0.5048543689320388, 0.611111111111111], ['_7hGh6VU4IU.004.mp4', 0.5233644859813085, 0.4479166666666667, 0.5824175824175825, 0.6407766990291262, 0.4666666666666667], ['shEsu57CYnA.002.mp4', 0.6542056074766356, 0.7083333333333334, 0.5824175824175825, 0.4660194174757281, 0.6333333333333333], ['Rwsss8y1bf0.000.mp4', 0.47663551401869164, 0.39583333333333337, 0.5714285714285714, 0.31067961165048547, 0.6222222222222222], ['gWCgqVn3m3k.001.mp4', 0.7289719626168225, 0.7083333333333334, 0.7142857142857143, 0.6310679611650486, 0.7666666666666666], ['kDP6_hiBR0o.005.mp4', 0.5794392523364487, 0.6770833333333334, 0.4945054945054945, 0.5048543689320388, 0.711111111111111], ['tg0i-zxvQXk.000.mp4', 0.35514018691588783, 0.5520833333333334, 0.3516483516483516, 0.35922330097087385, 0.5333333333333333], ['VAZLQqJa9rQ.001.mp4', 0.22429906542056074, 0.22916666666666663, 0.23076923076923075, 0.33980582524271846, 0.3], ['ADa9rkwF2uA.003.mp4', 0.4953271028037384, 0.6354166666666666, 0.6813186813186812, 0.6990291262135921, 0.43333333333333335], ['T-mK85acIOc.004.mp4', 0.5700934579439253, 0.6770833333333334, 0.4835164835164835, 0.42718446601941745, 0.611111111111111], ['ng42eoHytOA.001.mp4', 0.4579439252336449, 0.4375, 0.4175824175824176, 0.3495145631067961, 0.4222222222222222], ['E6rptSS3kP4.000.mp4', 0.8691588785046729, 0.84375, 0.835164835164835, 0.6990291262135921, 0.9444444444444443], ['xpSCu7PgJts.000.mp4', 0.3271028037383178, 0.34374999999999994, 0.4395604395604395, 0.5048543689320388, 0.5666666666666667], ['aPTNxA43WHY.002.mp4', 0.5420560747663552, 0.6145833333333333, 0.5934065934065933, 0.6407766990291262, 0.6333333333333333], ['W2AB3UUyvwI.003.mp4', 0.5794392523364487, 0.6770833333333334, 0.6043956043956044, 0.5825242718446602, 0.7777777777777777], ['nBjBfN9SbpM.003.mp4', 0.2149532710280374, 0.2604166666666667, 0.31868131868131866, 0.35922330097087385, 0.4777777777777778], ['3yU-7AXnFCM.003.mp4', 0.5233644859813085, 0.5104166666666666, 0.4725274725274725, 0.2912621359223301, 0.5555555555555556], ['3RhBqNzCMG8.001.mp4', 0.5046728971962617, 0.6354166666666666, 0.5054945054945055, 0.8446601941747574, 0.6666666666666666], ['BLeDNfK2quI.003.mp4', 0.4018691588785047, 0.5833333333333333, 0.7142857142857143, 0.7378640776699029, 0.6333333333333333], ['gUyH1qvbOZA.004.mp4', 0.6448598130841123, 0.8125000000000001, 0.7362637362637363, 0.7572815533980582, 0.6777777777777777], ['PTV5TBVRHxo.000.mp4', 0.5700934579439253, 0.5729166666666666, 0.7142857142857143, 0.6990291262135921, 0.7333333333333333], ['SEELGB_-uWU.005.mp4', 0.4392523364485981, 0.42708333333333337, 0.4835164835164835, 0.3495145631067961, 0.4777777777777778], ['alucqviYJFE.002.mp4', 0.5046728971962617, 0.5729166666666666, 0.6153846153846153, 0.5728155339805825, 0.6555555555555556], ['eAkWSjU-JyY.001.mp4', 0.5514018691588786, 0.4895833333333333, 0.5934065934065933, 0.6019417475728155, 0.6222222222222222], ['fwJykIyvS04.001.mp4', 0.4953271028037384, 0.5520833333333334, 0.4505494505494505, 0.5533980582524272, 0.41111111111111115], ['3Sj-GZ3YXWs.001.mp4', 0.4672897196261683, 0.59375, 0.4835164835164835, 0.3495145631067961, 0.5444444444444444], ['qVcw5-mm31s.005.mp4', 0.33644859813084116, 0.4791666666666667, 0.4285714285714285, 0.5339805825242718, 0.5666666666666667], ['kn6I8LdQFN0.004.mp4', 0.18691588785046728, 0.13541666666666663, 0.17582417582417584, 0.18446601941747573, 0.32222222222222224], ['g0Zlp-F6Z6E.004.mp4', 0.6074766355140188, 0.7187499999999999, 0.5274725274725275, 0.6310679611650486, 0.6888888888888889], ['8-OKP1nf19E.005.mp4', 0.7476635514018694, 0.90625, 0.6263736263736264, 0.8640776699029126, 0.8777777777777777], ['8PXQ_5tUv74.000.mp4', 0.7009345794392524, 0.4895833333333333, 0.6043956043956044, 0.6310679611650486, 0.6777777777777777], ['bMY2DaFFwzU.000.mp4', 0.4485981308411215, 0.37499999999999994, 0.5384615384615384, 0.5339805825242718, 0.5777777777777777], ['IyBCZySg-c4.001.mp4', 0.3457943925233645, 0.5104166666666666, 0.3846153846153846, 0.4563106796116505, 0.5], ['495hLlCEW64.002.mp4', 0.6542056074766356, 0.5729166666666666, 0.5934065934065933, 0.5145631067961165, 0.6333333333333333], ['-fqiCqZtgYs.002.mp4', 0.2710280373831776, 0.3333333333333333, 0.2637362637362637, 0.3203883495145631, 0.5777777777777777], ['C3knX70mzxQ.005.mp4', 0.5327102803738318, 0.6458333333333333, 0.6813186813186812, 0.5242718446601942, 0.7222222222222221], ['Kq-c6lqGNlo.002.mp4', 0.6168224299065421, 0.6354166666666666, 0.6373626373626373, 0.6019417475728155, 0.5888888888888889], ['alucqviYJFE.001.mp4', 0.588785046728972, 0.7500000000000001, 0.6373626373626373, 0.6601941747572816, 0.6777777777777777], ['jxt1W2WRNHQ.002.mp4', 0.6355140186915887, 0.6145833333333333, 0.7692307692307692, 0.7961165048543688, 0.5444444444444444], ['8GFElKeREfQ.005.mp4', 0.4953271028037384, 0.5625, 0.6043956043956044, 0.6019417475728155, 0.6666666666666666], ['1eOvtoZCie8.004.mp4', 0.4953271028037384, 0.5625, 0.5934065934065933, 0.5339805825242718, 0.6666666666666666], ['2q8orkMs2Jg.000.mp4', 0.5981308411214954, 0.7916666666666667, 0.5934065934065933, 0.47572815533980584, 0.6555555555555556], ['AwNVGShHjvw.002.mp4', 0.6168224299065421, 0.46875, 0.3956043956043956, 0.2912621359223301, 0.5666666666666667], ['zqpXz9h41jg.005.mp4', 0.37383177570093457, 0.59375, 0.4945054945054945, 0.7475728155339806, 0.5222222222222223], ['cBR5cDwwdno.004.mp4', 0.7570093457943926, 0.7812499999999999, 0.6923076923076923, 0.7184466019417477, 0.9111111111111111], ['W4tz3plvvKI.003.mp4', 0.39252336448598135, 0.4166666666666667, 0.6043956043956044, 0.6407766990291262, 0.5333333333333333], ['9UWCHrG5mys.004.mp4', 0.4205607476635514, 0.4479166666666667, 0.4175824175824176, 0.3883495145631068, 0.4444444444444445], ['rG8D-A2F8xg.004.mp4', 0.6261682242990655, 0.6041666666666666, 0.6483516483516484, 0.3203883495145631, 0.6666666666666666], ['khCsAN1Bk_I.002.mp4', 0.26168224299065423, 0.2708333333333333, 0.2637362637362637, 0.2621359223300971, 0.3111111111111111], ['wy1szFSVpEI.002.mp4', 0.5420560747663552, 0.7291666666666667, 0.4615384615384615, 0.5825242718446602, 0.6], ['f5jPfJYvihA.000.mp4', 0.37383177570093457, 0.4895833333333333, 0.4835164835164835, 0.5145631067961165, 0.25555555555555554], ['IyBCZySg-c4.000.mp4', 0.39252336448598135, 0.65625, 0.6263736263736264, 0.4368932038834952, 0.5333333333333333], ['blAjqQ0ja8Q.005.mp4', 0.6168224299065421, 0.5208333333333334, 0.6703296703296703, 0.5048543689320388, 0.5777777777777777], ['OtGJDbI9qkM.005.mp4', 0.5420560747663552, 0.6979166666666666, 0.7912087912087912, 0.7184466019417477, 0.6666666666666666], ['3DURnr95fMg.004.mp4', 0.35514018691588783, 0.3333333333333333, 0.4835164835164835, 0.3883495145631068, 0.5222222222222223], ['N1ZOAktFbI0.001.mp4', 0.588785046728972, 0.7083333333333334, 0.6373626373626373, 0.7475728155339806, 0.6777777777777777], ['qMARpi60Hhs.000.mp4', 0.30841121495327106, 0.35416666666666663, 0.5164835164835165, 0.2912621359223301, 0.43333333333333335], ['OcS4H_dFeOc.001.mp4', 0.4485981308411215, 0.5104166666666666, 0.3846153846153846, 0.2815533980582524, 0.5111111111111111], ['gAWA-fcIa_M.003.mp4', 0.39252336448598135, 0.3854166666666667, 0.4065934065934066, 0.4368932038834952, 0.3777777777777778], ['jpyU48DzGTY.001.mp4', 0.35514018691588783, 0.35416666666666663, 0.4835164835164835, 0.36893203883495146, 0.43333333333333335], ['DTZeyoKUPx4.004.mp4', 0.08411214953271029, 0.1666666666666666, 0.2857142857142857, 0.14563106796116504, 0.13333333333333336], ['Nv0-x4K9YFI.000.mp4', 0.2149532710280374, 0.1458333333333333, 0.2857142857142857, 0.18446601941747573, 0.24444444444444444], ['vUKex2msIEU.004.mp4', 0.3457943925233645, 0.3854166666666667, 0.4175824175824176, 0.4951456310679611, 0.5444444444444444], ['51z2rCqPqPE.005.mp4', 0.6728971962616823, 0.6770833333333334, 0.6263736263736264, 0.7184466019417477, 0.8999999999999999], ['aqA6oI5L1RQ.005.mp4', 0.6355140186915887, 0.6666666666666667, 0.4725274725274725, 0.5436893203883495, 0.8555555555555554], ['2T3oK1Gse2g.000.mp4', 0.5700934579439253, 0.35416666666666663, 0.5714285714285714, 0.5339805825242718, 0.5666666666666667], ['USO-o9dHJ3U.004.mp4', 0.4299065420560748, 0.4479166666666667, 0.5054945054945055, 0.42718446601941745, 0.4888888888888889], ['uE2U_Y7QrIw.002.mp4', 0.18691588785046728, 0.28125, 0.3516483516483516, 0.23300970873786406, 0.3666666666666667], ['C_NtwmmF2Ys.004.mp4', 0.22429906542056074, 0.2604166666666667, 0.4285714285714285, 0.3300970873786408, 0.26666666666666666], ['qcq5oIRJFUI.004.mp4', 0.37383177570093457, 0.3854166666666667, 0.30769230769230765, 0.30097087378640774, 0.43333333333333335], ['n4NkVZ1_dfk.003.mp4', 0.29906542056074764, 0.45833333333333337, 0.5054945054945055, 0.4174757281553398, 0.4444444444444445], ['NWlCdMyKlE0.003.mp4', 0.7196261682242993, 0.6770833333333334, 0.7142857142857143, 0.7378640776699029, 0.7333333333333333], ['lLWOcztaIBI.001.mp4', 0.47663551401869164, 0.6354166666666666, 0.4395604395604395, 0.6893203883495147, 0.5222222222222223], ['J9WyswA0vow.003.mp4', 0.7289719626168225, 0.6770833333333334, 0.7142857142857143, 0.5631067961165048, 0.611111111111111], ['r9TaaVTo8Y8.002.mp4', 0.5140186915887851, 0.42708333333333337, 0.4725274725274725, 0.5242718446601942, 0.4888888888888889], ['6JfSPPVUgIg.005.mp4', 0.4299065420560748, 0.34374999999999994, 0.3956043956043956, 0.3786407766990291, 0.5222222222222223], ['Q4z4GRUtccE.005.mp4', 0.4579439252336449, 0.3854166666666667, 0.6373626373626373, 0.35922330097087385, 0.5111111111111111], ['hnWMsZEQWt4.003.mp4', 0.6728971962616823, 0.7500000000000001, 0.5824175824175825, 0.8834951456310681, 0.7333333333333333], ['3taD1fEPfC8.001.mp4', 0.37383177570093457, 0.40625000000000006, 0.4615384615384615, 0.4563106796116505, 0.4666666666666667], ['h-jMFLm6U_Y.004.mp4', 0.5514018691588786, 0.6041666666666666, 0.4945054945054945, 0.5825242718446602, 0.5777777777777777], ['MRquWhqw4Jw.004.mp4', 0.5514018691588786, 0.5104166666666666, 0.5934065934065933, 0.3495145631067961, 0.5222222222222223], ['t6-ljEWQjW8.002.mp4', 0.29906542056074764, 0.3854166666666667, 0.4395604395604395, 0.4077669902912622, 0.45555555555555555], ['VUGWfw5PVLY.000.mp4', 0.5607476635514019, 0.5833333333333333, 0.6263736263736264, 0.33980582524271846, 0.4888888888888889], ['FcR9VhCxBb0.004.mp4', 0.5700934579439253, 0.59375, 0.4725274725274725, 0.6504854368932039, 0.7999999999999999], ['y0UCXXk9tlM.004.mp4', 0.6822429906542057, 0.6666666666666667, 0.6483516483516484, 0.6019417475728155, 0.7999999999999999], ['8RVJqjILSD0.001.mp4', 0.48598130841121495, 0.5833333333333333, 0.5604395604395604, 0.4466019417475728, 0.5666666666666667], ['f0LnGz5Z6kA.002.mp4', 0.5981308411214954, 0.6145833333333333, 0.3846153846153846, 0.5048543689320388, 0.6888888888888889], ['39o1zJFeM7E.002.mp4', 0.4205607476635514, 0.45833333333333337, 0.4945054945054945, 0.4563106796116505, 0.5], ['cY3nHc5fDYE.000.mp4', 0.5607476635514019, 0.5729166666666666, 0.5274725274725275, 0.5825242718446602, 0.5], ['f9GeYKAXgAQ.000.mp4', 0.3271028037383178, 0.4791666666666667, 0.5494505494505494, 0.6796116504854369, 0.45555555555555555], ['M0U48Lm33A8.001.mp4', 0.5140186915887851, 0.65625, 0.6703296703296703, 0.4951456310679611, 0.7222222222222221], ['sTUJhj154Sc.005.mp4', 0.4205607476635514, 0.35416666666666663, 0.5824175824175825, 0.36893203883495146, 0.6333333333333333], ['Y6iogSmj6FQ.005.mp4', 0.588785046728972, 0.5, 0.6593406593406592, 0.3980582524271845, 0.4222222222222222], ['W0Ay5uul8j0.001.mp4', 0.35514018691588783, 0.34374999999999994, 0.5274725274725275, 0.5145631067961165, 0.5444444444444444], ['0VnZngec8sc.001.mp4', 0.5514018691588786, 0.6770833333333334, 0.7252747252747254, 0.5145631067961165, 0.811111111111111], ['lLWOcztaIBI.000.mp4', 0.6074766355140188, 0.7187499999999999, 0.6593406593406592, 0.6893203883495147, 0.6666666666666666], ['cOossY5pTrU.003.mp4', 0.5700934579439253, 0.625, 0.6153846153846153, 0.4660194174757281, 0.6], ['0kg6pmbSN6A.005.mp4', 0.39252336448598135, 0.37499999999999994, 0.4725274725274725, 0.4174757281553398, 0.5444444444444444], ['Alox0G4xUfM.000.mp4', 0.5327102803738318, 0.53125, 0.6923076923076923, 0.5533980582524272, 0.5555555555555556], ['ihEFzP5S57g.000.mp4', 0.25233644859813087, 0.20833333333333331, 0.12087912087912084, 0.14563106796116504, 0.3555555555555556], ['BkDdtxDPjJA.001.mp4', 0.4112149532710281, 0.5625, 0.5274725274725275, 0.6893203883495147, 0.4444444444444445], ['E_xAcdGpPCI.001.mp4', 0.30841121495327106, 0.45833333333333337, 0.4615384615384615, 0.6407766990291262, 0.38888888888888895], ['--Ymqszjv54.001.mp4', 0.5514018691588786, 0.5, 0.5274725274725275, 0.6504854368932039, 0.7444444444444444], ['mnRuiwFx_Z8.005.mp4', 0.47663551401869164, 0.5104166666666666, 0.5714285714285714, 0.4660194174757281, 0.5555555555555556], ['1OGu_7IljCo.004.mp4', 0.4953271028037384, 0.3125, 0.4065934065934066, 0.23300970873786406, 0.5555555555555556], ['sNs4yCA11wk.002.mp4', 0.7009345794392524, 0.59375, 0.7362637362637363, 0.6796116504854369, 0.5777777777777777], ['JhdFmuwquHM.003.mp4', 0.3271028037383178, 0.2395833333333333, 0.2857142857142857, 0.2912621359223301, 0.3555555555555556], ['FGkS4vJYOpM.004.mp4', 0.3271028037383178, 0.28125, 0.4835164835164835, 0.3883495145631068, 0.4222222222222222], ['qP1UtCbMaW4.003.mp4', 0.5700934579439253, 0.5729166666666666, 0.6043956043956044, 0.3883495145631068, 0.5], ['Rops7WYMCCY.002.mp4', 0.38317757009345793, 0.3645833333333333, 0.4285714285714285, 0.3203883495145631, 0.4], ['DvmzcQI5cnM.001.mp4', 0.4672897196261683, 0.5520833333333334, 0.5714285714285714, 0.5242718446601942, 0.5777777777777777], ['L-C1blPD_ec.000.mp4', 0.28037383177570097, 0.4479166666666667, 0.4065934065934066, 0.4174757281553398, 0.4222222222222222], ['eFzN_frNW8g.000.mp4', 0.4392523364485981, 0.5416666666666666, 0.5824175824175825, 0.7184466019417477, 0.5333333333333333], ['9Crw2RtrBcY.004.mp4', 0.663551401869159, 0.8541666666666667, 0.824175824175824, 0.9223300970873788, 0.7888888888888888], ['Znixev2a1AI.001.mp4', 0.4299065420560748, 0.5104166666666666, 0.5164835164835165, 0.6601941747572816, 0.6666666666666666], ['osqQpQsJNPQ.000.mp4', 0.4953271028037384, 0.6041666666666666, 0.6153846153846153, 0.6116504854368932, 0.7333333333333333], ['9QOFKbaPX3M.000.mp4', 0.2149532710280374, 0.3645833333333333, 0.5274725274725275, 0.4077669902912622, 0.4222222222222222], ['si_gZCrLa4A.005.mp4', 0.4579439252336449, 0.45833333333333337, 0.4285714285714285, 0.35922330097087385, 0.5], ['MOXPVzRBDPo.004.mp4', 0.7476635514018694, 0.7083333333333334, 0.6813186813186812, 0.8252427184466018, 0.7333333333333333], ['5uFZ-2kYGO0.000.mp4', 0.36448598130841126, 0.25, 0.3956043956043956, 0.4563106796116505, 0.4222222222222222], ['Bo-mrL28d8M.003.mp4', 0.4112149532710281, 0.32291666666666663, 0.5274725274725275, 0.3300970873786408, 0.3555555555555556], ['JBdLI6AhJrw.001.mp4', 0.7009345794392524, 0.6666666666666667, 0.5604395604395604, 0.4077669902912622, 0.7888888888888888], ['jOTlJwOBSd4.004.mp4', 0.4299065420560748, 0.46875, 0.5934065934065933, 0.4951456310679611, 0.5], ['ZqbJIM7rmO8.001.mp4', 0.5794392523364487, 0.7083333333333334, 0.6703296703296703, 0.5631067961165048, 0.6222222222222222], ['ZiKxJbVI5_g.002.mp4', 0.7102803738317757, 0.625, 0.5934065934065933, 0.6504854368932039, 0.7777777777777777], ['BLKXsX7-WIg.000.mp4', 0.3271028037383178, 0.46875, 0.5274725274725275, 0.3786407766990291, 0.5555555555555556], ['7UQt8QB3cQY.003.mp4', 0.37383177570093457, 0.3645833333333333, 0.30769230769230765, 0.2524271844660194, 0.5], ['iGlLSkRAsJc.000.mp4', 0.5607476635514019, 0.59375, 0.4395604395604395, 0.5728155339805825, 0.6888888888888889], ['CQMH9Qguuao.000.mp4', 0.4205607476635514, 0.625, 0.6593406593406592, 0.5436893203883495, 0.6555555555555556], ['sDWJMBZ1mVA.003.mp4', 0.2897196261682243, 0.32291666666666663, 0.4945054945054945, 0.3203883495145631, 0.25555555555555554], ['a84s1DYag-I.001.mp4', 0.4112149532710281, 0.45833333333333337, 0.5384615384615384, 0.6116504854368932, 0.5333333333333333], ['UoC_4qi_m9c.002.mp4', 0.37383177570093457, 0.4166666666666667, 0.4505494505494505, 0.30097087378640774, 0.23333333333333334], ['GquB5W7bzFo.003.mp4', 0.5327102803738318, 0.5520833333333334, 0.7252747252747254, 0.5728155339805825, 0.6222222222222222], ['twO6ceVTuII.001.mp4', 0.4018691588785047, 0.35416666666666663, 0.4615384615384615, 0.3203883495145631, 0.3777777777777778], ['fEix0DPOWtg.005.mp4', 0.36448598130841126, 0.22916666666666663, 0.4065934065934066, 0.2912621359223301, 0.5111111111111111], ['io0aNQE8En8.000.mp4', 0.3271028037383178, 0.42708333333333337, 0.4395604395604395, 0.3883495145631068, 0.38888888888888895], ['2mfmw63l88g.005.mp4', 0.12149532710280371, 0.2395833333333333, 0.2747252747252747, 0.31067961165048547, 0.28888888888888886], ['aMmEPRJGocM.004.mp4', 0.7476635514018694, 0.8958333333333334, 0.7032967032967032, 0.8446601941747574, 0.7666666666666666], ['m536hegSuKI.002.mp4', 0.5794392523364487, 0.65625, 0.5164835164835165, 0.5922330097087379, 0.7888888888888888], ['Vk3scj5vhd4.004.mp4', 0.5046728971962617, 0.53125, 0.6043956043956044, 0.4951456310679611, 0.6888888888888889], ['7PYAn9njCHI.004.mp4', 0.5140186915887851, 0.5833333333333333, 0.7032967032967032, 0.5339805825242718, 0.7222222222222221], ['e2EmGXRJ1K0.001.mp4', 0.47663551401869164, 0.5520833333333334, 0.4175824175824176, 0.4466019417475728, 0.6777777777777777], ['-Wqk9eex6bQ.003.mp4', 0.5046728971962617, 0.40625000000000006, 0.3846153846153846, 0.5533980582524272, 0.5222222222222223], ['3S8QUGYVf_w.000.mp4', 0.5140186915887851, 0.6354166666666666, 0.6043956043956044, 0.5728155339805825, 0.7555555555555554], ['On2c_8sU8Vw.001.mp4', 0.5514018691588786, 0.7187499999999999, 0.7252747252747254, 0.6407766990291262, 0.6444444444444444], ['r1v6EmZv7-o.002.mp4', 0.37383177570093457, 0.3854166666666667, 0.4725274725274725, 0.5922330097087379, 0.34444444444444444], ['kDP6_hiBR0o.002.mp4', 0.4485981308411215, 0.5833333333333333, 0.5164835164835165, 0.6699029126213591, 0.5888888888888889], ['jZDlFzVUZwY.005.mp4', 0.6261682242990655, 0.65625, 0.5604395604395604, 0.5631067961165048, 0.5777777777777777], ['T4eZ81aJwJI.004.mp4', 0.5046728971962617, 0.4479166666666667, 0.6263736263736264, 0.5825242718446602, 0.7777777777777777], ['vHIBCKwJLEY.001.mp4', 0.4579439252336449, 0.4895833333333333, 0.6923076923076923, 0.4563106796116505, 0.5555555555555556], ['OZaP2T74bLI.000.mp4', 0.7570093457943926, 0.6770833333333334, 0.5494505494505494, 0.47572815533980584, 0.7444444444444444], ['NTATNIs2sSc.001.mp4', 0.33644859813084116, 0.3854166666666667, 0.3626373626373627, 0.4660194174757281, 0.32222222222222224], ['mY1ZTvNVkSA.002.mp4', 0.7196261682242993, 0.7708333333333334, 0.7362637362637363, 0.6699029126213591, 0.9111111111111111], ['69BopbFc34U.004.mp4', 0.29906542056074764, 0.2708333333333333, 0.2747252747252747, 0.1941747572815534, 0.3666666666666667], ['59Smv7wl--w.001.mp4', 0.14018691588785046, 0.5208333333333334, 0.7362637362637363, 0.8737864077669903, 0.4777777777777778], ['XkeSLRAftxA.001.mp4', 0.4953271028037384, 0.6041666666666666, 0.5494505494505494, 0.6601941747572816, 0.6555555555555556], ['D4TU65xbF4g.000.mp4', 0.6261682242990655, 0.6770833333333334, 0.6153846153846153, 0.3300970873786408, 0.7], ['AFvUxDwJB84.003.mp4', 0.3457943925233645, 0.37499999999999994, 0.4505494505494505, 0.4951456310679611, 0.611111111111111], ['OXkDmd3nA94.000.mp4', 0.4018691588785047, 0.34374999999999994, 0.4065934065934066, 0.3495145631067961, 0.4222222222222222], ['PWAe9M2SxT8.001.mp4', 0.6168224299065421, 0.6458333333333333, 0.6043956043956044, 0.4466019417475728, 0.5888888888888889], ['orlXEgAepGo.002.mp4', 0.5327102803738318, 0.3020833333333333, 0.4835164835164835, 0.36893203883495146, 0.6333333333333333], ['nUbhRInpVbA.004.mp4', 0.38317757009345793, 0.4166666666666667, 0.4725274725274725, 0.5145631067961165, 0.5111111111111111], ['t3A2UMN3JeE.000.mp4', 0.5607476635514019, 0.6145833333333333, 0.6043956043956044, 0.5436893203883495, 0.7], ['jpyU48DzGTY.004.mp4', 0.35514018691588783, 0.2708333333333333, 0.3956043956043956, 0.3786407766990291, 0.3666666666666667], ['bFwtVtZodIg.002.mp4', 0.6168224299065421, 0.6666666666666667, 0.7582417582417583, 0.6310679611650486, 0.8333333333333333], ['4nJLbAKgwfw.005.mp4', 0.3271028037383178, 0.6354166666666666, 0.4615384615384615, 0.3883495145631068, 0.3666666666666667], ['8py6SksNsZQ.005.mp4', 0.6542056074766356, 0.7708333333333334, 0.6483516483516484, 0.4854368932038835, 0.8333333333333333], ['cxJ0u6r0-pU.000.mp4', 0.33644859813084116, 0.5520833333333334, 0.6043956043956044, 0.7184466019417477, 0.5222222222222223], ['MD9yyz-OSRs.004.mp4', 0.48598130841121495, 0.53125, 0.4065934065934066, 0.4563106796116505, 0.5444444444444444], ['AuaQ0rtedRk.001.mp4', 0.30841121495327106, 0.3020833333333333, 0.5274725274725275, 0.3300970873786408, 0.5], ['4sCa35TOxgs.001.mp4', 0.6355140186915887, 0.5625, 0.5384615384615384, 0.5631067961165048, 0.611111111111111], ['98fnGDVky00.003.mp4', 0.3457943925233645, 0.5104166666666666, 0.4285714285714285, 0.3786407766990291, 0.3777777777777778], ['uifW-cV-iQo.002.mp4', 0.2336448598130841, 0.28125, 0.4395604395604395, 0.3300970873786408, 0.3], ['YGrCXe2-fVk.004.mp4', 0.6728971962616823, 0.7916666666666667, 0.7142857142857143, 0.7572815533980582, 0.922222222222222], ['lnawWqnGpMc.005.mp4', 0.13084112149532712, 0.1145833333333333, 0.23076923076923075, 0.2524271844660194, 0.3111111111111111], ['WpMPrPnk1po.000.mp4', 0.4672897196261683, 0.59375, 0.4835164835164835, 0.5339805825242718, 0.6444444444444444], ['Hm5K_K0v718.004.mp4', 0.5700934579439253, 0.7083333333333334, 0.6703296703296703, 0.6796116504854369, 0.7555555555555554], ['dvU5jYExl0o.003.mp4', 0.36448598130841126, 0.5, 0.5824175824175825, 0.6699029126213591, 0.4777777777777778], ['rBxWZzkEncE.004.mp4', 0.5327102803738318, 0.7083333333333334, 0.5824175824175825, 0.5436893203883495, 0.888888888888889], ['jZl3Rq1MRQg.000.mp4', 0.5607476635514019, 0.5625, 0.5494505494505494, 0.5339805825242718, 0.7333333333333333], ['fEZrAGQoh_g.001.mp4', 0.4018691588785047, 0.5, 0.5164835164835165, 0.5728155339805825, 0.4888888888888889], ['yFZ3eUD6Pqs.005.mp4', 0.1588785046728972, 0.40625000000000006, 0.4615384615384615, 0.6019417475728155, 0.3777777777777778], ['IXVf5VWxOAg.000.mp4', 0.3177570093457944, 0.4166666666666667, 0.4945054945054945, 0.36893203883495146, 0.3666666666666667], ['yFZ3eUD6Pqs.003.mp4', 0.3177570093457944, 0.4791666666666667, 0.4725274725274725, 0.6990291262135921, 0.38888888888888895], ['KahSwziq8F0.002.mp4', 0.794392523364486, 0.65625, 0.6263736263736264, 0.5631067961165048, 0.6444444444444444], ['KiM9P_FJVHg.005.mp4', 0.38317757009345793, 0.4895833333333333, 0.3736263736263736, 0.27184466019417475, 0.8333333333333333], ['8yFYvQ_kxW8.000.mp4', 0.5046728971962617, 0.4895833333333333, 0.6373626373626373, 0.4951456310679611, 0.5444444444444444], ['PYYC0Jiwfdg.000.mp4', 0.5140186915887851, 0.6041666666666666, 0.7472527472527474, 0.4951456310679611, 0.7], ['N0s2M3bJkUk.005.mp4', 0.663551401869159, 0.4791666666666667, 0.6483516483516484, 0.6019417475728155, 0.7], ['IzsP0TRzFbo.002.mp4', 0.5700934579439253, 0.6770833333333334, 0.5604395604395604, 0.5825242718446602, 0.5666666666666667], ['Z-CIdOjWcKc.001.mp4', 0.7009345794392524, 0.65625, 0.5494505494505494, 0.42718446601941745, 0.6333333333333333], ['OD_gyCYpR8U.002.mp4', 0.6261682242990655, 0.5625, 0.5384615384615384, 0.4660194174757281, 0.6777777777777777], ['cWZudzeJVXg.000.mp4', 0.25233644859813087, 0.19791666666666666, 0.3516483516483516, 0.2912621359223301, 0.3], ['LeQKH1vAVpg.005.mp4', 0.5327102803738318, 0.6458333333333333, 0.5604395604395604, 0.7281553398058251, 0.5666666666666667], ['xyOq5SL0Evc.000.mp4', 0.37383177570093457, 0.5625, 0.6813186813186812, 0.7378640776699029, 0.5444444444444444], ['fL8VYpOTLSM.004.mp4', 0.3271028037383178, 0.34374999999999994, 0.4395604395604395, 0.31067961165048547, 0.4], ['hG0I7DLSSYg.005.mp4', 0.6448598130841123, 0.6979166666666666, 0.7472527472527474, 0.6796116504854369, 0.9111111111111111], ['GwKmjEb3qN0.001.mp4', 0.29906542056074764, 0.34374999999999994, 0.4725274725274725, 0.27184466019417475, 0.3666666666666667], ['glgfB3vFewc.000.mp4', 0.7476635514018694, 0.7708333333333334, 0.901098901098901, 0.8349514563106796, 0.8333333333333333], ['JO44XCaQGVY.000.mp4', 0.6542056074766356, 0.6458333333333333, 0.7692307692307692, 0.5145631067961165, 0.7999999999999999], ['Q-cZz-M17PE.000.mp4', 0.7570093457943926, 0.6041666666666666, 0.6703296703296703, 0.6310679611650486, 0.711111111111111], ['kUpkeJDcxaE.000.mp4', 0.4579439252336449, 0.5104166666666666, 0.5714285714285714, 0.5436893203883495, 0.5777777777777777], ['SxRNdq2nGN0.002.mp4', 0.5046728971962617, 0.6770833333333334, 0.4065934065934066, 0.5048543689320388, 0.5666666666666667], ['oCb9DK3M1DU.005.mp4', 0.4579439252336449, 0.6458333333333333, 0.6153846153846153, 0.4563106796116505, 0.5888888888888889], ['KIhpjwf5uAA.001.mp4', 0.4579439252336449, 0.5833333333333333, 0.5824175824175825, 0.7572815533980582, 0.6555555555555556], ['IlbODduDCb4.002.mp4', 0.4112149532710281, 0.34374999999999994, 0.3956043956043956, 0.3980582524271845, 0.4], ['78zauTEQ-k8.001.mp4', 0.6074766355140188, 0.5833333333333333, 0.6923076923076923, 0.5825242718446602, 0.7], ['jFx6AEw6viQ.004.mp4', 0.14018691588785046, 0.19791666666666666, 0.30769230769230765, 0.3980582524271845, 0.5], ['C0UMWrEJ2x0.005.mp4', 0.6168224299065421, 0.5208333333333334, 0.6373626373626373, 0.5145631067961165, 0.6666666666666666], ['tvKUJujTUEo.003.mp4', 0.48598130841121495, 0.7291666666666667, 0.7362637362637363, 0.7281553398058251, 0.7222222222222221], ['p_Z4QGqu4Qo.004.mp4', 0.588785046728972, 0.7187499999999999, 0.5604395604395604, 0.3883495145631068, 0.7222222222222221], ['kyq-X4IFMtw.001.mp4', 0.5233644859813085, 0.42708333333333337, 0.32967032967032966, 0.3786407766990291, 0.4444444444444445], ['datcFOBWYxc.005.mp4', 0.588785046728972, 0.4895833333333333, 0.6043956043956044, 0.5728155339805825, 0.38888888888888895], ['_LWrd9t4oZw.003.mp4', 0.6822429906542057, 0.6458333333333333, 0.5824175824175825, 0.6116504854368932, 0.7333333333333333], ['pT8nyxks1Q4.005.mp4', 0.4953271028037384, 0.4895833333333333, 0.4945054945054945, 0.2912621359223301, 0.5555555555555556], ['Rp_gyvKE4hI.004.mp4', 0.4299065420560748, 0.4166666666666667, 0.5274725274725275, 0.4951456310679611, 0.5666666666666667], ['dmycfNpiWCE.005.mp4', 0.5794392523364487, 0.6458333333333333, 0.6703296703296703, 0.7475728155339806, 0.6333333333333333], ['ZO5JoyVTat8.005.mp4', 0.38317757009345793, 0.37499999999999994, 0.4725274725274725, 0.31067961165048547, 0.4222222222222222], ['4xdT0Uedsro.000.mp4', 0.4392523364485981, 0.5833333333333333, 0.4615384615384615, 0.5728155339805825, 0.45555555555555555], ['dNXqs5HNijI.004.mp4', 0.7570093457943926, 0.6979166666666666, 0.835164835164835, 0.6699029126213591, 0.711111111111111], ['OdwK_oMdfSU.000.mp4', 0.48598130841121495, 0.6458333333333333, 0.5054945054945055, 0.5436893203883495, 0.4777777777777778], ['t899haDGi38.003.mp4', 0.5700934579439253, 0.7500000000000001, 0.6813186813186812, 0.7087378640776699, 0.811111111111111], ['bRoIrXBO9DU.000.mp4', 0.38317757009345793, 0.5, 0.4065934065934066, 0.2815533980582524, 0.6444444444444444], ['oC-qxnrmJws.002.mp4', 0.7757009345794394, 0.6354166666666666, 0.6263736263736264, 0.6893203883495147, 0.7666666666666666], ['kDJigDGDJTo.000.mp4', 0.6168224299065421, 0.6354166666666666, 0.7252747252747254, 0.4951456310679611, 0.711111111111111], ['u50B6bIkN9g.002.mp4', 0.4112149532710281, 0.4166666666666667, 0.4835164835164835, 0.42718446601941745, 0.4888888888888889], ['shV5Fbzn9pw.003.mp4', 0.38317757009345793, 0.34374999999999994, 0.5714285714285714, 0.6504854368932039, 0.5222222222222223], ['Sb1b8JMVhLs.002.mp4', 0.6261682242990655, 0.875, 0.7582417582417583, 0.8252427184466018, 0.7555555555555554], ['2SzC9dm4Yy4.002.mp4', 0.4299065420560748, 0.40625000000000006, 0.5384615384615384, 0.35922330097087385, 0.43333333333333335], ['PTV5TBVRHxo.002.mp4', 0.6448598130841123, 0.6770833333333334, 0.7032967032967032, 0.6504854368932039, 0.6], ['fSkQXqXR7D0.002.mp4', 0.33644859813084116, 0.59375, 0.5824175824175825, 0.5048543689320388, 0.5222222222222223], ['w2FKw8IhbFw.001.mp4', 0.4672897196261683, 0.5416666666666666, 0.5164835164835165, 0.6019417475728155, 0.5777777777777777], ['CGfr9jl8w4Y.004.mp4', 0.663551401869159, 0.6041666666666666, 0.7472527472527474, 0.47572815533980584, 0.5222222222222223], ['nKx64KH7Xks.005.mp4', 0.4205607476635514, 0.59375, 0.6263736263736264, 0.6601941747572816, 0.6444444444444444], ['ySEeioc339E.004.mp4', 0.47663551401869164, 0.4479166666666667, 0.5054945054945055, 0.42718446601941745, 0.5], ['8i7H-uSCQcc.004.mp4', 0.4018691588785047, 0.45833333333333337, 0.4725274725274725, 0.4660194174757281, 0.5222222222222223], ['huIQlWsIEvY.000.mp4', 0.4672897196261683, 0.4479166666666667, 0.5384615384615384, 0.4563106796116505, 0.4222222222222222], ['LKc69Et2Jg8.004.mp4', 0.6448598130841123, 0.6458333333333333, 0.7032967032967032, 0.5922330097087379, 0.7], ['OoxYhDbzWwg.005.mp4', 0.16822429906542055, 0.2395833333333333, 0.2747252747252747, 0.2524271844660194, 0.3555555555555556], ['wzCdM6Fe_4A.003.mp4', 0.4112149532710281, 0.5208333333333334, 0.5714285714285714, 0.5533980582524272, 0.6666666666666666], ['in-HuMgiDCE.002.mp4', 0.5794392523364487, 0.59375, 0.7912087912087912, 0.6601941747572816, 0.6222222222222222], ['2bAsXLQjlt8.004.mp4', 0.48598130841121495, 0.5625, 0.5494505494505494, 0.5728155339805825, 0.7444444444444444], ['4VwcU0ROy5k.001.mp4', 0.588785046728972, 0.6458333333333333, 0.6813186813186812, 0.6310679611650486, 0.711111111111111], ['K4UcCvZOxWo.004.mp4', 0.3457943925233645, 0.35416666666666663, 0.5604395604395604, 0.4660194174757281, 0.5777777777777777], ['2fzLibPAtvI.005.mp4', 0.48598130841121495, 0.46875, 0.4285714285714285, 0.4174757281553398, 0.611111111111111], ['dNXqs5HNijI.001.mp4', 0.6168224299065421, 0.6458333333333333, 0.7252747252747254, 0.6310679611650486, 0.7444444444444444], ['-R2SZu3SYgM.000.mp4', 0.22429906542056074, 0.1666666666666666, 0.1978021978021978, 0.1941747572815534, 0.5777777777777777], ['J28DwJsK8Do.000.mp4', 0.6728971962616823, 0.7604166666666666, 0.6263736263736264, 0.6407766990291262, 0.7333333333333333], ['Xfmu-7JuDGg.001.mp4', 0.30841121495327106, 0.5208333333333334, 0.5054945054945055, 0.5242718446601942, 0.43333333333333335], ['in-HuMgiDCE.003.mp4', 0.4205607476635514, 0.5520833333333334, 0.4835164835164835, 0.4466019417475728, 0.5111111111111111], ['WuIKjBb7s4Q.003.mp4', 0.28037383177570097, 0.3854166666666667, 0.4505494505494505, 0.4174757281553398, 0.4777777777777778], ['DChmTb-c9uM.005.mp4', 0.6261682242990655, 0.6458333333333333, 0.7802197802197802, 0.7087378640776699, 0.7666666666666666], ['0RLFM1ehSFM.000.mp4', 0.4953271028037384, 0.7916666666666667, 0.7032967032967032, 0.6116504854368932, 0.5888888888888889], ['6TkMavTyimI.000.mp4', 0.47663551401869164, 0.6041666666666666, 0.6483516483516484, 0.6699029126213591, 0.6333333333333333], ['tomb22yfjTc.001.mp4', 0.3457943925233645, 0.42708333333333337, 0.5384615384615384, 0.3203883495145631, 0.4666666666666667], ['2IwWILRuuNU.003.mp4', 0.5607476635514019, 0.4791666666666667, 0.5274725274725275, 0.6796116504854369, 0.6222222222222222], ['TTx4lC7LLcI.000.mp4', 0.36448598130841126, 0.5833333333333333, 0.4615384615384615, 0.4563106796116505, 0.5777777777777777], ['ld7mBR4v3yU.002.mp4', 0.36448598130841126, 0.59375, 0.4505494505494505, 0.7669902912621359, 0.41111111111111115], ['0gv5Z0qt2jc.001.mp4', 0.18691588785046728, 0.19791666666666666, 0.13186813186813184, 0.23300970873786406, 0.2777777777777778], ['jDdRrqRcSzM.000.mp4', 0.691588785046729, 0.7187499999999999, 0.7032967032967032, 0.6213592233009709, 0.6], ['5kY-Iv6UkeU.003.mp4', 0.2149532710280374, 0.34374999999999994, 0.3626373626373627, 0.3786407766990291, 0.32222222222222224], ['nQtiqrceBhg.003.mp4', 0.35514018691588783, 0.34374999999999994, 0.4835164835164835, 0.35922330097087385, 0.4222222222222222], ['ya8Ec_yTai8.002.mp4', 0.6261682242990655, 0.6979166666666666, 0.6923076923076923, 0.6213592233009709, 0.6444444444444444], ['DxATjKPysfs.000.mp4', 0.25233644859813087, 0.5104166666666666, 0.4615384615384615, 0.6699029126213591, 0.3111111111111111], ['Gdv79afXNKE.005.mp4', 0.6168224299065421, 0.6979166666666666, 0.4725274725274725, 0.6504854368932039, 0.7444444444444444], ['Cl7vQ9QR0es.003.mp4', 0.5700934579439253, 0.65625, 0.5604395604395604, 0.4563106796116505, 0.6555555555555556], ['YPnuq0tDDqk.000.mp4', 0.2710280373831776, 0.25, 0.23076923076923075, 0.23300970873786406, 0.6444444444444444], ['3P_D_bd-_NM.001.mp4', 0.5981308411214954, 0.5833333333333333, 0.6373626373626373, 0.47572815533980584, 0.5222222222222223], ['ZiKxJbVI5_g.004.mp4', 0.5140186915887851, 0.6979166666666666, 0.6043956043956044, 0.4368932038834952, 0.6333333333333333], ['qjU3GX3jgSY.003.mp4', 0.6448598130841123, 0.7187499999999999, 0.7472527472527474, 0.6504854368932039, 0.6777777777777777], ['OACoHiwOdXQ.005.mp4', 0.4112149532710281, 0.35416666666666663, 0.5824175824175825, 0.5339805825242718, 0.4222222222222222], ['3wRj39GKLJ0.001.mp4', 0.5140186915887851, 0.59375, 0.6373626373626373, 0.2621359223300971, 0.6555555555555556], ['kdPRPO3wgg0.004.mp4', 0.6822429906542057, 0.6666666666666667, 0.7802197802197802, 0.5631067961165048, 0.7777777777777777], ['vIW7gDmhYMk.001.mp4', 0.2710280373831776, 0.42708333333333337, 0.4945054945054945, 0.5145631067961165, 0.5555555555555556], ['nDsTSmE73M0.000.mp4', 0.48598130841121495, 0.5520833333333334, 0.5824175824175825, 0.4563106796116505, 0.5555555555555556], ['nFP7EEgz0Xg.002.mp4', 0.28037383177570097, 0.2395833333333333, 0.4395604395604395, 0.31067961165048547, 0.5777777777777777], ['zvX4fNj0uxk.004.mp4', 0.20560747663551404, 0.4166666666666667, 0.5494505494505494, 0.7184466019417477, 0.3666666666666667], ['7ZnijRlK5-E.003.mp4', 0.37383177570093457, 0.40625000000000006, 0.6153846153846153, 0.5825242718446602, 0.41111111111111115], ['7BgScfRre5M.004.mp4', 0.5794392523364487, 0.625, 0.6263736263736264, 0.5728155339805825, 0.6666666666666666], ['PtA7yAu9-VE.005.mp4', 0.4112149532710281, 0.4375, 0.5384615384615384, 0.35922330097087385, 0.4888888888888889], ['gUyH1qvbOZA.005.mp4', 0.5420560747663552, 0.65625, 0.5714285714285714, 0.6116504854368932, 0.7], ['c3SQSM9OIsA.001.mp4', 0.38317757009345793, 0.5833333333333333, 0.5054945054945055, 0.7378640776699029, 0.5777777777777777], ['tCnfvBwWVKw.000.mp4', 0.48598130841121495, 0.6354166666666666, 0.6593406593406592, 0.6796116504854369, 0.6], ['5wpoKhbt28c.001.mp4', 0.5140186915887851, 0.625, 0.6153846153846153, 0.6310679611650486, 0.7222222222222221], ['FkuwzJcoRVI.000.mp4', 0.4392523364485981, 0.5104166666666666, 0.3406593406593406, 0.42718446601941745, 0.5111111111111111], ['bFwtVtZodIg.004.mp4', 0.5700934579439253, 0.5833333333333333, 0.6703296703296703, 0.5728155339805825, 0.611111111111111], ['8e4nnel_x-M.005.mp4', 0.6261682242990655, 0.875, 0.6703296703296703, 0.6699029126213591, 0.7555555555555554], ['1YsZ4GPpyBA.004.mp4', 0.47663551401869164, 0.6770833333333334, 0.5494505494505494, 0.5825242718446602, 0.6777777777777777], ['VtYPH6UsVnU.005.mp4', 0.3271028037383178, 0.42708333333333337, 0.4725274725274725, 0.6893203883495147, 0.33333333333333337], ['outvbZgNX58.004.mp4', 0.4205607476635514, 0.4375, 0.6153846153846153, 0.5533980582524272, 0.5666666666666667], ['kUv0BJQmKq0.001.mp4', 0.5981308411214954, 0.5833333333333333, 0.6703296703296703, 0.7087378640776699, 0.7444444444444444], ['fmue_KpW9Ro.000.mp4', 0.4018691588785047, 0.40625000000000006, 0.5274725274725275, 0.6504854368932039, 0.4777777777777778], ['ixPqs7L8oAE.005.mp4', 0.6448598130841123, 0.59375, 0.7032967032967032, 0.5922330097087379, 0.7222222222222221], ['R6NTuhZtOks.003.mp4', 0.48598130841121495, 0.6354166666666666, 0.6813186813186812, 0.6893203883495147, 0.7777777777777777], ['sntohi33U5s.005.mp4', 0.5981308411214954, 0.5833333333333333, 0.4725274725274725, 0.5728155339805825, 0.5222222222222223], ['QiPb8vlGDFo.001.mp4', 0.4205607476635514, 0.4166666666666667, 0.4505494505494505, 0.33980582524271846, 0.4666666666666667], ['Sa7iqqSbaTU.000.mp4', 0.6261682242990655, 0.7083333333333334, 0.6483516483516484, 0.6213592233009709, 0.7555555555555554], ['zFVjcb45pjI.002.mp4', 0.29906542056074764, 0.37499999999999994, 0.32967032967032966, 0.3883495145631068, 0.4444444444444445], ['fH0jgh_VKmE.003.mp4', 0.4112149532710281, 0.40625000000000006, 0.4285714285714285, 0.36893203883495146, 0.6333333333333333], ['V1TjmLtgNm0.005.mp4', 0.5607476635514019, 0.3645833333333333, 0.4725274725274725, 0.6116504854368932, 0.6555555555555556], ['shV5Fbzn9pw.002.mp4', 0.5140186915887851, 0.5520833333333334, 0.5714285714285714, 0.7184466019417477, 0.6222222222222222], ['3AyjQQYmqU4.000.mp4', 0.4205607476635514, 0.625, 0.6153846153846153, 0.6407766990291262, 0.5555555555555556], ['qPzzmcuf-VI.000.mp4', 0.5514018691588786, 0.6354166666666666, 0.4945054945054945, 0.6990291262135921, 0.7], ['tS6bRcIIjDc.003.mp4', 0.25233644859813087, 0.4791666666666667, 0.4285714285714285, 0.4854368932038835, 0.3555555555555556], ['-DOqN0d8KHw.003.mp4', 0.5514018691588786, 0.4479166666666667, 0.6483516483516484, 0.4951456310679611, 0.5333333333333333], ['puLXzqUvm_U.003.mp4', 0.30841121495327106, 0.28125, 0.4065934065934066, 0.2912621359223301, 0.3111111111111111], ['Jh7Wk5fYeMk.001.mp4', 0.4953271028037384, 0.37499999999999994, 0.4395604395604395, 0.3203883495145631, 0.4222222222222222], ['Z_STuUHKQTg.003.mp4', 0.5700934579439253, 0.6354166666666666, 0.6483516483516484, 0.5339805825242718, 0.6555555555555556], ['isqmQc9AfBc.000.mp4', 0.3457943925233645, 0.46875, 0.5714285714285714, 0.3883495145631068, 0.4666666666666667], ['3orJLMVqWYw.000.mp4', 0.6168224299065421, 0.5208333333333334, 0.7362637362637363, 0.4466019417475728, 0.5666666666666667], ['yRVvI1x2DBI.005.mp4', 0.4205607476635514, 0.59375, 0.5494505494505494, 0.5436893203883495, 0.5888888888888889], ['ej0RpdM9kJA.000.mp4', 0.48598130841121495, 0.45833333333333337, 0.5934065934065933, 0.6407766990291262, 0.5], ['HUHFlCs3YJ8.003.mp4', 0.5327102803738318, 0.65625, 0.7032967032967032, 0.5825242718446602, 0.7333333333333333], ['EqTB9rAC-tA.000.mp4', 0.36448598130841126, 0.46875, 0.4285714285714285, 0.4368932038834952, 0.4222222222222222], ['B3VQeeev0r0.001.mp4', 0.4112149532710281, 0.53125, 0.4615384615384615, 0.4368932038834952, 0.45555555555555555], ['r93dLeVRk3U.003.mp4', 0.5140186915887851, 0.6666666666666667, 0.4065934065934066, 0.22330097087378642, 0.5333333333333333], ['m3z_a0l0FRk.000.mp4', 0.35514018691588783, 0.39583333333333337, 0.3406593406593406, 0.27184466019417475, 0.3777777777777778], ['sqnW6xXYTKg.002.mp4', 0.4672897196261683, 0.53125, 0.5164835164835165, 0.4174757281553398, 0.4888888888888889], ['Wy4hWbeibhU.000.mp4', 0.38317757009345793, 0.34374999999999994, 0.6043956043956044, 0.3786407766990291, 0.4], ['lWz3uSk1qms.000.mp4', 0.6542056074766356, 0.8125000000000001, 0.5054945054945055, 0.6601941747572816, 0.7333333333333333], ['huIQlWsIEvY.003.mp4', 0.5140186915887851, 0.53125, 0.5714285714285714, 0.36893203883495146, 0.3777777777777778], ['DTZeyoKUPx4.001.mp4', 0.28037383177570097, 0.35416666666666663, 0.32967032967032966, 0.27184466019417475, 0.25555555555555554], ['Bk9Hxn7Drxw.003.mp4', 0.5607476635514019, 0.5104166666666666, 0.5164835164835165, 0.5533980582524272, 0.6], ['tNPLxKC38Xs.000.mp4', 0.6448598130841123, 0.7812499999999999, 0.7472527472527474, 0.5922330097087379, 0.6777777777777777], ['DQORBD8hINs.005.mp4', 0.28037383177570097, 0.2708333333333333, 0.32967032967032966, 0.3495145631067961, 0.3111111111111111], ['LCafv-LfC3Y.000.mp4', 0.588785046728972, 0.5520833333333334, 0.5604395604395604, 0.4951456310679611, 0.6], ['l-WgXcGLdZk.002.mp4', 0.6261682242990655, 0.6041666666666666, 0.5824175824175825, 0.4854368932038835, 0.5888888888888889], ['J30sMEMrKjA.001.mp4', 0.6261682242990655, 0.6458333333333333, 0.6043956043956044, 0.4951456310679611, 0.5777777777777777], ['mBdVuEXRlfQ.000.mp4', 0.48598130841121495, 0.6875, 0.4835164835164835, 0.5436893203883495, 0.6333333333333333], ['VRjJxTqOJyo.001.mp4', 0.5140186915887851, 0.34374999999999994, 0.4615384615384615, 0.2524271844660194, 0.2777777777777778], ['iJGHwoJKEpA.003.mp4', 0.25233644859813087, 0.3125, 0.4835164835164835, 0.3883495145631068, 0.33333333333333337], ['HT_8WpgGqjk.001.mp4', 0.5420560747663552, 0.5520833333333334, 0.4835164835164835, 0.5631067961165048, 0.4666666666666667], ['S0QIXcQGG-g.004.mp4', 0.6728971962616823, 0.6354166666666666, 0.5934065934065933, 0.42718446601941745, 0.7222222222222221], ['hquzfo9MVDo.001.mp4', 0.25233644859813087, 0.2395833333333333, 0.16483516483516483, 0.27184466019417475, 0.3], ['UCKiPkp4ZkA.000.mp4', 0.4672897196261683, 0.35416666666666663, 0.5384615384615384, 0.5242718446601942, 0.5666666666666667], ['4V7doeEKsus.001.mp4', 0.4485981308411215, 0.32291666666666663, 0.4285714285714285, 0.33980582524271846, 0.4888888888888889], ['r1v6EmZv7-o.001.mp4', 0.30841121495327106, 0.5208333333333334, 0.5054945054945055, 0.6213592233009709, 0.4777777777777778], ['mQpNe8f5xA8.003.mp4', 0.6355140186915887, 0.53125, 0.5934065934065933, 0.6699029126213591, 0.7555555555555554], ['6wHQsN5g2RM.000.mp4', 0.4579439252336449, 0.4895833333333333, 0.5054945054945055, 0.3980582524271845, 0.3777777777777778], ['2TbU3Eg2i4A.005.mp4', 0.22429906542056074, 0.29166666666666663, 0.3956043956043956, 0.13592233009708737, 0.3666666666666667], ['gkKHdsF6du4.000.mp4', 0.588785046728972, 0.6770833333333334, 0.6153846153846153, 0.6601941747572816, 0.888888888888889], ['HNKnvSmTkC4.005.mp4', 0.5420560747663552, 0.7291666666666667, 0.5274725274725275, 0.7475728155339806, 0.6333333333333333], ['Jp-Hu7yxqR8.000.mp4', 0.3457943925233645, 0.40625000000000006, 0.5494505494505494, 0.27184466019417475, 0.3555555555555556], ['41NNb7cucVo.002.mp4', 0.5140186915887851, 0.625, 0.7252747252747254, 0.5339805825242718, 0.711111111111111], ['fUIWjaZCYwM.000.mp4', 0.6448598130841123, 0.5625, 0.5274725274725275, 0.3300970873786408, 0.6], ['opEoJBrcmbI.001.mp4', 0.48598130841121495, 0.2708333333333333, 0.4615384615384615, 0.4466019417475728, 0.3777777777777778], ['hhdzTOyFIo8.003.mp4', 0.5046728971962617, 0.42708333333333337, 0.4835164835164835, 0.23300970873786406, 0.6222222222222222], ['obr7ktzX8w8.003.mp4', 0.4205607476635514, 0.28125, 0.5494505494505494, 0.4077669902912622, 0.4222222222222222], ['DLds0WJpIQg.001.mp4', 0.5327102803738318, 0.5104166666666666, 0.6153846153846153, 0.36893203883495146, 0.5777777777777777], ['Y9WX7ucPP-o.002.mp4', 0.4392523364485981, 0.4791666666666667, 0.5274725274725275, 0.6019417475728155, 0.5444444444444444], ['m0iznoJi8hw.001.mp4', 0.47663551401869164, 0.625, 0.6373626373626373, 0.6213592233009709, 0.8222222222222221], ['-agCXYgb7pI.004.mp4', 0.4392523364485981, 0.5416666666666666, 0.6043956043956044, 0.6407766990291262, 0.4444444444444445], ['sf29orxf4X0.003.mp4', 0.30841121495327106, 0.4166666666666667, 0.4285714285714285, 0.4466019417475728, 0.5444444444444444], ['YbdJd16c3eo.004.mp4', 0.7663551401869159, 0.7500000000000001, 0.7692307692307692, 0.7087378640776699, 0.7666666666666666], ['0mym1CooiTE.001.mp4', 0.5046728971962617, 0.6875, 0.6923076923076923, 0.6990291262135921, 0.711111111111111], ['tutTFKP_fdg.000.mp4', 0.3177570093457944, 0.40625000000000006, 0.4285714285714285, 0.3495145631067961, 0.5666666666666667], ['zF46tAI2PQc.005.mp4', 0.7102803738317757, 0.7187499999999999, 0.5824175824175825, 0.5242718446601942, 0.6444444444444444], ['ev42vngXERU.000.mp4', 0.4205607476635514, 0.4895833333333333, 0.5384615384615384, 0.6310679611650486, 0.4777777777777778], ['fsLf6Xv_Gbk.001.mp4', 0.6448598130841123, 0.7187499999999999, 0.6043956043956044, 0.7475728155339806, 0.6333333333333333], ['1mdMhaq5p4w.002.mp4', 0.5607476635514019, 0.6875, 0.4725274725274725, 0.5339805825242718, 0.711111111111111], ['VIhStXxpAr0.000.mp4', 0.39252336448598135, 0.39583333333333337, 0.3736263736263736, 0.30097087378640774, 0.45555555555555555], ['g4PQ753TDls.000.mp4', 0.5794392523364487, 0.5833333333333333, 0.6373626373626373, 0.3786407766990291, 0.611111111111111], ['6-O-HJf6OZI.005.mp4', 0.5233644859813085, 0.4791666666666667, 0.3626373626373627, 0.3300970873786408, 0.5777777777777777], ['29UCGJldICw.005.mp4', 0.30841121495327106, 0.4375, 0.4395604395604395, 0.4660194174757281, 0.5888888888888889], ['83cmR2fkyy8.002.mp4', 0.4579439252336449, 0.625, 0.6043956043956044, 0.3883495145631068, 0.6222222222222222], ['QsUj_OlGQ-0.004.mp4', 0.5420560747663552, 0.5729166666666666, 0.6043956043956044, 0.4563106796116505, 0.5555555555555556], ['N1ZOAktFbI0.004.mp4', 0.7383177570093458, 0.7395833333333333, 0.5714285714285714, 0.7864077669902914, 0.5888888888888889], ['xP6i_WO1LCM.000.mp4', 0.4579439252336449, 0.46875, 0.5054945054945055, 0.6213592233009709, 0.4777777777777778], ['Cvuu76B-bxA.005.mp4', 0.4392523364485981, 0.53125, 0.5274725274725275, 0.5048543689320388, 0.34444444444444444], ['ana5C73n9bY.003.mp4', 0.5046728971962617, 0.5729166666666666, 0.7032967032967032, 0.6601941747572816, 0.5888888888888889], ['6LKbPUX03sY.000.mp4', 0.4299065420560748, 0.5208333333333334, 0.5274725274725275, 0.2815533980582524, 0.5777777777777777], ['1q-N_zbsAg0.003.mp4', 0.5420560747663552, 0.39583333333333337, 0.6043956043956044, 0.4174757281553398, 0.4888888888888889], ['PtA7yAu9-VE.004.mp4', 0.4485981308411215, 0.6041666666666666, 0.6043956043956044, 0.5825242718446602, 0.6555555555555556], ['1-GgVRmAEoo.003.mp4', 0.5981308411214954, 0.4479166666666667, 0.6043956043956044, 0.7087378640776699, 0.6777777777777777], ['2x8GZaBY6TM.001.mp4', 0.09345794392523363, 0.20833333333333331, 0.29670329670329665, 0.2621359223300971, 0.3], ['K7vBdKrcFKo.001.mp4', 0.2897196261682243, 0.39583333333333337, 0.3846153846153846, 0.3786407766990291, 0.41111111111111115], ['OuE91U_n04E.001.mp4', 0.7757009345794394, 0.8229166666666667, 0.5934065934065933, 0.7281553398058251, 0.8222222222222221], ['7qGYGbIg45c.002.mp4', 0.30841121495327106, 0.3333333333333333, 0.4725274725274725, 0.5631067961165048, 0.45555555555555555], ['fyXiORXmWHs.002.mp4', 0.4485981308411215, 0.32291666666666663, 0.4065934065934066, 0.3203883495145631, 0.33333333333333337], ['YjXUMygVw7U.002.mp4', 0.4205607476635514, 0.35416666666666663, 0.4615384615384615, 0.3495145631067961, 0.5111111111111111], ['GYku69XEoxc.004.mp4', 0.6728971962616823, 0.6354166666666666, 0.5604395604395604, 0.4077669902912622, 0.6888888888888889], ['LsPKxJgefks.004.mp4', 0.4485981308411215, 0.5520833333333334, 0.5824175824175825, 0.6019417475728155, 0.8333333333333333], ['9J-KIPMQmqk.005.mp4', 0.48598130841121495, 0.6458333333333333, 0.6043956043956044, 0.7281553398058251, 0.5111111111111111], ['aMPe0uSKqF4.005.mp4', 0.3271028037383178, 0.34374999999999994, 0.29670329670329665, 0.33980582524271846, 0.6444444444444444], ['fEZrAGQoh_g.000.mp4', 0.36448598130841126, 0.4791666666666667, 0.5824175824175825, 0.35922330097087385, 0.5444444444444444], ['Tch2Bt9b8AY.001.mp4', 0.5607476635514019, 0.5208333333333334, 0.6373626373626373, 0.6699029126213591, 0.6222222222222222], ['oBE9f5xD9rk.004.mp4', 0.7289719626168225, 0.7395833333333333, 0.6483516483516484, 0.7378640776699029, 0.6555555555555556], ['xpSCu7PgJts.004.mp4', 0.26168224299065423, 0.35416666666666663, 0.4395604395604395, 0.4660194174757281, 0.3555555555555556], ['sSYCMN-WHmI.000.mp4', 0.5981308411214954, 0.625, 0.7252747252747254, 0.5728155339805825, 0.611111111111111], ['5xA8-Y5qgT0.000.mp4', 0.6355140186915887, 0.6979166666666666, 0.6703296703296703, 0.6796116504854369, 0.611111111111111], ['qfL0ml0f84g.003.mp4', 0.6822429906542057, 0.6770833333333334, 0.6703296703296703, 0.6310679611650486, 0.7222222222222221], ['Pr-RpZ4gYCM.001.mp4', 0.4392523364485981, 0.4791666666666667, 0.4505494505494505, 0.5436893203883495, 0.6888888888888889], ['glgfB3vFewc.003.mp4', 0.5233644859813085, 0.65625, 0.6813186813186812, 0.8446601941747574, 0.5444444444444444], ['vQEZ5KF9I4E.004.mp4', 0.33644859813084116, 0.625, 0.6263736263736264, 0.7572815533980582, 0.4444444444444445], ['JIR4aPcyrn8.001.mp4', 0.29906542056074764, 0.2708333333333333, 0.30769230769230765, 0.2912621359223301, 0.26666666666666666], ['YryBLVZgJj0.003.mp4', 0.28037383177570097, 0.625, 0.5054945054945055, 0.7184466019417477, 0.3666666666666667], ['kDJigDGDJTo.005.mp4', 0.7009345794392524, 0.7916666666666667, 0.7142857142857143, 0.4563106796116505, 0.811111111111111], ['8AnIttmflwI.002.mp4', 0.4953271028037384, 0.5208333333333334, 0.5054945054945055, 0.47572815533980584, 0.5555555555555556], ['YP7N98ECZaI.002.mp4', 0.36448598130841126, 0.40625000000000006, 0.5384615384615384, 0.4466019417475728, 0.45555555555555555], ['Egogv6acOd0.001.mp4', 0.4018691588785047, 0.29166666666666663, 0.17582417582417584, 0.2621359223300971, 0.4777777777777778], ['o2lu6rkd5-Y.004.mp4', 0.37383177570093457, 0.42708333333333337, 0.4725274725274725, 0.5242718446601942, 0.3555555555555556], ['HP8f3oqJwz0.001.mp4', 0.5420560747663552, 0.6145833333333333, 0.6923076923076923, 0.5339805825242718, 0.5222222222222223], ['Gd08FYfFRtk.000.mp4', 0.6355140186915887, 0.6354166666666666, 0.6923076923076923, 0.5728155339805825, 0.6333333333333333], ['RgZTZIf8K8g.002.mp4', 0.39252336448598135, 0.4375, 0.5934065934065933, 0.5825242718446602, 0.5888888888888889], ['sBHv1jYmZQE.000.mp4', 0.35514018691588783, 0.32291666666666663, 0.31868131868131866, 0.30097087378640774, 0.45555555555555555], ['e2EmGXRJ1K0.000.mp4', 0.38317757009345793, 0.4791666666666667, 0.6263736263736264, 0.4854368932038835, 0.43333333333333335], ['ll_chn4R32Y.000.mp4', 0.4392523364485981, 0.37499999999999994, 0.6263736263736264, 0.4854368932038835, 0.5222222222222223], ['EYbPGTIcnjs.000.mp4', 0.7850467289719627, 0.7708333333333334, 0.7142857142857143, 0.7475728155339806, 0.9333333333333333], ['QiR6yJbFCfM.005.mp4', 0.36448598130841126, 0.4791666666666667, 0.6593406593406592, 0.4660194174757281, 0.5666666666666667], ['keW8-eSiQ70.003.mp4', 0.5700934579439253, 0.5729166666666666, 0.5384615384615384, 0.4854368932038835, 0.7888888888888888], ['q6au1xn_wIE.001.mp4', 0.30841121495327106, 0.5, 0.4395604395604395, 0.5048543689320388, 0.4666666666666667], ['mRKGI6hq4UU.004.mp4', 0.6822429906542057, 0.59375, 0.5714285714285714, 0.6019417475728155, 0.811111111111111], ['JoQRNgGQCgY.002.mp4', 0.6355140186915887, 0.65625, 0.7032967032967032, 0.6601941747572816, 0.6555555555555556], ['4V7doeEKsus.002.mp4', 0.4205607476635514, 0.5520833333333334, 0.5164835164835165, 0.5048543689320388, 0.6222222222222222], ['ivcVlDXJCDo.000.mp4', 0.6728971962616823, 0.6145833333333333, 0.6043956043956044, 0.4854368932038835, 0.6], ['9ydyJKZBWiA.000.mp4', 0.4112149532710281, 0.3125, 0.4835164835164835, 0.5242718446601942, 0.4444444444444445], ['OMHlfDF99Mw.000.mp4', 0.4953271028037384, 0.5625, 0.5054945054945055, 0.5728155339805825, 0.6333333333333333], ['foj4bqLSmF8.003.mp4', 0.29906542056074764, 0.42708333333333337, 0.4835164835164835, 0.33980582524271846, 0.3666666666666667], ['-9BZ8A9U7TE.004.mp4', 0.5046728971962617, 0.59375, 0.6043956043956044, 0.4174757281553398, 0.611111111111111], ['g0PWBzU95sI.001.mp4', 0.6074766355140188, 0.4895833333333333, 0.5164835164835165, 0.5145631067961165, 0.6], ['wuhoIm_jPc0.005.mp4', 0.47663551401869164, 0.59375, 0.6263736263736264, 0.6019417475728155, 0.611111111111111], ['LHV4HNK35pM.005.mp4', 0.7289719626168225, 0.5729166666666666, 0.6043956043956044, 0.47572815533980584, 0.6], ['cOossY5pTrU.002.mp4', 0.6261682242990655, 0.7812499999999999, 0.6813186813186812, 0.6601941747572816, 0.888888888888889], ['RsYSOFRFszk.004.mp4', 0.4672897196261683, 0.4166666666666667, 0.6153846153846153, 0.4563106796116505, 0.611111111111111], ['vIW7gDmhYMk.004.mp4', 0.4299065420560748, 0.5625, 0.6813186813186812, 0.5436893203883495, 0.6333333333333333], ['9XvDnTa0Z1M.003.mp4', 0.4112149532710281, 0.45833333333333337, 0.5054945054945055, 0.4368932038834952, 0.4777777777777778], ['IL5VgGakSNw.003.mp4', 0.4672897196261683, 0.6145833333333333, 0.5384615384615384, 0.6019417475728155, 0.6888888888888889], ['PuVy3akfzNI.002.mp4', 0.3271028037383178, 0.40625000000000006, 0.4175824175824176, 0.30097087378640774, 0.5444444444444444], ['l7U3YDIOE_s.000.mp4', 0.5140186915887851, 0.45833333333333337, 0.4615384615384615, 0.2912621359223301, 0.4], ['GTmHSF6vNWc.003.mp4', 0.48598130841121495, 0.6354166666666666, 0.5054945054945055, 0.5631067961165048, 0.7444444444444444], ['7RQbn7LM10I.000.mp4', 0.4579439252336449, 0.5, 0.5384615384615384, 0.5533980582524272, 0.5666666666666667], ['A1lbD_OCuj4.003.mp4', 0.25233644859813087, 0.37499999999999994, 0.5714285714285714, 0.4466019417475728, 0.3555555555555556], ['MrYEK0nvnAo.001.mp4', 0.588785046728972, 0.7187499999999999, 0.7692307692307692, 0.8543689320388351, 0.6777777777777777], ['hX2TVefa5bQ.005.mp4', 0.6448598130841123, 0.59375, 0.6813186813186812, 0.5631067961165048, 0.6777777777777777], ['GWOtluILlk4.005.mp4', 0.33644859813084116, 0.5729166666666666, 0.5384615384615384, 0.4854368932038835, 0.5666666666666667], ['LSqijVxP0EM.002.mp4', 0.3457943925233645, 0.18749999999999997, 0.23076923076923075, 0.3980582524271845, 0.5222222222222223], ['fSkQXqXR7D0.001.mp4', 0.5140186915887851, 0.6979166666666666, 0.813186813186813, 0.5048543689320388, 0.7222222222222221], ['VAZLQqJa9rQ.004.mp4', 0.4485981308411215, 0.4479166666666667, 0.4505494505494505, 0.47572815533980584, 0.4888888888888889], ['Z3FdUfZLHyw.004.mp4', 0.30841121495327106, 0.34374999999999994, 0.3846153846153846, 0.23300970873786406, 0.3777777777777778], ['J8YpOUmN_aI.005.mp4', 0.5140186915887851, 0.5208333333333334, 0.5824175824175825, 0.5145631067961165, 0.6222222222222222], ['RgZTZIf8K8g.001.mp4', 0.3177570093457944, 0.5104166666666666, 0.4505494505494505, 0.4854368932038835, 0.4444444444444445], ['WT1YjeADatU.000.mp4', 0.3457943925233645, 0.45833333333333337, 0.4725274725274725, 0.4854368932038835, 0.4222222222222222], ['Oe7ItP7gS4w.000.mp4', 0.5700934579439253, 0.8229166666666667, 0.5604395604395604, 0.6019417475728155, 0.7444444444444444], ['kDJigDGDJTo.001.mp4', 0.5046728971962617, 0.5729166666666666, 0.5164835164835165, 0.3300970873786408, 0.6], ['uwUkp63db18.001.mp4', 0.30841121495327106, 0.5729166666666666, 0.5054945054945055, 0.7378640776699029, 0.3777777777777778], ['iXaqqRE76lI.000.mp4', 0.5420560747663552, 0.53125, 0.5714285714285714, 0.7475728155339806, 0.7222222222222221], ['V4ibYU1O-YI.000.mp4', 0.26168224299065423, 0.2708333333333333, 0.4175824175824176, 0.2621359223300971, 0.6444444444444444], ['YP7N98ECZaI.001.mp4', 0.2710280373831776, 0.42708333333333337, 0.4835164835164835, 0.30097087378640774, 0.45555555555555555], ['s-jZlMKQGwc.000.mp4', 0.37383177570093457, 0.3333333333333333, 0.5164835164835165, 0.36893203883495146, 0.45555555555555555], ['me15sHPOjKo.002.mp4', 0.5140186915887851, 0.46875, 0.5934065934065933, 0.33980582524271846, 0.5777777777777777], ['yVSfQZGt1co.001.mp4', 0.6448598130841123, 0.5833333333333333, 0.5604395604395604, 0.7378640776699029, 0.7444444444444444], ['encC96iqr9Y.002.mp4', 0.5420560747663552, 0.53125, 0.5824175824175825, 0.6019417475728155, 0.5777777777777777], ['VOeVhXWK7-8.005.mp4', 0.4112149532710281, 0.53125, 0.5824175824175825, 0.7281553398058251, 0.5333333333333333], ['t0_DAgeU4nM.003.mp4', 0.588785046728972, 0.6770833333333334, 0.6043956043956044, 0.3980582524271845, 0.5666666666666667], ['aptKaxP81xA.000.mp4', 0.4205607476635514, 0.4479166666666667, 0.6703296703296703, 0.7864077669902914, 0.4777777777777778], ['Q0C0OU-j4DA.005.mp4', 0.5233644859813085, 0.4479166666666667, 0.3736263736263736, 0.2912621359223301, 0.8222222222222221], ['mY1ZTvNVkSA.003.mp4', 0.5327102803738318, 0.59375, 0.6483516483516484, 0.5145631067961165, 0.5111111111111111], ['sf29orxf4X0.002.mp4', 0.30841121495327106, 0.5416666666666666, 0.31868131868131866, 0.30097087378640774, 0.4666666666666667], ['b8GPFr11adA.005.mp4', 0.4485981308411215, 0.625, 0.5604395604395604, 0.6407766990291262, 0.611111111111111], ['_0bg1TLPP-I.004.mp4', 0.5607476635514019, 0.53125, 0.7472527472527474, 0.6019417475728155, 0.5444444444444444], ['OovRk5U9_GY.004.mp4', 0.4579439252336449, 0.625, 0.6153846153846153, 0.5145631067961165, 0.5222222222222223], ['fYUcoKDyRiU.001.mp4', 0.4579439252336449, 0.45833333333333337, 0.4065934065934066, 0.4660194174757281, 0.4444444444444445], ['4vdJGgZpj4k.004.mp4', 0.48598130841121495, 0.6666666666666667, 0.5604395604395604, 0.5728155339805825, 0.6222222222222222], ['XhgDsQlEnuU.001.mp4', 0.47663551401869164, 0.5625, 0.5714285714285714, 0.5242718446601942, 0.6], ['84Lz5a9yRZg.002.mp4', 0.5514018691588786, 0.6979166666666666, 0.7142857142857143, 0.7864077669902914, 0.7555555555555554], ['tomb22yfjTc.002.mp4', 0.30841121495327106, 0.4791666666666667, 0.3626373626373627, 0.4466019417475728, 0.3666666666666667], ['vxuBHsokOX4.005.mp4', 0.25233644859813087, 0.2708333333333333, 0.2637362637362637, 0.33980582524271846, 0.3666666666666667], ['PKYh4sungwI.003.mp4', 0.7009345794392524, 0.6770833333333334, 0.6373626373626373, 0.6699029126213591, 0.5888888888888889], ['dy9EqbKLDP0.001.mp4', 0.5140186915887851, 0.7500000000000001, 0.7252747252747254, 0.8058252427184466, 0.7999999999999999], ['JFKZEGDhcRs.001.mp4', 0.4299065420560748, 0.39583333333333337, 0.4945054945054945, 0.4174757281553398, 0.5], ['MOobNUpfWiY.004.mp4', 0.26168224299065423, 0.3125, 0.31868131868131866, 0.31067961165048547, 0.26666666666666666], ['a4bCX4P_5KI.000.mp4', 0.38317757009345793, 0.4895833333333333, 0.4945054945054945, 0.6504854368932039, 0.5333333333333333], ['w989xx44UQI.000.mp4', 0.5981308411214954, 0.6354166666666666, 0.5274725274725275, 0.5145631067961165, 0.6555555555555556], ['93XyRBd_HqU.002.mp4', 0.5140186915887851, 0.6458333333333333, 0.5714285714285714, 0.7669902912621359, 0.45555555555555555], ['LuLUAwn0aWU.003.mp4', 0.5700934579439253, 0.45833333333333337, 0.6263736263736264, 0.5339805825242718, 0.6444444444444444], ['A7qb47cmxJo.000.mp4', 0.4392523364485981, 0.5833333333333333, 0.5714285714285714, 0.5533980582524272, 0.5888888888888889], ['Gs-AdRcYSPo.004.mp4', 0.5514018691588786, 0.6354166666666666, 0.6593406593406592, 0.6601941747572816, 0.711111111111111], ['vZPLbzF0aSg.001.mp4', 0.588785046728972, 0.4791666666666667, 0.6153846153846153, 0.5339805825242718, 0.711111111111111], ['mlXZQ8dO0nQ.005.mp4', 0.5700934579439253, 0.53125, 0.4615384615384615, 0.5825242718446602, 0.6888888888888889], ['KahSwziq8F0.000.mp4', 0.7289719626168225, 0.6145833333333333, 0.6923076923076923, 0.5436893203883495, 0.5666666666666667], ['6SiutTvCDUw.000.mp4', 0.37383177570093457, 0.5520833333333334, 0.5274725274725275, 0.4368932038834952, 0.6333333333333333], ['0FVu7VKIg2s.000.mp4', 0.39252336448598135, 0.4895833333333333, 0.4835164835164835, 0.4174757281553398, 0.5], ['9a-3LrB7cDI.003.mp4', 0.5607476635514019, 0.59375, 0.7692307692307692, 0.7184466019417477, 0.4777777777777778], ['rW3hFpfGMHs.003.mp4', 0.7009345794392524, 0.6041666666666666, 0.6373626373626373, 0.4854368932038835, 0.6666666666666666], ['DTZeyoKUPx4.003.mp4', 0.19626168224299068, 0.15624999999999994, 0.3516483516483516, 0.2621359223300971, 0.26666666666666666], ['ipP--IqIuWU.001.mp4', 0.4579439252336449, 0.4375, 0.6153846153846153, 0.2815533980582524, 0.5888888888888889], ['JEualxMkaE4.003.mp4', 0.5420560747663552, 0.4895833333333333, 0.4395604395604395, 0.4077669902912622, 0.6333333333333333], ['iGBVrJMr62U.005.mp4', 0.5514018691588786, 0.53125, 0.4945054945054945, 0.5533980582524272, 0.5444444444444444], ['LuLUAwn0aWU.001.mp4', 0.4299065420560748, 0.4895833333333333, 0.5494505494505494, 0.4466019417475728, 0.5666666666666667], ['aLvpOYqzErk.000.mp4', 0.6261682242990655, 0.34374999999999994, 0.5494505494505494, 0.3786407766990291, 0.611111111111111], ['KDwpjQiIfjY.000.mp4', 0.5233644859813085, 0.7083333333333334, 0.5934065934065933, 0.5339805825242718, 0.6666666666666666], ['xgRqkTXmZko.000.mp4', 0.5981308411214954, 0.7187499999999999, 0.5604395604395604, 0.6504854368932039, 0.8222222222222221], ['6CRet5sD6xI.003.mp4', 0.19626168224299068, 0.20833333333333331, 0.2747252747252747, 0.2621359223300971, 0.2777777777777778], ['39BJkEXJpgc.001.mp4', 0.33644859813084116, 0.4479166666666667, 0.4835164835164835, 0.7087378640776699, 0.33333333333333337], ['xun35caJTQI.002.mp4', 0.4205607476635514, 0.5625, 0.5604395604395604, 0.6019417475728155, 0.4777777777777778], ['NFAlff6GUpA.003.mp4', 0.663551401869159, 0.6979166666666666, 0.7252747252747254, 0.5922330097087379, 0.6333333333333333], ['Ft0ahViXZPc.003.mp4', 0.5046728971962617, 0.6458333333333333, 0.6593406593406592, 0.47572815533980584, 0.6333333333333333], ['Qqc1539E6rs.002.mp4', 0.588785046728972, 0.6979166666666666, 0.5384615384615384, 0.7087378640776699, 0.8222222222222221], ['54TGLGvIm_8.004.mp4', 0.5794392523364487, 0.5416666666666666, 0.5934065934065933, 0.5145631067961165, 0.711111111111111], ['ymrFbEMNBME.001.mp4', 0.47663551401869164, 0.39583333333333337, 0.4945054945054945, 0.5145631067961165, 0.5], ['twO6ceVTuII.005.mp4', 0.26168224299065423, 0.3333333333333333, 0.3626373626373627, 0.2621359223300971, 0.41111111111111115], ['ZqbJIM7rmO8.003.mp4', 0.5233644859813085, 0.5833333333333333, 0.6593406593406592, 0.4174757281553398, 0.6888888888888889], ['PoF3lxFDggQ.004.mp4', 0.6074766355140188, 0.6354166666666666, 0.5274725274725275, 0.7087378640776699, 0.6777777777777777], ['Lq4uvcHNiy8.000.mp4', 0.4672897196261683, 0.39583333333333337, 0.4285714285714285, 0.5048543689320388, 0.43333333333333335], ['OckL7z_nBGg.003.mp4', 0.5794392523364487, 0.7187499999999999, 0.5824175824175825, 0.7572815533980582, 0.6], ['TaL5JleXDP8.003.mp4', 0.5420560747663552, 0.6458333333333333, 0.5824175824175825, 0.7184466019417477, 0.7888888888888888], ['zRiS2gIUc9s.001.mp4', 0.39252336448598135, 0.5833333333333333, 0.5274725274725275, 0.5339805825242718, 0.5666666666666667], ['fTpemcfElxI.001.mp4', 0.5607476635514019, 0.7291666666666667, 0.5494505494505494, 0.5436893203883495, 0.6222222222222222], ['MOobNUpfWiY.000.mp4', 0.1588785046728972, 0.17708333333333331, 0.4505494505494505, 0.14563106796116504, 0.24444444444444444], ['DhqfB9chceo.003.mp4', 0.4579439252336449, 0.5104166666666666, 0.4725274725274725, 0.31067961165048547, 0.5888888888888889], ['Kbcvurfuvhk.002.mp4', 0.4299065420560748, 0.53125, 0.6263736263736264, 0.5533980582524272, 0.5333333333333333], ['RhFPotjd0hM.004.mp4', 0.5514018691588786, 0.5729166666666666, 0.6593406593406592, 0.6893203883495147, 0.5888888888888889], ['edHTGYBFCWQ.000.mp4', 0.5327102803738318, 0.5625, 0.6593406593406592, 0.7766990291262136, 0.7444444444444444], ['2mgj9ncREyA.000.mp4', 0.5700934579439253, 0.7187499999999999, 0.6373626373626373, 0.47572815533980584, 0.7222222222222221], ['2hhqEWiv4eI.002.mp4', 0.47663551401869164, 0.3854166666666667, 0.4175824175824176, 0.3300970873786408, 0.25555555555555554], ['pOBn7AuGIuI.003.mp4', 0.5794392523364487, 0.625, 0.6043956043956044, 0.6990291262135921, 0.7], ['3J7Cl3FXs1o.001.mp4', 0.588785046728972, 0.5729166666666666, 0.7802197802197802, 0.6116504854368932, 0.6444444444444444], ['vOEQlAMABWM.003.mp4', 0.5794392523364487, 0.6041666666666666, 0.5274725274725275, 0.6504854368932039, 0.5777777777777777], ['OhHg1lyxe4I.001.mp4', 0.14018691588785046, 0.19791666666666666, 0.30769230769230765, 0.16504854368932043, 0.1888888888888889], ['CqQavmWSLrI.000.mp4', 0.5140186915887851, 0.5104166666666666, 0.6483516483516484, 0.4854368932038835, 0.5666666666666667], ['NZXtEENlWL4.003.mp4', 0.4299065420560748, 0.59375, 0.4395604395604395, 0.6213592233009709, 0.5777777777777777], ['xRhUBifOWiI.001.mp4', 0.5700934579439253, 0.59375, 0.6923076923076923, 0.6990291262135921, 0.5777777777777777], ['_7s27dUoYVg.003.mp4', 0.6261682242990655, 0.5520833333333334, 0.5824175824175825, 0.6699029126213591, 0.711111111111111], ['rTG9gtci67c.002.mp4', 0.663551401869159, 0.7708333333333334, 0.7582417582417583, 0.6893203883495147, 0.6], ['9ydyJKZBWiA.002.mp4', 0.37383177570093457, 0.5104166666666666, 0.5714285714285714, 0.6213592233009709, 0.4777777777777778], ['1cqwKxx6GF8.004.mp4', 0.5233644859813085, 0.5104166666666666, 0.5494505494505494, 0.4174757281553398, 0.5222222222222223], ['HekcZ0Em60E.005.mp4', 0.5327102803738318, 0.4479166666666667, 0.7362637362637363, 0.4951456310679611, 0.5777777777777777], ['uKy7lHuMQ_o.000.mp4', 0.4485981308411215, 0.4166666666666667, 0.4945054945054945, 0.36893203883495146, 0.5444444444444444], ['upgv7xmOb1I.005.mp4', 0.20560747663551404, 0.2395833333333333, 0.2087912087912088, 0.2621359223300971, 0.2111111111111111], ['lLKwlPLdYig.000.mp4', 0.33644859813084116, 0.39583333333333337, 0.4725274725274725, 0.31067961165048547, 0.2777777777777778], ['CdUYBux3Vn8.000.mp4', 0.663551401869159, 0.7812499999999999, 0.6813186813186812, 0.5436893203883495, 0.7444444444444444], ['sqnW6xXYTKg.003.mp4', 0.663551401869159, 0.6458333333333333, 0.6373626373626373, 0.5825242718446602, 0.7333333333333333], ['wTo1uZns2X8.003.mp4', 0.6448598130841123, 0.65625, 0.6483516483516484, 0.3786407766990291, 0.5777777777777777], ['g8rjtlzAQ6k.003.mp4', 0.5607476635514019, 0.6666666666666667, 0.7362637362637363, 0.6019417475728155, 0.6555555555555556], ['QsUj_OlGQ-0.002.mp4', 0.47663551401869164, 0.6875, 0.6593406593406592, 0.6213592233009709, 0.4888888888888889], ['R8Gpa-rRywc.001.mp4', 0.4392523364485981, 0.4895833333333333, 0.4395604395604395, 0.6116504854368932, 0.5888888888888889], ['Y-_JeJoCjUo.001.mp4', 0.691588785046729, 0.7395833333333333, 0.7692307692307692, 0.7961165048543688, 0.7555555555555554], ['PgpMUHH8lEI.004.mp4', 0.6168224299065421, 0.6041666666666666, 0.6593406593406592, 0.6213592233009709, 0.5444444444444444], ['QQzeQOoqO20.001.mp4', 0.6728971962616823, 0.5833333333333333, 0.5824175824175825, 0.6990291262135921, 0.6222222222222222], ['gLtvOEy7m8Q.005.mp4', 0.5140186915887851, 0.7395833333333333, 0.6483516483516484, 0.6990291262135921, 0.7222222222222221], ['bLrrDM1Opu0.001.mp4', 0.4579439252336449, 0.4895833333333333, 0.3956043956043956, 0.6116504854368932, 0.4666666666666667], ['LtBYojIGYEc.003.mp4', 0.36448598130841126, 0.4895833333333333, 0.7142857142857143, 0.5339805825242718, 0.4777777777777778], ['8hGOOynn3ZU.005.mp4', 0.25233644859813087, 0.3854166666666667, 0.5494505494505494, 0.6116504854368932, 0.4888888888888889], ['izqyworQEEM.002.mp4', 0.4299065420560748, 0.5416666666666666, 0.5714285714285714, 0.4368932038834952, 0.5222222222222223], ['t1PKNXE-IiM.000.mp4', 0.663551401869159, 0.625, 0.5604395604395604, 0.7281553398058251, 0.6444444444444444], ['Pb7aNc6Kd40.003.mp4', 0.4112149532710281, 0.625, 0.5604395604395604, 0.6407766990291262, 0.611111111111111], ['USicjVA1trA.004.mp4', 0.6822429906542057, 0.6875, 0.6153846153846153, 0.5533980582524272, 0.7333333333333333], ['s3m8DgUi6GM.001.mp4', 0.39252336448598135, 0.37499999999999994, 0.5274725274725275, 0.42718446601941745, 0.711111111111111], ['m2uxFfpb5xU.001.mp4', 0.5514018691588786, 0.4479166666666667, 0.7472527472527474, 0.6213592233009709, 0.6], ['FQMmM3TL5rE.003.mp4', 0.39252336448598135, 0.5625, 0.6043956043956044, 0.6504854368932039, 0.5222222222222223], ['K-iwJMxjyx4.003.mp4', 0.4392523364485981, 0.6041666666666666, 0.5934065934065933, 0.42718446601941745, 0.5555555555555556], ['VUgKH9DIs-8.000.mp4', 0.14018691588785046, 0.21874999999999997, 0.29670329670329665, 0.27184466019417475, 0.22222222222222224], ['9QGTbcqb2tM.002.mp4', 0.3457943925233645, 0.4791666666666667, 0.5384615384615384, 0.4563106796116505, 0.611111111111111], ['do8FmnQbI5I.001.mp4', 0.6355140186915887, 0.6770833333333334, 0.7362637362637363, 0.7184466019417477, 0.6888888888888889], ['XJj34u5IzU0.002.mp4', 0.588785046728972, 0.65625, 0.7032967032967032, 0.5825242718446602, 0.7444444444444444], ['1jC4vsQsjwM.004.mp4', 0.588785046728972, 0.625, 0.6153846153846153, 0.47572815533980584, 0.6222222222222222], ['5z4G0biL9B4.003.mp4', 0.6261682242990655, 0.65625, 0.813186813186813, 0.6699029126213591, 0.8222222222222221], ['XN5vpJU3ifw.004.mp4', 0.2710280373831776, 0.3333333333333333, 0.4615384615384615, 0.4174757281553398, 0.3777777777777778], ['mkJjaOADfj4.003.mp4', 0.6542056074766356, 0.8125000000000001, 0.6483516483516484, 0.7475728155339806, 0.7666666666666666], ['dkhnv1EBvKI.002.mp4', 0.4953271028037384, 0.7187499999999999, 0.6483516483516484, 0.6504854368932039, 0.6444444444444444], ['FoWuHvikyqU.001.mp4', 0.6822429906542057, 0.6458333333333333, 0.5934065934065933, 0.4951456310679611, 0.6444444444444444], ['CPtaCNonKlE.004.mp4', 0.26168224299065423, 0.4166666666666667, 0.4615384615384615, 0.42718446601941745, 0.38888888888888895], ['iPblZBQpafs.001.mp4', 0.37383177570093457, 0.32291666666666663, 0.4285714285714285, 0.35922330097087385, 0.5222222222222223], ['Gl93Hw1A2kY.002.mp4', 0.30841121495327106, 0.3125, 0.4395604395604395, 0.4466019417475728, 0.38888888888888895], ['OeT6Skotv7g.004.mp4', 0.36448598130841126, 0.42708333333333337, 0.31868131868131866, 0.2621359223300971, 0.5], ['KJ643kfjqLY.001.mp4', 0.588785046728972, 0.45833333333333337, 0.6373626373626373, 0.5533980582524272, 0.6777777777777777], ['3ySH8eJQRCI.003.mp4', 0.3457943925233645, 0.4791666666666667, 0.6263736263736264, 0.4368932038834952, 0.5444444444444444], ['yftfxiDNXko.004.mp4', 0.3177570093457944, 0.3854166666666667, 0.5494505494505494, 0.33980582524271846, 0.4666666666666667], ['Lt89YrQHF_w.004.mp4', 0.4018691588785047, 0.4791666666666667, 0.4945054945054945, 0.31067961165048547, 0.5], ['s6gN_358tk4.001.mp4', 0.5140186915887851, 0.6875, 0.6153846153846153, 0.5533980582524272, 0.7999999999999999], ['M56UFrEgXnI.004.mp4', 0.35514018691588783, 0.5, 0.5274725274725275, 0.3786407766990291, 0.6], ['PHUlL5ZzX5U.001.mp4', 0.2149532710280374, 0.22916666666666663, 0.23076923076923075, 0.36893203883495146, 0.4444444444444445], ['9z5cV1ANYwE.002.mp4', 0.4112149532710281, 0.5625, 0.4285714285714285, 0.7281553398058251, 0.5333333333333333], ['SPpox8EGQqU.001.mp4', 0.588785046728972, 0.6354166666666666, 0.5274725274725275, 0.5145631067961165, 0.611111111111111], ['tepWDnvIuRg.004.mp4', 0.5327102803738318, 0.6354166666666666, 0.7032967032967032, 0.4660194174757281, 0.7555555555555554], ['auhe41Tf50M.003.mp4', 0.5327102803738318, 0.6354166666666666, 0.5384615384615384, 0.6019417475728155, 0.8666666666666667], ['IveGfOJ86wY.000.mp4', 0.4579439252336449, 0.4479166666666667, 0.4945054945054945, 0.4466019417475728, 0.5666666666666667], ['p6UMx8dwHZQ.000.mp4', 0.4392523364485981, 0.42708333333333337, 0.5604395604395604, 0.3495145631067961, 0.5111111111111111], ['t30ERiF6b50.003.mp4', 0.4672897196261683, 0.6666666666666667, 0.5604395604395604, 0.42718446601941745, 0.5444444444444444], ['FwjoTGcsFNg.000.mp4', 0.6542056074766356, 0.6354166666666666, 0.6263736263736264, 0.5048543689320388, 0.7], ['m2uxFfpb5xU.005.mp4', 0.4392523364485981, 0.5208333333333334, 0.4615384615384615, 0.7378640776699029, 0.5666666666666667], ['JFKZEGDhcRs.000.mp4', 0.48598130841121495, 0.4166666666666667, 0.5274725274725275, 0.3980582524271845, 0.5777777777777777], ['NdAJGXf8aos.005.mp4', 0.6261682242990655, 0.625, 0.6153846153846153, 0.5631067961165048, 0.6666666666666666], ['ai-RZb0ZpKI.002.mp4', 0.38317757009345793, 0.6145833333333333, 0.5384615384615384, 0.33980582524271846, 0.6888888888888889], ['p7aNK5GKwEc.000.mp4', 0.4485981308411215, 0.6041666666666666, 0.5824175824175825, 0.42718446601941745, 0.4777777777777778], ['Gk94xrcmFts.000.mp4', 0.14018691588785046, 0.1458333333333333, 0.14285714285714282, 0.18446601941747573, 0.28888888888888886], ['EcOC7ZVRSg4.002.mp4', 0.5607476635514019, 0.5729166666666666, 0.5384615384615384, 0.5922330097087379, 0.6222222222222222], ['si_gZCrLa4A.002.mp4', 0.29906542056074764, 0.34374999999999994, 0.4725274725274725, 0.2912621359223301, 0.4888888888888889], ['59Smv7wl--w.003.mp4', 0.26168224299065423, 0.6145833333333333, 0.4505494505494505, 0.8446601941747574, 0.3777777777777778], ['Cl7vQ9QR0es.001.mp4', 0.6261682242990655, 0.5833333333333333, 0.7252747252747254, 0.3786407766990291, 0.6444444444444444], ['9Crw2RtrBcY.001.mp4', 0.4953271028037384, 0.7395833333333333, 0.6153846153846153, 0.8155339805825244, 0.6], ['DiaibIBisuM.004.mp4', 0.4205607476635514, 0.6770833333333334, 0.5824175824175825, 0.4660194174757281, 0.6777777777777777], ['PooFvZH6fK0.001.mp4', 0.6168224299065421, 0.59375, 0.6043956043956044, 0.6116504854368932, 0.6], ['bcRPLKygrNk.000.mp4', 0.4018691588785047, 0.37499999999999994, 0.4615384615384615, 0.3786407766990291, 0.5222222222222223], ['b6eoqD1J_qU.003.mp4', 0.6168224299065421, 0.6979166666666666, 0.6813186813186812, 0.6699029126213591, 0.6222222222222222], ['lLObIVKYDUI.004.mp4', 0.19626168224299068, 0.25, 0.3846153846153846, 0.4466019417475728, 0.3555555555555556], ['o2wtRccAgjE.003.mp4', 0.39252336448598135, 0.4895833333333333, 0.7032967032967032, 0.6019417475728155, 0.5555555555555556], ['TNjEJGdqmH0.005.mp4', 0.5700934579439253, 0.6145833333333333, 0.6483516483516484, 0.5436893203883495, 0.5555555555555556], ['mZQP06F94u8.004.mp4', 0.4953271028037384, 0.4166666666666667, 0.4175824175824176, 0.3786407766990291, 0.4666666666666667], ['6wIEiqmuHOM.000.mp4', 0.5233644859813085, 0.6041666666666666, 0.4395604395604395, 0.6601941747572816, 0.5777777777777777], ['htH89DBizno.003.mp4', 0.4672897196261683, 0.4895833333333333, 0.5714285714285714, 0.4563106796116505, 0.5111111111111111], ['5Eez38v8TuU.005.mp4', 0.36448598130841126, 0.5104166666666666, 0.5824175824175825, 0.3883495145631068, 0.5333333333333333], ['F4UeAogUMMs.004.mp4', 0.4392523364485981, 0.3645833333333333, 0.2857142857142857, 0.4077669902912622, 0.4444444444444445], ['JKDEEwxZwrw.001.mp4', 0.3177570093457944, 0.5208333333333334, 0.4395604395604395, 0.4854368932038835, 0.6], ['BS0wgLXqFgc.003.mp4', 0.6542056074766356, 0.6041666666666666, 0.6923076923076923, 0.6019417475728155, 0.6888888888888889], ['fIiXuRlTPa0.000.mp4', 0.36448598130841126, 0.6666666666666667, 0.6923076923076923, 0.7669902912621359, 0.6666666666666666], ['Bo-mrL28d8M.004.mp4', 0.2149532710280374, 0.3020833333333333, 0.3516483516483516, 0.4077669902912622, 0.41111111111111115], ['Y1LrgyCJtpU.003.mp4', 0.3177570093457944, 0.4166666666666667, 0.5164835164835165, 0.5145631067961165, 0.4222222222222222], ['IMCEXoAkZv4.005.mp4', 0.6448598130841123, 0.8541666666666667, 0.6923076923076923, 0.9514563106796118, 0.7333333333333333], ['-IK--4uz5ZY.000.mp4', 0.5794392523364487, 0.5625, 0.6043956043956044, 0.6796116504854369, 0.5888888888888889], ['nR0h3WFbPfA.004.mp4', 0.5514018691588786, 0.53125, 0.6593406593406592, 0.47572815533980584, 0.6333333333333333], ['qBG1mjC7Zgg.004.mp4', 0.5140186915887851, 0.5729166666666666, 0.4395604395604395, 0.4466019417475728, 0.5333333333333333], ['jnEHHvlBgxE.002.mp4', 0.6074766355140188, 0.5729166666666666, 0.7142857142857143, 0.5242718446601942, 0.6444444444444444], ['8PXQ_5tUv74.005.mp4', 0.5981308411214954, 0.5729166666666666, 0.4725274725274725, 0.6310679611650486, 0.6333333333333333], ['mpXOSY5dW7c.004.mp4', 0.48598130841121495, 0.5520833333333334, 0.6593406593406592, 0.5533980582524272, 0.6222222222222222], ['Vy-Lr_iM5qo.000.mp4', 0.6261682242990655, 0.59375, 0.6373626373626373, 0.6601941747572816, 0.7333333333333333], ['44rxmXiga90.005.mp4', 0.48598130841121495, 0.7187499999999999, 0.6043956043956044, 0.4951456310679611, 0.6], ['EYbPGTIcnjs.003.mp4', 0.5981308411214954, 0.7916666666666667, 0.7252747252747254, 0.7281553398058251, 0.7333333333333333], ['bMY2DaFFwzU.004.mp4', 0.19626168224299068, 0.2395833333333333, 0.3516483516483516, 0.35922330097087385, 0.28888888888888886], ['lxnV9X8T2Zc.003.mp4', 0.7196261682242993, 0.8020833333333334, 0.7912087912087912, 0.7572815533980582, 0.6555555555555556], ['o_kTWEEjtyw.001.mp4', 0.28037383177570097, 0.3020833333333333, 0.4395604395604395, 0.35922330097087385, 0.4888888888888889]]\n"
          ],
          "name": "stdout"
        }
      ]
    },
    {
      "cell_type": "markdown",
      "metadata": {
        "id": "0RACuzWMlvZm",
        "colab_type": "text"
      },
      "source": [
        "#FINAL"
      ]
    },
    {
      "cell_type": "code",
      "metadata": {
        "id": "KU48jIG0i-yL",
        "colab_type": "code",
        "colab": {}
      },
      "source": [
        "# Find the videos that were not copied to Drive\n",
        "video_list = glob.glob('/content/drive/.shortcut-targets-by-id/116/Unzipped_Videos/*.mp4')\n",
        "str1 = \"huIQlWsIEvY.003.mp4\"\n",
        "for idx, i in enumerate(video_list):\n",
        "  if i.split('/')[-1] in a&b:\n",
        "    print(idx)"
      ],
      "execution_count": null,
      "outputs": []
    },
    {
      "cell_type": "code",
      "metadata": {
        "id": "skInSgHLpevJ",
        "colab_type": "code",
        "colab": {
          "base_uri": "https://localhost:8080/",
          "height": 52
        },
        "outputId": "d147941d-617a-4a37-ae87-51f426512b8a"
      },
      "source": [
        "device = 'cuda:0'\n",
        "assert isinstance(device, str)\n",
        "num_cuda = torch.cuda.device_count()\n",
        "if 'cuda' in device:\n",
        "        if num_cuda > 0:\n",
        "            # Found CUDA device, use the GPU\n",
        "            print(num_cuda)\n",
        "            print(torch.device(device))\n",
        "            \n"
      ],
      "execution_count": null,
      "outputs": [
        {
          "output_type": "stream",
          "text": [
            "1\n",
            "cuda:0\n"
          ],
          "name": "stdout"
        }
      ]
    },
    {
      "cell_type": "code",
      "metadata": {
        "id": "SpNWGLugqZjw",
        "colab_type": "code",
        "colab": {
          "base_uri": "https://localhost:8080/",
          "height": 419
        },
        "outputId": "e7db8a2f-ab69-4fde-f5a1-c4faea2e840f"
      },
      "source": [
        "trainer = Trainer()\n",
        "video_name = video_list[1].split('/')[-1]\n",
        "trainer.train(video_name)\n"
      ],
      "execution_count": null,
      "outputs": [
        {
          "output_type": "stream",
          "text": [
            "mkdir: cannot create directory ‘/content/resnet_features’: File exists\n"
          ],
          "name": "stdout"
        },
        {
          "output_type": "stream",
          "text": [
            "\n",
            "\n",
            "\n",
            "\n",
            "\n",
            "  0%|          | 0/1 [00:00<?, ?it/s]\u001b[A\u001b[A\u001b[A\u001b[A\u001b[A"
          ],
          "name": "stderr"
        },
        {
          "output_type": "stream",
          "text": [
            "/content/images_dir1/a97PXgrKSxo.003.mp4\n",
            "a97PXgrKSxo.003.mp4\n",
            "Check if None or value None\n",
            "['/content/images_dir1/a97PXgrKSxo.003.mp4/a97PXgrKSxo.003_aligned/frame_det_00_000052.bmp', '/content/images_dir1/a97PXgrKSxo.003.mp4/a97PXgrKSxo.003_aligned/frame_det_00_000054.bmp', '/content/images_dir1/a97PXgrKSxo.003.mp4/a97PXgrKSxo.003_aligned/frame_det_00_000056.bmp', '/content/images_dir1/a97PXgrKSxo.003.mp4/a97PXgrKSxo.003_aligned/frame_det_00_000058.bmp', '/content/images_dir1/a97PXgrKSxo.003.mp4/a97PXgrKSxo.003_aligned/frame_det_00_000060.bmp', '/content/images_dir1/a97PXgrKSxo.003.mp4/a97PXgrKSxo.003_aligned/frame_det_00_000062.bmp', '/content/images_dir1/a97PXgrKSxo.003.mp4/a97PXgrKSxo.003_aligned/frame_det_00_000064.bmp', '/content/images_dir1/a97PXgrKSxo.003.mp4/a97PXgrKSxo.003_aligned/frame_det_00_000066.bmp', '/content/images_dir1/a97PXgrKSxo.003.mp4/a97PXgrKSxo.003_aligned/frame_det_00_000068.bmp', '/content/images_dir1/a97PXgrKSxo.003.mp4/a97PXgrKSxo.003_aligned/frame_det_00_000070.bmp', '/content/images_dir1/a97PXgrKSxo.003.mp4/a97PXgrKSxo.003_aligned/frame_det_00_000072.bmp', '/content/images_dir1/a97PXgrKSxo.003.mp4/a97PXgrKSxo.003_aligned/frame_det_00_000074.bmp', '/content/images_dir1/a97PXgrKSxo.003.mp4/a97PXgrKSxo.003_aligned/frame_det_00_000076.bmp', '/content/images_dir1/a97PXgrKSxo.003.mp4/a97PXgrKSxo.003_aligned/frame_det_00_000078.bmp', '/content/images_dir1/a97PXgrKSxo.003.mp4/a97PXgrKSxo.003_aligned/frame_det_00_000080.bmp', '/content/images_dir1/a97PXgrKSxo.003.mp4/a97PXgrKSxo.003_aligned/frame_det_00_000082.bmp', '/content/images_dir1/a97PXgrKSxo.003.mp4/a97PXgrKSxo.003_aligned/frame_det_00_000084.bmp', '/content/images_dir1/a97PXgrKSxo.003.mp4/a97PXgrKSxo.003_aligned/frame_det_00_000086.bmp', '/content/images_dir1/a97PXgrKSxo.003.mp4/a97PXgrKSxo.003_aligned/frame_det_00_000088.bmp', '/content/images_dir1/a97PXgrKSxo.003.mp4/a97PXgrKSxo.003_aligned/frame_det_00_000090.bmp', '/content/images_dir1/a97PXgrKSxo.003.mp4/a97PXgrKSxo.003_aligned/frame_det_00_000092.bmp', '/content/images_dir1/a97PXgrKSxo.003.mp4/a97PXgrKSxo.003_aligned/frame_det_00_000094.bmp', '/content/images_dir1/a97PXgrKSxo.003.mp4/a97PXgrKSxo.003_aligned/frame_det_00_000096.bmp', '/content/images_dir1/a97PXgrKSxo.003.mp4/a97PXgrKSxo.003_aligned/frame_det_00_000098.bmp', '/content/images_dir1/a97PXgrKSxo.003.mp4/a97PXgrKSxo.003_aligned/frame_det_00_000100.bmp', '/content/images_dir1/a97PXgrKSxo.003.mp4/a97PXgrKSxo.003_aligned/frame_det_00_000102.bmp', '/content/images_dir1/a97PXgrKSxo.003.mp4/a97PXgrKSxo.003_aligned/frame_det_00_000104.bmp', '/content/images_dir1/a97PXgrKSxo.003.mp4/a97PXgrKSxo.003_aligned/frame_det_00_000106.bmp', '/content/images_dir1/a97PXgrKSxo.003.mp4/a97PXgrKSxo.003_aligned/frame_det_00_000108.bmp', '/content/images_dir1/a97PXgrKSxo.003.mp4/a97PXgrKSxo.003_aligned/frame_det_00_000110.bmp', '/content/images_dir1/a97PXgrKSxo.003.mp4/a97PXgrKSxo.003_aligned/frame_det_00_000112.bmp', '/content/images_dir1/a97PXgrKSxo.003.mp4/a97PXgrKSxo.003_aligned/frame_det_00_000114.bmp', '/content/images_dir1/a97PXgrKSxo.003.mp4/a97PXgrKSxo.003_aligned/frame_det_00_000116.bmp', '/content/images_dir1/a97PXgrKSxo.003.mp4/a97PXgrKSxo.003_aligned/frame_det_00_000118.bmp', '/content/images_dir1/a97PXgrKSxo.003.mp4/a97PXgrKSxo.003_aligned/frame_det_00_000120.bmp']\n",
            "[[0.5233644859813085, 0.6354166666666666, 0.7582417582417583, 0.6699029126213591, 0.611111111111111], [0.5233644859813085, 0.6354166666666666, 0.7582417582417583, 0.6699029126213591, 0.611111111111111], [0.5233644859813085, 0.6354166666666666, 0.7582417582417583, 0.6699029126213591, 0.611111111111111], [0.5233644859813085, 0.6354166666666666, 0.7582417582417583, 0.6699029126213591, 0.611111111111111], [0.5233644859813085, 0.6354166666666666, 0.7582417582417583, 0.6699029126213591, 0.611111111111111], [0.5233644859813085, 0.6354166666666666, 0.7582417582417583, 0.6699029126213591, 0.611111111111111], [0.5233644859813085, 0.6354166666666666, 0.7582417582417583, 0.6699029126213591, 0.611111111111111], [0.5233644859813085, 0.6354166666666666, 0.7582417582417583, 0.6699029126213591, 0.611111111111111], [0.5233644859813085, 0.6354166666666666, 0.7582417582417583, 0.6699029126213591, 0.611111111111111], [0.5233644859813085, 0.6354166666666666, 0.7582417582417583, 0.6699029126213591, 0.611111111111111], [0.5233644859813085, 0.6354166666666666, 0.7582417582417583, 0.6699029126213591, 0.611111111111111], [0.5233644859813085, 0.6354166666666666, 0.7582417582417583, 0.6699029126213591, 0.611111111111111], [0.5233644859813085, 0.6354166666666666, 0.7582417582417583, 0.6699029126213591, 0.611111111111111], [0.5233644859813085, 0.6354166666666666, 0.7582417582417583, 0.6699029126213591, 0.611111111111111], [0.5233644859813085, 0.6354166666666666, 0.7582417582417583, 0.6699029126213591, 0.611111111111111], [0.5233644859813085, 0.6354166666666666, 0.7582417582417583, 0.6699029126213591, 0.611111111111111], [0.5233644859813085, 0.6354166666666666, 0.7582417582417583, 0.6699029126213591, 0.611111111111111], [0.5233644859813085, 0.6354166666666666, 0.7582417582417583, 0.6699029126213591, 0.611111111111111], [0.5233644859813085, 0.6354166666666666, 0.7582417582417583, 0.6699029126213591, 0.611111111111111], [0.5233644859813085, 0.6354166666666666, 0.7582417582417583, 0.6699029126213591, 0.611111111111111], [0.5233644859813085, 0.6354166666666666, 0.7582417582417583, 0.6699029126213591, 0.611111111111111], [0.5233644859813085, 0.6354166666666666, 0.7582417582417583, 0.6699029126213591, 0.611111111111111], [0.5233644859813085, 0.6354166666666666, 0.7582417582417583, 0.6699029126213591, 0.611111111111111], [0.5233644859813085, 0.6354166666666666, 0.7582417582417583, 0.6699029126213591, 0.611111111111111], [0.5233644859813085, 0.6354166666666666, 0.7582417582417583, 0.6699029126213591, 0.611111111111111], [0.5233644859813085, 0.6354166666666666, 0.7582417582417583, 0.6699029126213591, 0.611111111111111], [0.5233644859813085, 0.6354166666666666, 0.7582417582417583, 0.6699029126213591, 0.611111111111111], [0.5233644859813085, 0.6354166666666666, 0.7582417582417583, 0.6699029126213591, 0.611111111111111], [0.5233644859813085, 0.6354166666666666, 0.7582417582417583, 0.6699029126213591, 0.611111111111111], [0.5233644859813085, 0.6354166666666666, 0.7582417582417583, 0.6699029126213591, 0.611111111111111], [0.5233644859813085, 0.6354166666666666, 0.7582417582417583, 0.6699029126213591, 0.611111111111111], [0.5233644859813085, 0.6354166666666666, 0.7582417582417583, 0.6699029126213591, 0.611111111111111], [0.5233644859813085, 0.6354166666666666, 0.7582417582417583, 0.6699029126213591, 0.611111111111111], [0.5233644859813085, 0.6354166666666666, 0.7582417582417583, 0.6699029126213591, 0.611111111111111], [0.5233644859813085, 0.6354166666666666, 0.7582417582417583, 0.6699029126213591, 0.611111111111111]]\n",
            "path_label ka output (['/content/images_dir1/a97PXgrKSxo.003.mp4/a97PXgrKSxo.003_aligned/frame_det_00_000052.bmp', '/content/images_dir1/a97PXgrKSxo.003.mp4/a97PXgrKSxo.003_aligned/frame_det_00_000054.bmp', '/content/images_dir1/a97PXgrKSxo.003.mp4/a97PXgrKSxo.003_aligned/frame_det_00_000056.bmp', '/content/images_dir1/a97PXgrKSxo.003.mp4/a97PXgrKSxo.003_aligned/frame_det_00_000058.bmp', '/content/images_dir1/a97PXgrKSxo.003.mp4/a97PXgrKSxo.003_aligned/frame_det_00_000060.bmp', '/content/images_dir1/a97PXgrKSxo.003.mp4/a97PXgrKSxo.003_aligned/frame_det_00_000062.bmp', '/content/images_dir1/a97PXgrKSxo.003.mp4/a97PXgrKSxo.003_aligned/frame_det_00_000064.bmp', '/content/images_dir1/a97PXgrKSxo.003.mp4/a97PXgrKSxo.003_aligned/frame_det_00_000066.bmp', '/content/images_dir1/a97PXgrKSxo.003.mp4/a97PXgrKSxo.003_aligned/frame_det_00_000068.bmp', '/content/images_dir1/a97PXgrKSxo.003.mp4/a97PXgrKSxo.003_aligned/frame_det_00_000070.bmp', '/content/images_dir1/a97PXgrKSxo.003.mp4/a97PXgrKSxo.003_aligned/frame_det_00_000072.bmp', '/content/images_dir1/a97PXgrKSxo.003.mp4/a97PXgrKSxo.003_aligned/frame_det_00_000074.bmp', '/content/images_dir1/a97PXgrKSxo.003.mp4/a97PXgrKSxo.003_aligned/frame_det_00_000076.bmp', '/content/images_dir1/a97PXgrKSxo.003.mp4/a97PXgrKSxo.003_aligned/frame_det_00_000078.bmp', '/content/images_dir1/a97PXgrKSxo.003.mp4/a97PXgrKSxo.003_aligned/frame_det_00_000080.bmp', '/content/images_dir1/a97PXgrKSxo.003.mp4/a97PXgrKSxo.003_aligned/frame_det_00_000082.bmp', '/content/images_dir1/a97PXgrKSxo.003.mp4/a97PXgrKSxo.003_aligned/frame_det_00_000084.bmp', '/content/images_dir1/a97PXgrKSxo.003.mp4/a97PXgrKSxo.003_aligned/frame_det_00_000086.bmp', '/content/images_dir1/a97PXgrKSxo.003.mp4/a97PXgrKSxo.003_aligned/frame_det_00_000088.bmp', '/content/images_dir1/a97PXgrKSxo.003.mp4/a97PXgrKSxo.003_aligned/frame_det_00_000090.bmp', '/content/images_dir1/a97PXgrKSxo.003.mp4/a97PXgrKSxo.003_aligned/frame_det_00_000092.bmp', '/content/images_dir1/a97PXgrKSxo.003.mp4/a97PXgrKSxo.003_aligned/frame_det_00_000094.bmp', '/content/images_dir1/a97PXgrKSxo.003.mp4/a97PXgrKSxo.003_aligned/frame_det_00_000096.bmp', '/content/images_dir1/a97PXgrKSxo.003.mp4/a97PXgrKSxo.003_aligned/frame_det_00_000098.bmp', '/content/images_dir1/a97PXgrKSxo.003.mp4/a97PXgrKSxo.003_aligned/frame_det_00_000100.bmp', '/content/images_dir1/a97PXgrKSxo.003.mp4/a97PXgrKSxo.003_aligned/frame_det_00_000102.bmp', '/content/images_dir1/a97PXgrKSxo.003.mp4/a97PXgrKSxo.003_aligned/frame_det_00_000104.bmp', '/content/images_dir1/a97PXgrKSxo.003.mp4/a97PXgrKSxo.003_aligned/frame_det_00_000106.bmp', '/content/images_dir1/a97PXgrKSxo.003.mp4/a97PXgrKSxo.003_aligned/frame_det_00_000108.bmp', '/content/images_dir1/a97PXgrKSxo.003.mp4/a97PXgrKSxo.003_aligned/frame_det_00_000110.bmp', '/content/images_dir1/a97PXgrKSxo.003.mp4/a97PXgrKSxo.003_aligned/frame_det_00_000112.bmp', '/content/images_dir1/a97PXgrKSxo.003.mp4/a97PXgrKSxo.003_aligned/frame_det_00_000114.bmp', '/content/images_dir1/a97PXgrKSxo.003.mp4/a97PXgrKSxo.003_aligned/frame_det_00_000116.bmp', '/content/images_dir1/a97PXgrKSxo.003.mp4/a97PXgrKSxo.003_aligned/frame_det_00_000118.bmp', '/content/images_dir1/a97PXgrKSxo.003.mp4/a97PXgrKSxo.003_aligned/frame_det_00_000120.bmp'], [[0.5233644859813085, 0.6354166666666666, 0.7582417582417583, 0.6699029126213591, 0.611111111111111], [0.5233644859813085, 0.6354166666666666, 0.7582417582417583, 0.6699029126213591, 0.611111111111111], [0.5233644859813085, 0.6354166666666666, 0.7582417582417583, 0.6699029126213591, 0.611111111111111], [0.5233644859813085, 0.6354166666666666, 0.7582417582417583, 0.6699029126213591, 0.611111111111111], [0.5233644859813085, 0.6354166666666666, 0.7582417582417583, 0.6699029126213591, 0.611111111111111], [0.5233644859813085, 0.6354166666666666, 0.7582417582417583, 0.6699029126213591, 0.611111111111111], [0.5233644859813085, 0.6354166666666666, 0.7582417582417583, 0.6699029126213591, 0.611111111111111], [0.5233644859813085, 0.6354166666666666, 0.7582417582417583, 0.6699029126213591, 0.611111111111111], [0.5233644859813085, 0.6354166666666666, 0.7582417582417583, 0.6699029126213591, 0.611111111111111], [0.5233644859813085, 0.6354166666666666, 0.7582417582417583, 0.6699029126213591, 0.611111111111111], [0.5233644859813085, 0.6354166666666666, 0.7582417582417583, 0.6699029126213591, 0.611111111111111], [0.5233644859813085, 0.6354166666666666, 0.7582417582417583, 0.6699029126213591, 0.611111111111111], [0.5233644859813085, 0.6354166666666666, 0.7582417582417583, 0.6699029126213591, 0.611111111111111], [0.5233644859813085, 0.6354166666666666, 0.7582417582417583, 0.6699029126213591, 0.611111111111111], [0.5233644859813085, 0.6354166666666666, 0.7582417582417583, 0.6699029126213591, 0.611111111111111], [0.5233644859813085, 0.6354166666666666, 0.7582417582417583, 0.6699029126213591, 0.611111111111111], [0.5233644859813085, 0.6354166666666666, 0.7582417582417583, 0.6699029126213591, 0.611111111111111], [0.5233644859813085, 0.6354166666666666, 0.7582417582417583, 0.6699029126213591, 0.611111111111111], [0.5233644859813085, 0.6354166666666666, 0.7582417582417583, 0.6699029126213591, 0.611111111111111], [0.5233644859813085, 0.6354166666666666, 0.7582417582417583, 0.6699029126213591, 0.611111111111111], [0.5233644859813085, 0.6354166666666666, 0.7582417582417583, 0.6699029126213591, 0.611111111111111], [0.5233644859813085, 0.6354166666666666, 0.7582417582417583, 0.6699029126213591, 0.611111111111111], [0.5233644859813085, 0.6354166666666666, 0.7582417582417583, 0.6699029126213591, 0.611111111111111], [0.5233644859813085, 0.6354166666666666, 0.7582417582417583, 0.6699029126213591, 0.611111111111111], [0.5233644859813085, 0.6354166666666666, 0.7582417582417583, 0.6699029126213591, 0.611111111111111], [0.5233644859813085, 0.6354166666666666, 0.7582417582417583, 0.6699029126213591, 0.611111111111111], [0.5233644859813085, 0.6354166666666666, 0.7582417582417583, 0.6699029126213591, 0.611111111111111], [0.5233644859813085, 0.6354166666666666, 0.7582417582417583, 0.6699029126213591, 0.611111111111111], [0.5233644859813085, 0.6354166666666666, 0.7582417582417583, 0.6699029126213591, 0.611111111111111], [0.5233644859813085, 0.6354166666666666, 0.7582417582417583, 0.6699029126213591, 0.611111111111111], [0.5233644859813085, 0.6354166666666666, 0.7582417582417583, 0.6699029126213591, 0.611111111111111], [0.5233644859813085, 0.6354166666666666, 0.7582417582417583, 0.6699029126213591, 0.611111111111111], [0.5233644859813085, 0.6354166666666666, 0.7582417582417583, 0.6699029126213591, 0.611111111111111], [0.5233644859813085, 0.6354166666666666, 0.7582417582417583, 0.6699029126213591, 0.611111111111111], [0.5233644859813085, 0.6354166666666666, 0.7582417582417583, 0.6699029126213591, 0.611111111111111]])\n",
            "frames labels ['/content/images_dir1/a97PXgrKSxo.003.mp4/a97PXgrKSxo.003_aligned/frame_det_00_000052.bmp', '/content/images_dir1/a97PXgrKSxo.003.mp4/a97PXgrKSxo.003_aligned/frame_det_00_000054.bmp', '/content/images_dir1/a97PXgrKSxo.003.mp4/a97PXgrKSxo.003_aligned/frame_det_00_000056.bmp', '/content/images_dir1/a97PXgrKSxo.003.mp4/a97PXgrKSxo.003_aligned/frame_det_00_000058.bmp', '/content/images_dir1/a97PXgrKSxo.003.mp4/a97PXgrKSxo.003_aligned/frame_det_00_000060.bmp', '/content/images_dir1/a97PXgrKSxo.003.mp4/a97PXgrKSxo.003_aligned/frame_det_00_000062.bmp', '/content/images_dir1/a97PXgrKSxo.003.mp4/a97PXgrKSxo.003_aligned/frame_det_00_000064.bmp', '/content/images_dir1/a97PXgrKSxo.003.mp4/a97PXgrKSxo.003_aligned/frame_det_00_000066.bmp', '/content/images_dir1/a97PXgrKSxo.003.mp4/a97PXgrKSxo.003_aligned/frame_det_00_000068.bmp', '/content/images_dir1/a97PXgrKSxo.003.mp4/a97PXgrKSxo.003_aligned/frame_det_00_000070.bmp', '/content/images_dir1/a97PXgrKSxo.003.mp4/a97PXgrKSxo.003_aligned/frame_det_00_000072.bmp', '/content/images_dir1/a97PXgrKSxo.003.mp4/a97PXgrKSxo.003_aligned/frame_det_00_000074.bmp', '/content/images_dir1/a97PXgrKSxo.003.mp4/a97PXgrKSxo.003_aligned/frame_det_00_000076.bmp', '/content/images_dir1/a97PXgrKSxo.003.mp4/a97PXgrKSxo.003_aligned/frame_det_00_000078.bmp', '/content/images_dir1/a97PXgrKSxo.003.mp4/a97PXgrKSxo.003_aligned/frame_det_00_000080.bmp', '/content/images_dir1/a97PXgrKSxo.003.mp4/a97PXgrKSxo.003_aligned/frame_det_00_000082.bmp', '/content/images_dir1/a97PXgrKSxo.003.mp4/a97PXgrKSxo.003_aligned/frame_det_00_000084.bmp', '/content/images_dir1/a97PXgrKSxo.003.mp4/a97PXgrKSxo.003_aligned/frame_det_00_000086.bmp', '/content/images_dir1/a97PXgrKSxo.003.mp4/a97PXgrKSxo.003_aligned/frame_det_00_000088.bmp', '/content/images_dir1/a97PXgrKSxo.003.mp4/a97PXgrKSxo.003_aligned/frame_det_00_000090.bmp', '/content/images_dir1/a97PXgrKSxo.003.mp4/a97PXgrKSxo.003_aligned/frame_det_00_000092.bmp', '/content/images_dir1/a97PXgrKSxo.003.mp4/a97PXgrKSxo.003_aligned/frame_det_00_000094.bmp', '/content/images_dir1/a97PXgrKSxo.003.mp4/a97PXgrKSxo.003_aligned/frame_det_00_000096.bmp', '/content/images_dir1/a97PXgrKSxo.003.mp4/a97PXgrKSxo.003_aligned/frame_det_00_000098.bmp', '/content/images_dir1/a97PXgrKSxo.003.mp4/a97PXgrKSxo.003_aligned/frame_det_00_000100.bmp', '/content/images_dir1/a97PXgrKSxo.003.mp4/a97PXgrKSxo.003_aligned/frame_det_00_000102.bmp', '/content/images_dir1/a97PXgrKSxo.003.mp4/a97PXgrKSxo.003_aligned/frame_det_00_000104.bmp', '/content/images_dir1/a97PXgrKSxo.003.mp4/a97PXgrKSxo.003_aligned/frame_det_00_000106.bmp', '/content/images_dir1/a97PXgrKSxo.003.mp4/a97PXgrKSxo.003_aligned/frame_det_00_000108.bmp', '/content/images_dir1/a97PXgrKSxo.003.mp4/a97PXgrKSxo.003_aligned/frame_det_00_000110.bmp', '/content/images_dir1/a97PXgrKSxo.003.mp4/a97PXgrKSxo.003_aligned/frame_det_00_000112.bmp', '/content/images_dir1/a97PXgrKSxo.003.mp4/a97PXgrKSxo.003_aligned/frame_det_00_000114.bmp', '/content/images_dir1/a97PXgrKSxo.003.mp4/a97PXgrKSxo.003_aligned/frame_det_00_000116.bmp', '/content/images_dir1/a97PXgrKSxo.003.mp4/a97PXgrKSxo.003_aligned/frame_det_00_000118.bmp', '/content/images_dir1/a97PXgrKSxo.003.mp4/a97PXgrKSxo.003_aligned/frame_det_00_000120.bmp'] [[0.5233644859813085, 0.6354166666666666, 0.7582417582417583, 0.6699029126213591, 0.611111111111111], [0.5233644859813085, 0.6354166666666666, 0.7582417582417583, 0.6699029126213591, 0.611111111111111], [0.5233644859813085, 0.6354166666666666, 0.7582417582417583, 0.6699029126213591, 0.611111111111111], [0.5233644859813085, 0.6354166666666666, 0.7582417582417583, 0.6699029126213591, 0.611111111111111], [0.5233644859813085, 0.6354166666666666, 0.7582417582417583, 0.6699029126213591, 0.611111111111111], [0.5233644859813085, 0.6354166666666666, 0.7582417582417583, 0.6699029126213591, 0.611111111111111], [0.5233644859813085, 0.6354166666666666, 0.7582417582417583, 0.6699029126213591, 0.611111111111111], [0.5233644859813085, 0.6354166666666666, 0.7582417582417583, 0.6699029126213591, 0.611111111111111], [0.5233644859813085, 0.6354166666666666, 0.7582417582417583, 0.6699029126213591, 0.611111111111111], [0.5233644859813085, 0.6354166666666666, 0.7582417582417583, 0.6699029126213591, 0.611111111111111], [0.5233644859813085, 0.6354166666666666, 0.7582417582417583, 0.6699029126213591, 0.611111111111111], [0.5233644859813085, 0.6354166666666666, 0.7582417582417583, 0.6699029126213591, 0.611111111111111], [0.5233644859813085, 0.6354166666666666, 0.7582417582417583, 0.6699029126213591, 0.611111111111111], [0.5233644859813085, 0.6354166666666666, 0.7582417582417583, 0.6699029126213591, 0.611111111111111], [0.5233644859813085, 0.6354166666666666, 0.7582417582417583, 0.6699029126213591, 0.611111111111111], [0.5233644859813085, 0.6354166666666666, 0.7582417582417583, 0.6699029126213591, 0.611111111111111], [0.5233644859813085, 0.6354166666666666, 0.7582417582417583, 0.6699029126213591, 0.611111111111111], [0.5233644859813085, 0.6354166666666666, 0.7582417582417583, 0.6699029126213591, 0.611111111111111], [0.5233644859813085, 0.6354166666666666, 0.7582417582417583, 0.6699029126213591, 0.611111111111111], [0.5233644859813085, 0.6354166666666666, 0.7582417582417583, 0.6699029126213591, 0.611111111111111], [0.5233644859813085, 0.6354166666666666, 0.7582417582417583, 0.6699029126213591, 0.611111111111111], [0.5233644859813085, 0.6354166666666666, 0.7582417582417583, 0.6699029126213591, 0.611111111111111], [0.5233644859813085, 0.6354166666666666, 0.7582417582417583, 0.6699029126213591, 0.611111111111111], [0.5233644859813085, 0.6354166666666666, 0.7582417582417583, 0.6699029126213591, 0.611111111111111], [0.5233644859813085, 0.6354166666666666, 0.7582417582417583, 0.6699029126213591, 0.611111111111111], [0.5233644859813085, 0.6354166666666666, 0.7582417582417583, 0.6699029126213591, 0.611111111111111], [0.5233644859813085, 0.6354166666666666, 0.7582417582417583, 0.6699029126213591, 0.611111111111111], [0.5233644859813085, 0.6354166666666666, 0.7582417582417583, 0.6699029126213591, 0.611111111111111], [0.5233644859813085, 0.6354166666666666, 0.7582417582417583, 0.6699029126213591, 0.611111111111111], [0.5233644859813085, 0.6354166666666666, 0.7582417582417583, 0.6699029126213591, 0.611111111111111], [0.5233644859813085, 0.6354166666666666, 0.7582417582417583, 0.6699029126213591, 0.611111111111111], [0.5233644859813085, 0.6354166666666666, 0.7582417582417583, 0.6699029126213591, 0.611111111111111], [0.5233644859813085, 0.6354166666666666, 0.7582417582417583, 0.6699029126213591, 0.611111111111111], [0.5233644859813085, 0.6354166666666666, 0.7582417582417583, 0.6699029126213591, 0.611111111111111], [0.5233644859813085, 0.6354166666666666, 0.7582417582417583, 0.6699029126213591, 0.611111111111111]]\n",
            "[ 0  1  2  3  4  5  6  7  8  9 10 11 12 13 14 15 16 17 18 19 20 21 22 23\n",
            " 24 25 26 27 28 29 30 31 32 33 34]\n",
            "I will Create transforms\n"
          ],
          "name": "stdout"
        },
        {
          "output_type": "stream",
          "text": [
            "\n",
            "\n",
            "\n",
            "\n",
            "\n",
            "100%|██████████| 1/1 [00:00<00:00,  1.05it/s]\n"
          ],
          "name": "stderr"
        }
      ]
    },
    {
      "cell_type": "code",
      "metadata": {
        "id": "cbSkbCbVoxnH",
        "colab_type": "code",
        "colab": {
          "base_uri": "https://localhost:8080/",
          "height": 184
        },
        "outputId": "0d30432a-efe9-4c9d-9e00-9e06e09d6c8a"
      },
      "source": [
        "file_check_resnet = open(\"/content/a97PXgrKSxo.003.mp4_pool5/00054.npy\",'rb')\n"
      ],
      "execution_count": null,
      "outputs": [
        {
          "output_type": "error",
          "ename": "TypeError",
          "evalue": "ignored",
          "traceback": [
            "\u001b[0;31m---------------------------------------------------------------------------\u001b[0m",
            "\u001b[0;31mTypeError\u001b[0m                                 Traceback (most recent call last)",
            "\u001b[0;32m<ipython-input-108-e88f4a1487ff>\u001b[0m in \u001b[0;36m<module>\u001b[0;34m()\u001b[0m\n\u001b[1;32m      1\u001b[0m \u001b[0mfile_check_resnet\u001b[0m \u001b[0;34m=\u001b[0m \u001b[0mopen\u001b[0m\u001b[0;34m(\u001b[0m\u001b[0;34m\"/content/a97PXgrKSxo.003.mp4_pool5/00054.npy\"\u001b[0m\u001b[0;34m,\u001b[0m\u001b[0;34m'rb'\u001b[0m\u001b[0;34m)\u001b[0m\u001b[0;34m\u001b[0m\u001b[0;34m\u001b[0m\u001b[0m\n\u001b[0;32m----> 2\u001b[0;31m \u001b[0mprint\u001b[0m\u001b[0;34m(\u001b[0m\u001b[0mlen\u001b[0m\u001b[0;34m(\u001b[0m\u001b[0mfile_check_resnet\u001b[0m\u001b[0;34m)\u001b[0m\u001b[0;34m)\u001b[0m\u001b[0;34m\u001b[0m\u001b[0;34m\u001b[0m\u001b[0m\n\u001b[0m",
            "\u001b[0;31mTypeError\u001b[0m: object of type '_io.BufferedReader' has no len()"
          ]
        }
      ]
    },
    {
      "cell_type": "code",
      "metadata": {
        "id": "rXhQwSNV5IY-",
        "colab_type": "code",
        "colab": {}
      },
      "source": [
        ""
      ],
      "execution_count": null,
      "outputs": []
    }
  ]
}